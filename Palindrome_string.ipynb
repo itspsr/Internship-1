{
 "cells": [
  {
   "cell_type": "code",
   "execution_count": 2,
   "id": "18a5b01f",
   "metadata": {},
   "outputs": [
    {
     "name": "stdout",
     "output_type": "stream",
     "text": [
      "Enter a String:mom\n",
      "The Word is a palindrome\n"
     ]
    }
   ],
   "source": [
    "word=input((\"Enter a String:\"))  \n",
    "if(word==word[::-1]):  \n",
    "      print(\"The Word is a palindrome\")  \n",
    "else:  \n",
    "      print(\"The Word is not a palindrome\")  \n"
   ]
  },
  {
   "cell_type": "code",
   "execution_count": null,
   "id": "ae67bee3",
   "metadata": {},
   "outputs": [],
   "source": []
  }
 ],
 "metadata": {
  "kernelspec": {
   "display_name": "Python 3",
   "language": "python",
   "name": "python3"
  },
  "language_info": {
   "codemirror_mode": {
    "name": "ipython",
    "version": 3
   },
   "file_extension": ".py",
   "mimetype": "text/x-python",
   "name": "python",
   "nbconvert_exporter": "python",
   "pygments_lexer": "ipython3",
   "version": "3.8.8"
  }
 },
 "nbformat": 4,
 "nbformat_minor": 5
}
