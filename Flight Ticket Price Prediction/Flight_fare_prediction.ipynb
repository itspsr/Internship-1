{
 "cells": [
  {
   "cell_type": "markdown",
   "id": "dd92dc39",
   "metadata": {},
   "source": [
    "# Problem Statement:-\n",
    "Anyone who has booked a flight ticket knows how unexpectedly the prices vary. The cheapest available ticket on a given flight gets more and less expensive over time. This usually happens as an attempt to maximize revenue based on -\n",
    "1. Time of purchase patterns (making sure last-minute purchases are expensive)\n",
    "2. Keeping the flight as full as they want it (raising prices on a flight which is filling up in order to reduce sales and hold back inventory for those expensive last-minute expensive \n",
    "So, we have to work on a project where we have to collect data of flight fares with other features and work to make a model to predict fares of flights. \n"
   ]
  },
  {
   "cell_type": "markdown",
   "id": "2c152ed6",
   "metadata": {},
   "source": [
    "# Data Collection:-\n",
    "I have done data collection part from paytm website using selenium with python.I have collected 7928 rows and saved it into a csv file."
   ]
  },
  {
   "cell_type": "markdown",
   "id": "0a19577c",
   "metadata": {},
   "source": [
    "*** Since price/fare is a continuous variable,so predicting fare/price is a regression problem."
   ]
  },
  {
   "cell_type": "code",
   "execution_count": 52,
   "id": "a93a5d23",
   "metadata": {},
   "outputs": [],
   "source": [
    "## Importing necessary libraries:-\n",
    "import pandas as pd\n",
    "import numpy as np\n",
    "import seaborn as sns\n",
    "import matplotlib.pyplot as plt\n",
    "import warnings\n",
    "warnings.filterwarnings(\"ignore\")\n"
   ]
  },
  {
   "cell_type": "code",
   "execution_count": 53,
   "id": "81cf59ab",
   "metadata": {},
   "outputs": [
    {
     "data": {
      "text/html": [
       "<div>\n",
       "<style scoped>\n",
       "    .dataframe tbody tr th:only-of-type {\n",
       "        vertical-align: middle;\n",
       "    }\n",
       "\n",
       "    .dataframe tbody tr th {\n",
       "        vertical-align: top;\n",
       "    }\n",
       "\n",
       "    .dataframe thead th {\n",
       "        text-align: right;\n",
       "    }\n",
       "</style>\n",
       "<table border=\"1\" class=\"dataframe\">\n",
       "  <thead>\n",
       "    <tr style=\"text-align: right;\">\n",
       "      <th></th>\n",
       "      <th>Unnamed: 0</th>\n",
       "      <th>flight_name</th>\n",
       "      <th>flight_id</th>\n",
       "      <th>start_time</th>\n",
       "      <th>end_time</th>\n",
       "      <th>travel_time</th>\n",
       "      <th>stops</th>\n",
       "      <th>fare</th>\n",
       "      <th>source</th>\n",
       "      <th>destination</th>\n",
       "    </tr>\n",
       "  </thead>\n",
       "  <tbody>\n",
       "    <tr>\n",
       "      <th>0</th>\n",
       "      <td>0</td>\n",
       "      <td>SpiceJet</td>\n",
       "      <td>SG - 534</td>\n",
       "      <td>22:30</td>\n",
       "      <td>01:15</td>\n",
       "      <td>2h 45m</td>\n",
       "      <td>Non Stop</td>\n",
       "      <td>8,160</td>\n",
       "      <td>DEL-Delhi</td>\n",
       "      <td>BLR-Bengaluru</td>\n",
       "    </tr>\n",
       "    <tr>\n",
       "      <th>1</th>\n",
       "      <td>1</td>\n",
       "      <td>IndiGo</td>\n",
       "      <td>6E - 2036</td>\n",
       "      <td>22:50</td>\n",
       "      <td>01:45</td>\n",
       "      <td>2h 55m</td>\n",
       "      <td>Non Stop</td>\n",
       "      <td>8,160</td>\n",
       "      <td>DEL-Delhi</td>\n",
       "      <td>BLR-Bengaluru</td>\n",
       "    </tr>\n",
       "    <tr>\n",
       "      <th>2</th>\n",
       "      <td>2</td>\n",
       "      <td>Go First</td>\n",
       "      <td>G8 - 275</td>\n",
       "      <td>21:45</td>\n",
       "      <td>03:00</td>\n",
       "      <td>5h 15m</td>\n",
       "      <td>1 stop at Pune</td>\n",
       "      <td>8,160</td>\n",
       "      <td>DEL-Delhi</td>\n",
       "      <td>BLR-Bengaluru</td>\n",
       "    </tr>\n",
       "    <tr>\n",
       "      <th>3</th>\n",
       "      <td>3</td>\n",
       "      <td>Go First</td>\n",
       "      <td>G8 - 2511</td>\n",
       "      <td>10:45</td>\n",
       "      <td>16:05</td>\n",
       "      <td>5h 20m</td>\n",
       "      <td>1 stop at Patna</td>\n",
       "      <td>8,160</td>\n",
       "      <td>DEL-Delhi</td>\n",
       "      <td>BLR-Bengaluru</td>\n",
       "    </tr>\n",
       "    <tr>\n",
       "      <th>4</th>\n",
       "      <td>4</td>\n",
       "      <td>Go First</td>\n",
       "      <td>G8 - 165</td>\n",
       "      <td>10:00</td>\n",
       "      <td>16:05</td>\n",
       "      <td>6h 5m</td>\n",
       "      <td>1 stop at Patna</td>\n",
       "      <td>8,160</td>\n",
       "      <td>DEL-Delhi</td>\n",
       "      <td>BLR-Bengaluru</td>\n",
       "    </tr>\n",
       "  </tbody>\n",
       "</table>\n",
       "</div>"
      ],
      "text/plain": [
       "   Unnamed: 0 flight_name  flight_id start_time end_time travel_time  \\\n",
       "0           0    SpiceJet   SG - 534      22:30    01:15      2h 45m   \n",
       "1           1      IndiGo  6E - 2036      22:50    01:45      2h 55m   \n",
       "2           2    Go First   G8 - 275      21:45    03:00      5h 15m   \n",
       "3           3    Go First  G8 - 2511      10:45    16:05      5h 20m   \n",
       "4           4    Go First   G8 - 165      10:00    16:05       6h 5m   \n",
       "\n",
       "             stops   fare     source    destination  \n",
       "0         Non Stop  8,160  DEL-Delhi  BLR-Bengaluru  \n",
       "1         Non Stop  8,160  DEL-Delhi  BLR-Bengaluru  \n",
       "2   1 stop at Pune  8,160  DEL-Delhi  BLR-Bengaluru  \n",
       "3  1 stop at Patna  8,160  DEL-Delhi  BLR-Bengaluru  \n",
       "4  1 stop at Patna  8,160  DEL-Delhi  BLR-Bengaluru  "
      ]
     },
     "execution_count": 53,
     "metadata": {},
     "output_type": "execute_result"
    }
   ],
   "source": [
    "## Fetching csv file:\n",
    "df = pd.read_csv(\"flight_data_paytm.csv\")\n",
    "df.head()"
   ]
  },
  {
   "cell_type": "code",
   "execution_count": 4,
   "id": "b9710cbe",
   "metadata": {},
   "outputs": [
    {
     "data": {
      "text/plain": [
       "(7927, 10)"
      ]
     },
     "execution_count": 4,
     "metadata": {},
     "output_type": "execute_result"
    }
   ],
   "source": [
    "## Size of the dataframe\n",
    "df.shape"
   ]
  },
  {
   "cell_type": "markdown",
   "id": "4f2ac5a7",
   "metadata": {},
   "source": [
    "There are 7927 rows and 10 columns."
   ]
  },
  {
   "cell_type": "code",
   "execution_count": 4,
   "id": "7b47ed38",
   "metadata": {},
   "outputs": [
    {
     "name": "stdout",
     "output_type": "stream",
     "text": [
      "<class 'pandas.core.frame.DataFrame'>\n",
      "RangeIndex: 7927 entries, 0 to 7926\n",
      "Data columns (total 10 columns):\n",
      " #   Column       Non-Null Count  Dtype \n",
      "---  ------       --------------  ----- \n",
      " 0   Unnamed: 0   7927 non-null   int64 \n",
      " 1   flight_name  7927 non-null   object\n",
      " 2   flight_id    7927 non-null   object\n",
      " 3   start_time   7927 non-null   object\n",
      " 4   end_time     7927 non-null   object\n",
      " 5   travel_time  7927 non-null   object\n",
      " 6   stops        7927 non-null   object\n",
      " 7   fare         7927 non-null   object\n",
      " 8   source       7927 non-null   object\n",
      " 9   destination  7927 non-null   object\n",
      "dtypes: int64(1), object(9)\n",
      "memory usage: 619.4+ KB\n"
     ]
    }
   ],
   "source": [
    "## Checking meta data about data frame\n",
    "df.info()"
   ]
  },
  {
   "cell_type": "markdown",
   "id": "53988251",
   "metadata": {},
   "source": [
    "So from above result,we can see there is not any null values present in dataset and all features data type are object."
   ]
  },
  {
   "cell_type": "code",
   "execution_count": 5,
   "id": "6796d248",
   "metadata": {},
   "outputs": [
    {
     "data": {
      "text/plain": [
       "Unnamed: 0     0\n",
       "flight_name    0\n",
       "flight_id      0\n",
       "start_time     0\n",
       "end_time       0\n",
       "travel_time    0\n",
       "stops          0\n",
       "fare           0\n",
       "source         0\n",
       "destination    0\n",
       "dtype: int64"
      ]
     },
     "execution_count": 5,
     "metadata": {},
     "output_type": "execute_result"
    }
   ],
   "source": [
    "## Again rechecking for null values:\n",
    "df.isnull().sum()"
   ]
  },
  {
   "cell_type": "markdown",
   "id": "9860c084",
   "metadata": {},
   "source": [
    "There is not any null values present in dataset."
   ]
  },
  {
   "cell_type": "code",
   "execution_count": 6,
   "id": "1aabb8b8",
   "metadata": {},
   "outputs": [
    {
     "data": {
      "text/plain": [
       "Vistara      2533\n",
       "IndiGo       2275\n",
       "Air India    1913\n",
       "Go First      582\n",
       "SpiceJet      321\n",
       "Air Asia      303\n",
       "Name: flight_name, dtype: int64"
      ]
     },
     "execution_count": 6,
     "metadata": {},
     "output_type": "execute_result"
    }
   ],
   "source": [
    "df['flight_name'].value_counts()"
   ]
  },
  {
   "cell_type": "markdown",
   "id": "dcf63d46",
   "metadata": {},
   "source": [
    "Most number of flights are from Vistara followed by Indigo and Air India."
   ]
  },
  {
   "cell_type": "code",
   "execution_count": 7,
   "id": "fab37e05",
   "metadata": {},
   "outputs": [
    {
     "data": {
      "text/plain": [
       "BOM-Mumbai                1518\n",
       "BLR-Bengaluru             1086\n",
       "DEL-Delhi                  921\n",
       "CU-Kolkata                 724\n",
       "HYD-Hyderabad              641\n",
       "MAA-Chennai                384\n",
       "AMD-Ahmedabad              307\n",
       "GOI-Goa                    264\n",
       "GAU-Guwahati               232\n",
       "PNQ-Pune                   213\n",
       "PAT-Patna                  191\n",
       "LKO-Lucknow                188\n",
       "SXR-Srinagar               181\n",
       "BBI-Bhubaneshwar           158\n",
       "JAI-Jaipur                 142\n",
       "COK-Kochi                  142\n",
       "VNS-Varanasi               135\n",
       "IXC-Chandigarh             134\n",
       "IXB-Bagdogra               103\n",
       "VTZ-Vishakhapatnam          68\n",
       "RPR-Raipur                  62\n",
       "IXR-Ranchi                  48\n",
       "NAG-Nagpur                  36\n",
       "IDR-Indore                  12\n",
       "CJB-Coimbatore              10\n",
       "IXJ-Jammu                    8\n",
       "ATQ-Amritsar                 7\n",
       "TRV-Thiruvananthapuram       6\n",
       "CCJ-Kozhikode                6\n",
       "Name: source, dtype: int64"
      ]
     },
     "execution_count": 7,
     "metadata": {},
     "output_type": "execute_result"
    }
   ],
   "source": [
    "df['source'].value_counts()"
   ]
  },
  {
   "cell_type": "code",
   "execution_count": 9,
   "id": "ba398d42",
   "metadata": {},
   "outputs": [
    {
     "data": {
      "text/plain": [
       "IXC-Chandigarh            501\n",
       "CU-Kolkata                382\n",
       "PNQ-Pune                  378\n",
       "GAU-Guwahati              376\n",
       "IXR-Ranchi                374\n",
       "GOI-Goa                   359\n",
       "VNS-Varanasi              332\n",
       "DED-Dehradun              330\n",
       "LKO-Lucknow               325\n",
       "BBI-Bhubaneshwar          318\n",
       "ATQ-Amritsar              307\n",
       "MAA-Chennai               307\n",
       "JAI-Jaipur                303\n",
       "CJB-Coimbatore            295\n",
       "IXB-Bagdogra              290\n",
       "COK-Kochi                 266\n",
       "AMD-Ahmedabad             264\n",
       "PAT-Patna                 252\n",
       "NAG-Nagpur                237\n",
       "IDR-Indore                233\n",
       "IXJ-Jammu                 231\n",
       "BLR-Bengaluru             228\n",
       "HYD-Hyderabad             218\n",
       "TRV-Thiruvananthapuram    216\n",
       "VTZ-Vishakhapatnam        209\n",
       "SXR-Srinagar              184\n",
       "RPR-Raipur                162\n",
       "CCJ-Kozhikode              50\n",
       "Name: destination, dtype: int64"
      ]
     },
     "execution_count": 9,
     "metadata": {},
     "output_type": "execute_result"
    }
   ],
   "source": [
    "df['destination'].value_counts()"
   ]
  },
  {
   "cell_type": "code",
   "execution_count": 10,
   "id": "f0d1c122",
   "metadata": {},
   "outputs": [
    {
     "data": {
      "text/plain": [
       "1 stop at Delhi                 2802\n",
       "2 Stops (BOM, DEL)               620\n",
       "1 stop at Mumbai                 608\n",
       "Non Stop                         578\n",
       "1 stop at Bengaluru              532\n",
       "                                ... \n",
       "2 Stops (IDR, RPR)                 1\n",
       "4 Stops (ISK, AMD, DEL, MAA)       1\n",
       "4 Stops (IXU, DEL, BLR, HYD)       1\n",
       "1 stop at Kannur                   1\n",
       "1 stop at Hubli                    1\n",
       "Name: stops, Length: 203, dtype: int64"
      ]
     },
     "execution_count": 10,
     "metadata": {},
     "output_type": "execute_result"
    }
   ],
   "source": [
    "df['stops'].value_counts()"
   ]
  },
  {
   "cell_type": "code",
   "execution_count": 11,
   "id": "def6e4fc",
   "metadata": {},
   "outputs": [
    {
     "data": {
      "text/plain": [
       "8h 30m     46\n",
       "18h 15m    46\n",
       "7h 15m     44\n",
       "22h 40m    44\n",
       "17h 10m    42\n",
       "           ..\n",
       "33h 15m     1\n",
       "30h 25m     1\n",
       "36h 40m     1\n",
       "33h 40m     1\n",
       "33h 20m     1\n",
       "Name: travel_time, Length: 397, dtype: int64"
      ]
     },
     "execution_count": 11,
     "metadata": {},
     "output_type": "execute_result"
    }
   ],
   "source": [
    "df['travel_time'].value_counts()"
   ]
  },
  {
   "cell_type": "markdown",
   "id": "51c2f15f",
   "metadata": {},
   "source": [
    "# Data Cleaning"
   ]
  },
  {
   "cell_type": "code",
   "execution_count": 54,
   "id": "0f93506b",
   "metadata": {},
   "outputs": [],
   "source": [
    "## Unnamed: 0 column is nothing but an index so dropping this column.\n",
    "df.drop('Unnamed: 0',axis=1,inplace = True)"
   ]
  },
  {
   "cell_type": "code",
   "execution_count": 13,
   "id": "fe0c69b7",
   "metadata": {},
   "outputs": [
    {
     "data": {
      "text/html": [
       "<div>\n",
       "<style scoped>\n",
       "    .dataframe tbody tr th:only-of-type {\n",
       "        vertical-align: middle;\n",
       "    }\n",
       "\n",
       "    .dataframe tbody tr th {\n",
       "        vertical-align: top;\n",
       "    }\n",
       "\n",
       "    .dataframe thead th {\n",
       "        text-align: right;\n",
       "    }\n",
       "</style>\n",
       "<table border=\"1\" class=\"dataframe\">\n",
       "  <thead>\n",
       "    <tr style=\"text-align: right;\">\n",
       "      <th></th>\n",
       "      <th>flight_name</th>\n",
       "      <th>flight_id</th>\n",
       "      <th>start_time</th>\n",
       "      <th>end_time</th>\n",
       "      <th>travel_time</th>\n",
       "      <th>stops</th>\n",
       "      <th>fare</th>\n",
       "      <th>source</th>\n",
       "      <th>destination</th>\n",
       "    </tr>\n",
       "  </thead>\n",
       "  <tbody>\n",
       "    <tr>\n",
       "      <th>0</th>\n",
       "      <td>SpiceJet</td>\n",
       "      <td>SG - 534</td>\n",
       "      <td>22:30</td>\n",
       "      <td>01:15</td>\n",
       "      <td>2h 45m</td>\n",
       "      <td>Non Stop</td>\n",
       "      <td>8,160</td>\n",
       "      <td>DEL-Delhi</td>\n",
       "      <td>BLR-Bengaluru</td>\n",
       "    </tr>\n",
       "    <tr>\n",
       "      <th>1</th>\n",
       "      <td>IndiGo</td>\n",
       "      <td>6E - 2036</td>\n",
       "      <td>22:50</td>\n",
       "      <td>01:45</td>\n",
       "      <td>2h 55m</td>\n",
       "      <td>Non Stop</td>\n",
       "      <td>8,160</td>\n",
       "      <td>DEL-Delhi</td>\n",
       "      <td>BLR-Bengaluru</td>\n",
       "    </tr>\n",
       "    <tr>\n",
       "      <th>2</th>\n",
       "      <td>Go First</td>\n",
       "      <td>G8 - 275</td>\n",
       "      <td>21:45</td>\n",
       "      <td>03:00</td>\n",
       "      <td>5h 15m</td>\n",
       "      <td>1 stop at Pune</td>\n",
       "      <td>8,160</td>\n",
       "      <td>DEL-Delhi</td>\n",
       "      <td>BLR-Bengaluru</td>\n",
       "    </tr>\n",
       "    <tr>\n",
       "      <th>3</th>\n",
       "      <td>Go First</td>\n",
       "      <td>G8 - 2511</td>\n",
       "      <td>10:45</td>\n",
       "      <td>16:05</td>\n",
       "      <td>5h 20m</td>\n",
       "      <td>1 stop at Patna</td>\n",
       "      <td>8,160</td>\n",
       "      <td>DEL-Delhi</td>\n",
       "      <td>BLR-Bengaluru</td>\n",
       "    </tr>\n",
       "    <tr>\n",
       "      <th>4</th>\n",
       "      <td>Go First</td>\n",
       "      <td>G8 - 165</td>\n",
       "      <td>10:00</td>\n",
       "      <td>16:05</td>\n",
       "      <td>6h 5m</td>\n",
       "      <td>1 stop at Patna</td>\n",
       "      <td>8,160</td>\n",
       "      <td>DEL-Delhi</td>\n",
       "      <td>BLR-Bengaluru</td>\n",
       "    </tr>\n",
       "  </tbody>\n",
       "</table>\n",
       "</div>"
      ],
      "text/plain": [
       "  flight_name  flight_id start_time end_time travel_time            stops  \\\n",
       "0    SpiceJet   SG - 534      22:30    01:15      2h 45m         Non Stop   \n",
       "1      IndiGo  6E - 2036      22:50    01:45      2h 55m         Non Stop   \n",
       "2    Go First   G8 - 275      21:45    03:00      5h 15m   1 stop at Pune   \n",
       "3    Go First  G8 - 2511      10:45    16:05      5h 20m  1 stop at Patna   \n",
       "4    Go First   G8 - 165      10:00    16:05       6h 5m  1 stop at Patna   \n",
       "\n",
       "    fare     source    destination  \n",
       "0  8,160  DEL-Delhi  BLR-Bengaluru  \n",
       "1  8,160  DEL-Delhi  BLR-Bengaluru  \n",
       "2  8,160  DEL-Delhi  BLR-Bengaluru  \n",
       "3  8,160  DEL-Delhi  BLR-Bengaluru  \n",
       "4  8,160  DEL-Delhi  BLR-Bengaluru  "
      ]
     },
     "execution_count": 13,
     "metadata": {},
     "output_type": "execute_result"
    }
   ],
   "source": [
    "df.head()"
   ]
  },
  {
   "cell_type": "code",
   "execution_count": 55,
   "id": "5e0b34f7",
   "metadata": {},
   "outputs": [],
   "source": [
    "## extracting Hour and Minute from start time:-\n",
    "df['dep_hour'] = pd.DatetimeIndex(df['start_time']).hour\n",
    "df['dep_minute'] = pd.DatetimeIndex(df['start_time']).minute"
   ]
  },
  {
   "cell_type": "code",
   "execution_count": 15,
   "id": "824dd665",
   "metadata": {},
   "outputs": [
    {
     "data": {
      "text/html": [
       "<div>\n",
       "<style scoped>\n",
       "    .dataframe tbody tr th:only-of-type {\n",
       "        vertical-align: middle;\n",
       "    }\n",
       "\n",
       "    .dataframe tbody tr th {\n",
       "        vertical-align: top;\n",
       "    }\n",
       "\n",
       "    .dataframe thead th {\n",
       "        text-align: right;\n",
       "    }\n",
       "</style>\n",
       "<table border=\"1\" class=\"dataframe\">\n",
       "  <thead>\n",
       "    <tr style=\"text-align: right;\">\n",
       "      <th></th>\n",
       "      <th>flight_name</th>\n",
       "      <th>flight_id</th>\n",
       "      <th>start_time</th>\n",
       "      <th>end_time</th>\n",
       "      <th>travel_time</th>\n",
       "      <th>stops</th>\n",
       "      <th>fare</th>\n",
       "      <th>source</th>\n",
       "      <th>destination</th>\n",
       "      <th>dep_hour</th>\n",
       "      <th>dep_minute</th>\n",
       "    </tr>\n",
       "  </thead>\n",
       "  <tbody>\n",
       "    <tr>\n",
       "      <th>0</th>\n",
       "      <td>SpiceJet</td>\n",
       "      <td>SG - 534</td>\n",
       "      <td>22:30</td>\n",
       "      <td>01:15</td>\n",
       "      <td>2h 45m</td>\n",
       "      <td>Non Stop</td>\n",
       "      <td>8,160</td>\n",
       "      <td>DEL-Delhi</td>\n",
       "      <td>BLR-Bengaluru</td>\n",
       "      <td>22</td>\n",
       "      <td>30</td>\n",
       "    </tr>\n",
       "    <tr>\n",
       "      <th>1</th>\n",
       "      <td>IndiGo</td>\n",
       "      <td>6E - 2036</td>\n",
       "      <td>22:50</td>\n",
       "      <td>01:45</td>\n",
       "      <td>2h 55m</td>\n",
       "      <td>Non Stop</td>\n",
       "      <td>8,160</td>\n",
       "      <td>DEL-Delhi</td>\n",
       "      <td>BLR-Bengaluru</td>\n",
       "      <td>22</td>\n",
       "      <td>50</td>\n",
       "    </tr>\n",
       "    <tr>\n",
       "      <th>2</th>\n",
       "      <td>Go First</td>\n",
       "      <td>G8 - 275</td>\n",
       "      <td>21:45</td>\n",
       "      <td>03:00</td>\n",
       "      <td>5h 15m</td>\n",
       "      <td>1 stop at Pune</td>\n",
       "      <td>8,160</td>\n",
       "      <td>DEL-Delhi</td>\n",
       "      <td>BLR-Bengaluru</td>\n",
       "      <td>21</td>\n",
       "      <td>45</td>\n",
       "    </tr>\n",
       "    <tr>\n",
       "      <th>3</th>\n",
       "      <td>Go First</td>\n",
       "      <td>G8 - 2511</td>\n",
       "      <td>10:45</td>\n",
       "      <td>16:05</td>\n",
       "      <td>5h 20m</td>\n",
       "      <td>1 stop at Patna</td>\n",
       "      <td>8,160</td>\n",
       "      <td>DEL-Delhi</td>\n",
       "      <td>BLR-Bengaluru</td>\n",
       "      <td>10</td>\n",
       "      <td>45</td>\n",
       "    </tr>\n",
       "    <tr>\n",
       "      <th>4</th>\n",
       "      <td>Go First</td>\n",
       "      <td>G8 - 165</td>\n",
       "      <td>10:00</td>\n",
       "      <td>16:05</td>\n",
       "      <td>6h 5m</td>\n",
       "      <td>1 stop at Patna</td>\n",
       "      <td>8,160</td>\n",
       "      <td>DEL-Delhi</td>\n",
       "      <td>BLR-Bengaluru</td>\n",
       "      <td>10</td>\n",
       "      <td>0</td>\n",
       "    </tr>\n",
       "  </tbody>\n",
       "</table>\n",
       "</div>"
      ],
      "text/plain": [
       "  flight_name  flight_id start_time end_time travel_time            stops  \\\n",
       "0    SpiceJet   SG - 534      22:30    01:15      2h 45m         Non Stop   \n",
       "1      IndiGo  6E - 2036      22:50    01:45      2h 55m         Non Stop   \n",
       "2    Go First   G8 - 275      21:45    03:00      5h 15m   1 stop at Pune   \n",
       "3    Go First  G8 - 2511      10:45    16:05      5h 20m  1 stop at Patna   \n",
       "4    Go First   G8 - 165      10:00    16:05       6h 5m  1 stop at Patna   \n",
       "\n",
       "    fare     source    destination  dep_hour  dep_minute  \n",
       "0  8,160  DEL-Delhi  BLR-Bengaluru        22          30  \n",
       "1  8,160  DEL-Delhi  BLR-Bengaluru        22          50  \n",
       "2  8,160  DEL-Delhi  BLR-Bengaluru        21          45  \n",
       "3  8,160  DEL-Delhi  BLR-Bengaluru        10          45  \n",
       "4  8,160  DEL-Delhi  BLR-Bengaluru        10           0  "
      ]
     },
     "execution_count": 15,
     "metadata": {},
     "output_type": "execute_result"
    }
   ],
   "source": [
    "df.head()"
   ]
  },
  {
   "cell_type": "code",
   "execution_count": 56,
   "id": "5e319ed0",
   "metadata": {},
   "outputs": [],
   "source": [
    "## Extracted dep hour and dep minute, so dropping start_time column\n",
    "df.drop('start_time',axis=1,inplace = True )"
   ]
  },
  {
   "cell_type": "code",
   "execution_count": 17,
   "id": "c7831641",
   "metadata": {},
   "outputs": [
    {
     "data": {
      "text/html": [
       "<div>\n",
       "<style scoped>\n",
       "    .dataframe tbody tr th:only-of-type {\n",
       "        vertical-align: middle;\n",
       "    }\n",
       "\n",
       "    .dataframe tbody tr th {\n",
       "        vertical-align: top;\n",
       "    }\n",
       "\n",
       "    .dataframe thead th {\n",
       "        text-align: right;\n",
       "    }\n",
       "</style>\n",
       "<table border=\"1\" class=\"dataframe\">\n",
       "  <thead>\n",
       "    <tr style=\"text-align: right;\">\n",
       "      <th></th>\n",
       "      <th>flight_name</th>\n",
       "      <th>flight_id</th>\n",
       "      <th>end_time</th>\n",
       "      <th>travel_time</th>\n",
       "      <th>stops</th>\n",
       "      <th>fare</th>\n",
       "      <th>source</th>\n",
       "      <th>destination</th>\n",
       "      <th>dep_hour</th>\n",
       "      <th>dep_minute</th>\n",
       "    </tr>\n",
       "  </thead>\n",
       "  <tbody>\n",
       "    <tr>\n",
       "      <th>0</th>\n",
       "      <td>SpiceJet</td>\n",
       "      <td>SG - 534</td>\n",
       "      <td>01:15</td>\n",
       "      <td>2h 45m</td>\n",
       "      <td>Non Stop</td>\n",
       "      <td>8,160</td>\n",
       "      <td>DEL-Delhi</td>\n",
       "      <td>BLR-Bengaluru</td>\n",
       "      <td>22</td>\n",
       "      <td>30</td>\n",
       "    </tr>\n",
       "    <tr>\n",
       "      <th>1</th>\n",
       "      <td>IndiGo</td>\n",
       "      <td>6E - 2036</td>\n",
       "      <td>01:45</td>\n",
       "      <td>2h 55m</td>\n",
       "      <td>Non Stop</td>\n",
       "      <td>8,160</td>\n",
       "      <td>DEL-Delhi</td>\n",
       "      <td>BLR-Bengaluru</td>\n",
       "      <td>22</td>\n",
       "      <td>50</td>\n",
       "    </tr>\n",
       "    <tr>\n",
       "      <th>2</th>\n",
       "      <td>Go First</td>\n",
       "      <td>G8 - 275</td>\n",
       "      <td>03:00</td>\n",
       "      <td>5h 15m</td>\n",
       "      <td>1 stop at Pune</td>\n",
       "      <td>8,160</td>\n",
       "      <td>DEL-Delhi</td>\n",
       "      <td>BLR-Bengaluru</td>\n",
       "      <td>21</td>\n",
       "      <td>45</td>\n",
       "    </tr>\n",
       "    <tr>\n",
       "      <th>3</th>\n",
       "      <td>Go First</td>\n",
       "      <td>G8 - 2511</td>\n",
       "      <td>16:05</td>\n",
       "      <td>5h 20m</td>\n",
       "      <td>1 stop at Patna</td>\n",
       "      <td>8,160</td>\n",
       "      <td>DEL-Delhi</td>\n",
       "      <td>BLR-Bengaluru</td>\n",
       "      <td>10</td>\n",
       "      <td>45</td>\n",
       "    </tr>\n",
       "    <tr>\n",
       "      <th>4</th>\n",
       "      <td>Go First</td>\n",
       "      <td>G8 - 165</td>\n",
       "      <td>16:05</td>\n",
       "      <td>6h 5m</td>\n",
       "      <td>1 stop at Patna</td>\n",
       "      <td>8,160</td>\n",
       "      <td>DEL-Delhi</td>\n",
       "      <td>BLR-Bengaluru</td>\n",
       "      <td>10</td>\n",
       "      <td>0</td>\n",
       "    </tr>\n",
       "  </tbody>\n",
       "</table>\n",
       "</div>"
      ],
      "text/plain": [
       "  flight_name  flight_id end_time travel_time            stops   fare  \\\n",
       "0    SpiceJet   SG - 534    01:15      2h 45m         Non Stop  8,160   \n",
       "1      IndiGo  6E - 2036    01:45      2h 55m         Non Stop  8,160   \n",
       "2    Go First   G8 - 275    03:00      5h 15m   1 stop at Pune  8,160   \n",
       "3    Go First  G8 - 2511    16:05      5h 20m  1 stop at Patna  8,160   \n",
       "4    Go First   G8 - 165    16:05       6h 5m  1 stop at Patna  8,160   \n",
       "\n",
       "      source    destination  dep_hour  dep_minute  \n",
       "0  DEL-Delhi  BLR-Bengaluru        22          30  \n",
       "1  DEL-Delhi  BLR-Bengaluru        22          50  \n",
       "2  DEL-Delhi  BLR-Bengaluru        21          45  \n",
       "3  DEL-Delhi  BLR-Bengaluru        10          45  \n",
       "4  DEL-Delhi  BLR-Bengaluru        10           0  "
      ]
     },
     "execution_count": 17,
     "metadata": {},
     "output_type": "execute_result"
    }
   ],
   "source": [
    "df.head()"
   ]
  },
  {
   "cell_type": "code",
   "execution_count": 57,
   "id": "70f1b898",
   "metadata": {},
   "outputs": [],
   "source": [
    "## Extract arrival hour and arrival minute from end time:\n",
    "df['arr_hour'] = pd.DatetimeIndex(df['end_time']).hour\n",
    "df['arr_minute'] = pd.DatetimeIndex(df['end_time']).minute\n"
   ]
  },
  {
   "cell_type": "code",
   "execution_count": 19,
   "id": "8fad3619",
   "metadata": {},
   "outputs": [
    {
     "data": {
      "text/html": [
       "<div>\n",
       "<style scoped>\n",
       "    .dataframe tbody tr th:only-of-type {\n",
       "        vertical-align: middle;\n",
       "    }\n",
       "\n",
       "    .dataframe tbody tr th {\n",
       "        vertical-align: top;\n",
       "    }\n",
       "\n",
       "    .dataframe thead th {\n",
       "        text-align: right;\n",
       "    }\n",
       "</style>\n",
       "<table border=\"1\" class=\"dataframe\">\n",
       "  <thead>\n",
       "    <tr style=\"text-align: right;\">\n",
       "      <th></th>\n",
       "      <th>flight_name</th>\n",
       "      <th>flight_id</th>\n",
       "      <th>end_time</th>\n",
       "      <th>travel_time</th>\n",
       "      <th>stops</th>\n",
       "      <th>fare</th>\n",
       "      <th>source</th>\n",
       "      <th>destination</th>\n",
       "      <th>dep_hour</th>\n",
       "      <th>dep_minute</th>\n",
       "      <th>arr_hour</th>\n",
       "      <th>arr_minute</th>\n",
       "    </tr>\n",
       "  </thead>\n",
       "  <tbody>\n",
       "    <tr>\n",
       "      <th>0</th>\n",
       "      <td>SpiceJet</td>\n",
       "      <td>SG - 534</td>\n",
       "      <td>01:15</td>\n",
       "      <td>2h 45m</td>\n",
       "      <td>Non Stop</td>\n",
       "      <td>8,160</td>\n",
       "      <td>DEL-Delhi</td>\n",
       "      <td>BLR-Bengaluru</td>\n",
       "      <td>22</td>\n",
       "      <td>30</td>\n",
       "      <td>1</td>\n",
       "      <td>15</td>\n",
       "    </tr>\n",
       "    <tr>\n",
       "      <th>1</th>\n",
       "      <td>IndiGo</td>\n",
       "      <td>6E - 2036</td>\n",
       "      <td>01:45</td>\n",
       "      <td>2h 55m</td>\n",
       "      <td>Non Stop</td>\n",
       "      <td>8,160</td>\n",
       "      <td>DEL-Delhi</td>\n",
       "      <td>BLR-Bengaluru</td>\n",
       "      <td>22</td>\n",
       "      <td>50</td>\n",
       "      <td>1</td>\n",
       "      <td>45</td>\n",
       "    </tr>\n",
       "    <tr>\n",
       "      <th>2</th>\n",
       "      <td>Go First</td>\n",
       "      <td>G8 - 275</td>\n",
       "      <td>03:00</td>\n",
       "      <td>5h 15m</td>\n",
       "      <td>1 stop at Pune</td>\n",
       "      <td>8,160</td>\n",
       "      <td>DEL-Delhi</td>\n",
       "      <td>BLR-Bengaluru</td>\n",
       "      <td>21</td>\n",
       "      <td>45</td>\n",
       "      <td>3</td>\n",
       "      <td>0</td>\n",
       "    </tr>\n",
       "    <tr>\n",
       "      <th>3</th>\n",
       "      <td>Go First</td>\n",
       "      <td>G8 - 2511</td>\n",
       "      <td>16:05</td>\n",
       "      <td>5h 20m</td>\n",
       "      <td>1 stop at Patna</td>\n",
       "      <td>8,160</td>\n",
       "      <td>DEL-Delhi</td>\n",
       "      <td>BLR-Bengaluru</td>\n",
       "      <td>10</td>\n",
       "      <td>45</td>\n",
       "      <td>16</td>\n",
       "      <td>5</td>\n",
       "    </tr>\n",
       "    <tr>\n",
       "      <th>4</th>\n",
       "      <td>Go First</td>\n",
       "      <td>G8 - 165</td>\n",
       "      <td>16:05</td>\n",
       "      <td>6h 5m</td>\n",
       "      <td>1 stop at Patna</td>\n",
       "      <td>8,160</td>\n",
       "      <td>DEL-Delhi</td>\n",
       "      <td>BLR-Bengaluru</td>\n",
       "      <td>10</td>\n",
       "      <td>0</td>\n",
       "      <td>16</td>\n",
       "      <td>5</td>\n",
       "    </tr>\n",
       "  </tbody>\n",
       "</table>\n",
       "</div>"
      ],
      "text/plain": [
       "  flight_name  flight_id end_time travel_time            stops   fare  \\\n",
       "0    SpiceJet   SG - 534    01:15      2h 45m         Non Stop  8,160   \n",
       "1      IndiGo  6E - 2036    01:45      2h 55m         Non Stop  8,160   \n",
       "2    Go First   G8 - 275    03:00      5h 15m   1 stop at Pune  8,160   \n",
       "3    Go First  G8 - 2511    16:05      5h 20m  1 stop at Patna  8,160   \n",
       "4    Go First   G8 - 165    16:05       6h 5m  1 stop at Patna  8,160   \n",
       "\n",
       "      source    destination  dep_hour  dep_minute  arr_hour  arr_minute  \n",
       "0  DEL-Delhi  BLR-Bengaluru        22          30         1          15  \n",
       "1  DEL-Delhi  BLR-Bengaluru        22          50         1          45  \n",
       "2  DEL-Delhi  BLR-Bengaluru        21          45         3           0  \n",
       "3  DEL-Delhi  BLR-Bengaluru        10          45        16           5  \n",
       "4  DEL-Delhi  BLR-Bengaluru        10           0        16           5  "
      ]
     },
     "execution_count": 19,
     "metadata": {},
     "output_type": "execute_result"
    }
   ],
   "source": [
    "df.head()"
   ]
  },
  {
   "cell_type": "code",
   "execution_count": 58,
   "id": "cf4c0c12",
   "metadata": {},
   "outputs": [],
   "source": [
    "## Dropping end_time column\n",
    "df.drop('end_time',axis =1,inplace = True )"
   ]
  },
  {
   "cell_type": "code",
   "execution_count": 21,
   "id": "0af29b79",
   "metadata": {},
   "outputs": [
    {
     "data": {
      "text/html": [
       "<div>\n",
       "<style scoped>\n",
       "    .dataframe tbody tr th:only-of-type {\n",
       "        vertical-align: middle;\n",
       "    }\n",
       "\n",
       "    .dataframe tbody tr th {\n",
       "        vertical-align: top;\n",
       "    }\n",
       "\n",
       "    .dataframe thead th {\n",
       "        text-align: right;\n",
       "    }\n",
       "</style>\n",
       "<table border=\"1\" class=\"dataframe\">\n",
       "  <thead>\n",
       "    <tr style=\"text-align: right;\">\n",
       "      <th></th>\n",
       "      <th>flight_name</th>\n",
       "      <th>flight_id</th>\n",
       "      <th>travel_time</th>\n",
       "      <th>stops</th>\n",
       "      <th>fare</th>\n",
       "      <th>source</th>\n",
       "      <th>destination</th>\n",
       "      <th>dep_hour</th>\n",
       "      <th>dep_minute</th>\n",
       "      <th>arr_hour</th>\n",
       "      <th>arr_minute</th>\n",
       "    </tr>\n",
       "  </thead>\n",
       "  <tbody>\n",
       "    <tr>\n",
       "      <th>0</th>\n",
       "      <td>SpiceJet</td>\n",
       "      <td>SG - 534</td>\n",
       "      <td>2h 45m</td>\n",
       "      <td>Non Stop</td>\n",
       "      <td>8,160</td>\n",
       "      <td>DEL-Delhi</td>\n",
       "      <td>BLR-Bengaluru</td>\n",
       "      <td>22</td>\n",
       "      <td>30</td>\n",
       "      <td>1</td>\n",
       "      <td>15</td>\n",
       "    </tr>\n",
       "    <tr>\n",
       "      <th>1</th>\n",
       "      <td>IndiGo</td>\n",
       "      <td>6E - 2036</td>\n",
       "      <td>2h 55m</td>\n",
       "      <td>Non Stop</td>\n",
       "      <td>8,160</td>\n",
       "      <td>DEL-Delhi</td>\n",
       "      <td>BLR-Bengaluru</td>\n",
       "      <td>22</td>\n",
       "      <td>50</td>\n",
       "      <td>1</td>\n",
       "      <td>45</td>\n",
       "    </tr>\n",
       "    <tr>\n",
       "      <th>2</th>\n",
       "      <td>Go First</td>\n",
       "      <td>G8 - 275</td>\n",
       "      <td>5h 15m</td>\n",
       "      <td>1 stop at Pune</td>\n",
       "      <td>8,160</td>\n",
       "      <td>DEL-Delhi</td>\n",
       "      <td>BLR-Bengaluru</td>\n",
       "      <td>21</td>\n",
       "      <td>45</td>\n",
       "      <td>3</td>\n",
       "      <td>0</td>\n",
       "    </tr>\n",
       "    <tr>\n",
       "      <th>3</th>\n",
       "      <td>Go First</td>\n",
       "      <td>G8 - 2511</td>\n",
       "      <td>5h 20m</td>\n",
       "      <td>1 stop at Patna</td>\n",
       "      <td>8,160</td>\n",
       "      <td>DEL-Delhi</td>\n",
       "      <td>BLR-Bengaluru</td>\n",
       "      <td>10</td>\n",
       "      <td>45</td>\n",
       "      <td>16</td>\n",
       "      <td>5</td>\n",
       "    </tr>\n",
       "    <tr>\n",
       "      <th>4</th>\n",
       "      <td>Go First</td>\n",
       "      <td>G8 - 165</td>\n",
       "      <td>6h 5m</td>\n",
       "      <td>1 stop at Patna</td>\n",
       "      <td>8,160</td>\n",
       "      <td>DEL-Delhi</td>\n",
       "      <td>BLR-Bengaluru</td>\n",
       "      <td>10</td>\n",
       "      <td>0</td>\n",
       "      <td>16</td>\n",
       "      <td>5</td>\n",
       "    </tr>\n",
       "  </tbody>\n",
       "</table>\n",
       "</div>"
      ],
      "text/plain": [
       "  flight_name  flight_id travel_time            stops   fare     source  \\\n",
       "0    SpiceJet   SG - 534      2h 45m         Non Stop  8,160  DEL-Delhi   \n",
       "1      IndiGo  6E - 2036      2h 55m         Non Stop  8,160  DEL-Delhi   \n",
       "2    Go First   G8 - 275      5h 15m   1 stop at Pune  8,160  DEL-Delhi   \n",
       "3    Go First  G8 - 2511      5h 20m  1 stop at Patna  8,160  DEL-Delhi   \n",
       "4    Go First   G8 - 165       6h 5m  1 stop at Patna  8,160  DEL-Delhi   \n",
       "\n",
       "     destination  dep_hour  dep_minute  arr_hour  arr_minute  \n",
       "0  BLR-Bengaluru        22          30         1          15  \n",
       "1  BLR-Bengaluru        22          50         1          45  \n",
       "2  BLR-Bengaluru        21          45         3           0  \n",
       "3  BLR-Bengaluru        10          45        16           5  \n",
       "4  BLR-Bengaluru        10           0        16           5  "
      ]
     },
     "execution_count": 21,
     "metadata": {},
     "output_type": "execute_result"
    }
   ],
   "source": [
    "df.head()"
   ]
  },
  {
   "cell_type": "code",
   "execution_count": 59,
   "id": "e0b70f9c",
   "metadata": {},
   "outputs": [],
   "source": [
    "## Let us convert travel_time column into Hour and minute format:-\n",
    "## Creating empty lists to contain hours and minute data\n",
    "travel_hours =[]\n",
    "travel_minutes =[]\n",
    "\n",
    "duration = list(df[\"travel_time\"])\n",
    "\n",
    "for i in range(len(duration)):\n",
    "    if len(duration[i].split()) != 2:\n",
    "        if \"h\" in duration[i]:\n",
    "            duration[i] = duration[i].strip()+ \" 0m\"\n",
    "        else:\n",
    "            duration[i] = \"0h \" +duration[i]\n",
    "\n",
    "for i in range(len(duration)):\n",
    "    travel_hours.append(int(duration[i].split(sep=\"h\")[0]))\n",
    "    travel_minutes.append(int(duration[i].split(sep=\"m\")[0].split()[-1]))\n",
    "    \n",
    "#print(travel_hours)\n",
    "#print(travel_minutes)\n",
    "    \n"
   ]
  },
  {
   "cell_type": "code",
   "execution_count": 60,
   "id": "00744439",
   "metadata": {},
   "outputs": [],
   "source": [
    "df['travel_hours'] = travel_hours\n",
    "df['travel_minutes'] = travel_minutes"
   ]
  },
  {
   "cell_type": "code",
   "execution_count": 24,
   "id": "7d960977",
   "metadata": {},
   "outputs": [
    {
     "data": {
      "text/html": [
       "<div>\n",
       "<style scoped>\n",
       "    .dataframe tbody tr th:only-of-type {\n",
       "        vertical-align: middle;\n",
       "    }\n",
       "\n",
       "    .dataframe tbody tr th {\n",
       "        vertical-align: top;\n",
       "    }\n",
       "\n",
       "    .dataframe thead th {\n",
       "        text-align: right;\n",
       "    }\n",
       "</style>\n",
       "<table border=\"1\" class=\"dataframe\">\n",
       "  <thead>\n",
       "    <tr style=\"text-align: right;\">\n",
       "      <th></th>\n",
       "      <th>flight_name</th>\n",
       "      <th>flight_id</th>\n",
       "      <th>travel_time</th>\n",
       "      <th>stops</th>\n",
       "      <th>fare</th>\n",
       "      <th>source</th>\n",
       "      <th>destination</th>\n",
       "      <th>dep_hour</th>\n",
       "      <th>dep_minute</th>\n",
       "      <th>arr_hour</th>\n",
       "      <th>arr_minute</th>\n",
       "      <th>travel_hours</th>\n",
       "      <th>travel_minutes</th>\n",
       "    </tr>\n",
       "  </thead>\n",
       "  <tbody>\n",
       "    <tr>\n",
       "      <th>0</th>\n",
       "      <td>SpiceJet</td>\n",
       "      <td>SG - 534</td>\n",
       "      <td>2h 45m</td>\n",
       "      <td>Non Stop</td>\n",
       "      <td>8,160</td>\n",
       "      <td>DEL-Delhi</td>\n",
       "      <td>BLR-Bengaluru</td>\n",
       "      <td>22</td>\n",
       "      <td>30</td>\n",
       "      <td>1</td>\n",
       "      <td>15</td>\n",
       "      <td>2</td>\n",
       "      <td>45</td>\n",
       "    </tr>\n",
       "    <tr>\n",
       "      <th>1</th>\n",
       "      <td>IndiGo</td>\n",
       "      <td>6E - 2036</td>\n",
       "      <td>2h 55m</td>\n",
       "      <td>Non Stop</td>\n",
       "      <td>8,160</td>\n",
       "      <td>DEL-Delhi</td>\n",
       "      <td>BLR-Bengaluru</td>\n",
       "      <td>22</td>\n",
       "      <td>50</td>\n",
       "      <td>1</td>\n",
       "      <td>45</td>\n",
       "      <td>2</td>\n",
       "      <td>55</td>\n",
       "    </tr>\n",
       "    <tr>\n",
       "      <th>2</th>\n",
       "      <td>Go First</td>\n",
       "      <td>G8 - 275</td>\n",
       "      <td>5h 15m</td>\n",
       "      <td>1 stop at Pune</td>\n",
       "      <td>8,160</td>\n",
       "      <td>DEL-Delhi</td>\n",
       "      <td>BLR-Bengaluru</td>\n",
       "      <td>21</td>\n",
       "      <td>45</td>\n",
       "      <td>3</td>\n",
       "      <td>0</td>\n",
       "      <td>5</td>\n",
       "      <td>15</td>\n",
       "    </tr>\n",
       "    <tr>\n",
       "      <th>3</th>\n",
       "      <td>Go First</td>\n",
       "      <td>G8 - 2511</td>\n",
       "      <td>5h 20m</td>\n",
       "      <td>1 stop at Patna</td>\n",
       "      <td>8,160</td>\n",
       "      <td>DEL-Delhi</td>\n",
       "      <td>BLR-Bengaluru</td>\n",
       "      <td>10</td>\n",
       "      <td>45</td>\n",
       "      <td>16</td>\n",
       "      <td>5</td>\n",
       "      <td>5</td>\n",
       "      <td>20</td>\n",
       "    </tr>\n",
       "    <tr>\n",
       "      <th>4</th>\n",
       "      <td>Go First</td>\n",
       "      <td>G8 - 165</td>\n",
       "      <td>6h 5m</td>\n",
       "      <td>1 stop at Patna</td>\n",
       "      <td>8,160</td>\n",
       "      <td>DEL-Delhi</td>\n",
       "      <td>BLR-Bengaluru</td>\n",
       "      <td>10</td>\n",
       "      <td>0</td>\n",
       "      <td>16</td>\n",
       "      <td>5</td>\n",
       "      <td>6</td>\n",
       "      <td>5</td>\n",
       "    </tr>\n",
       "  </tbody>\n",
       "</table>\n",
       "</div>"
      ],
      "text/plain": [
       "  flight_name  flight_id travel_time            stops   fare     source  \\\n",
       "0    SpiceJet   SG - 534      2h 45m         Non Stop  8,160  DEL-Delhi   \n",
       "1      IndiGo  6E - 2036      2h 55m         Non Stop  8,160  DEL-Delhi   \n",
       "2    Go First   G8 - 275      5h 15m   1 stop at Pune  8,160  DEL-Delhi   \n",
       "3    Go First  G8 - 2511      5h 20m  1 stop at Patna  8,160  DEL-Delhi   \n",
       "4    Go First   G8 - 165       6h 5m  1 stop at Patna  8,160  DEL-Delhi   \n",
       "\n",
       "     destination  dep_hour  dep_minute  arr_hour  arr_minute  travel_hours  \\\n",
       "0  BLR-Bengaluru        22          30         1          15             2   \n",
       "1  BLR-Bengaluru        22          50         1          45             2   \n",
       "2  BLR-Bengaluru        21          45         3           0             5   \n",
       "3  BLR-Bengaluru        10          45        16           5             5   \n",
       "4  BLR-Bengaluru        10           0        16           5             6   \n",
       "\n",
       "   travel_minutes  \n",
       "0              45  \n",
       "1              55  \n",
       "2              15  \n",
       "3              20  \n",
       "4               5  "
      ]
     },
     "execution_count": 24,
     "metadata": {},
     "output_type": "execute_result"
    }
   ],
   "source": [
    "df.head()"
   ]
  },
  {
   "cell_type": "code",
   "execution_count": 61,
   "id": "19996d43",
   "metadata": {},
   "outputs": [],
   "source": [
    "## let's take only city name from source :-\n",
    "df['source'] = [i.split(\"-\")[1] for i in df['source']]"
   ]
  },
  {
   "cell_type": "code",
   "execution_count": 62,
   "id": "6d84aeeb",
   "metadata": {},
   "outputs": [],
   "source": [
    "## let's take only city name from destination :-\n",
    "\n",
    "df['destination'] = [i.split(\"-\")[1] for i in df['destination']]"
   ]
  },
  {
   "cell_type": "code",
   "execution_count": 30,
   "id": "77cb87c5",
   "metadata": {},
   "outputs": [
    {
     "data": {
      "text/html": [
       "<div>\n",
       "<style scoped>\n",
       "    .dataframe tbody tr th:only-of-type {\n",
       "        vertical-align: middle;\n",
       "    }\n",
       "\n",
       "    .dataframe tbody tr th {\n",
       "        vertical-align: top;\n",
       "    }\n",
       "\n",
       "    .dataframe thead th {\n",
       "        text-align: right;\n",
       "    }\n",
       "</style>\n",
       "<table border=\"1\" class=\"dataframe\">\n",
       "  <thead>\n",
       "    <tr style=\"text-align: right;\">\n",
       "      <th></th>\n",
       "      <th>flight_name</th>\n",
       "      <th>flight_id</th>\n",
       "      <th>travel_time</th>\n",
       "      <th>stops</th>\n",
       "      <th>fare</th>\n",
       "      <th>source</th>\n",
       "      <th>destination</th>\n",
       "      <th>dep_hour</th>\n",
       "      <th>dep_minute</th>\n",
       "      <th>arr_hour</th>\n",
       "      <th>arr_minute</th>\n",
       "      <th>travel_hours</th>\n",
       "      <th>travel_minutes</th>\n",
       "    </tr>\n",
       "  </thead>\n",
       "  <tbody>\n",
       "    <tr>\n",
       "      <th>0</th>\n",
       "      <td>SpiceJet</td>\n",
       "      <td>SG - 534</td>\n",
       "      <td>2h 45m</td>\n",
       "      <td>Non Stop</td>\n",
       "      <td>8,160</td>\n",
       "      <td>Delhi</td>\n",
       "      <td>Bengaluru</td>\n",
       "      <td>22</td>\n",
       "      <td>30</td>\n",
       "      <td>1</td>\n",
       "      <td>15</td>\n",
       "      <td>2</td>\n",
       "      <td>45</td>\n",
       "    </tr>\n",
       "    <tr>\n",
       "      <th>1</th>\n",
       "      <td>IndiGo</td>\n",
       "      <td>6E - 2036</td>\n",
       "      <td>2h 55m</td>\n",
       "      <td>Non Stop</td>\n",
       "      <td>8,160</td>\n",
       "      <td>Delhi</td>\n",
       "      <td>Bengaluru</td>\n",
       "      <td>22</td>\n",
       "      <td>50</td>\n",
       "      <td>1</td>\n",
       "      <td>45</td>\n",
       "      <td>2</td>\n",
       "      <td>55</td>\n",
       "    </tr>\n",
       "    <tr>\n",
       "      <th>2</th>\n",
       "      <td>Go First</td>\n",
       "      <td>G8 - 275</td>\n",
       "      <td>5h 15m</td>\n",
       "      <td>1 stop at Pune</td>\n",
       "      <td>8,160</td>\n",
       "      <td>Delhi</td>\n",
       "      <td>Bengaluru</td>\n",
       "      <td>21</td>\n",
       "      <td>45</td>\n",
       "      <td>3</td>\n",
       "      <td>0</td>\n",
       "      <td>5</td>\n",
       "      <td>15</td>\n",
       "    </tr>\n",
       "    <tr>\n",
       "      <th>3</th>\n",
       "      <td>Go First</td>\n",
       "      <td>G8 - 2511</td>\n",
       "      <td>5h 20m</td>\n",
       "      <td>1 stop at Patna</td>\n",
       "      <td>8,160</td>\n",
       "      <td>Delhi</td>\n",
       "      <td>Bengaluru</td>\n",
       "      <td>10</td>\n",
       "      <td>45</td>\n",
       "      <td>16</td>\n",
       "      <td>5</td>\n",
       "      <td>5</td>\n",
       "      <td>20</td>\n",
       "    </tr>\n",
       "    <tr>\n",
       "      <th>4</th>\n",
       "      <td>Go First</td>\n",
       "      <td>G8 - 165</td>\n",
       "      <td>6h 5m</td>\n",
       "      <td>1 stop at Patna</td>\n",
       "      <td>8,160</td>\n",
       "      <td>Delhi</td>\n",
       "      <td>Bengaluru</td>\n",
       "      <td>10</td>\n",
       "      <td>0</td>\n",
       "      <td>16</td>\n",
       "      <td>5</td>\n",
       "      <td>6</td>\n",
       "      <td>5</td>\n",
       "    </tr>\n",
       "  </tbody>\n",
       "</table>\n",
       "</div>"
      ],
      "text/plain": [
       "  flight_name  flight_id travel_time            stops   fare source  \\\n",
       "0    SpiceJet   SG - 534      2h 45m         Non Stop  8,160  Delhi   \n",
       "1      IndiGo  6E - 2036      2h 55m         Non Stop  8,160  Delhi   \n",
       "2    Go First   G8 - 275      5h 15m   1 stop at Pune  8,160  Delhi   \n",
       "3    Go First  G8 - 2511      5h 20m  1 stop at Patna  8,160  Delhi   \n",
       "4    Go First   G8 - 165       6h 5m  1 stop at Patna  8,160  Delhi   \n",
       "\n",
       "  destination  dep_hour  dep_minute  arr_hour  arr_minute  travel_hours  \\\n",
       "0   Bengaluru        22          30         1          15             2   \n",
       "1   Bengaluru        22          50         1          45             2   \n",
       "2   Bengaluru        21          45         3           0             5   \n",
       "3   Bengaluru        10          45        16           5             5   \n",
       "4   Bengaluru        10           0        16           5             6   \n",
       "\n",
       "   travel_minutes  \n",
       "0              45  \n",
       "1              55  \n",
       "2              15  \n",
       "3              20  \n",
       "4               5  "
      ]
     },
     "execution_count": 30,
     "metadata": {},
     "output_type": "execute_result"
    }
   ],
   "source": [
    "df.head()"
   ]
  },
  {
   "cell_type": "code",
   "execution_count": 63,
   "id": "2d1c1738",
   "metadata": {},
   "outputs": [],
   "source": [
    "## Removing comma drom fare:\n",
    "df['fare'] = [i.replace(\",\",\"\") for i in df['fare']]"
   ]
  },
  {
   "cell_type": "code",
   "execution_count": 32,
   "id": "bfd61d33",
   "metadata": {},
   "outputs": [
    {
     "data": {
      "text/html": [
       "<div>\n",
       "<style scoped>\n",
       "    .dataframe tbody tr th:only-of-type {\n",
       "        vertical-align: middle;\n",
       "    }\n",
       "\n",
       "    .dataframe tbody tr th {\n",
       "        vertical-align: top;\n",
       "    }\n",
       "\n",
       "    .dataframe thead th {\n",
       "        text-align: right;\n",
       "    }\n",
       "</style>\n",
       "<table border=\"1\" class=\"dataframe\">\n",
       "  <thead>\n",
       "    <tr style=\"text-align: right;\">\n",
       "      <th></th>\n",
       "      <th>flight_name</th>\n",
       "      <th>flight_id</th>\n",
       "      <th>travel_time</th>\n",
       "      <th>stops</th>\n",
       "      <th>fare</th>\n",
       "      <th>source</th>\n",
       "      <th>destination</th>\n",
       "      <th>dep_hour</th>\n",
       "      <th>dep_minute</th>\n",
       "      <th>arr_hour</th>\n",
       "      <th>arr_minute</th>\n",
       "      <th>travel_hours</th>\n",
       "      <th>travel_minutes</th>\n",
       "    </tr>\n",
       "  </thead>\n",
       "  <tbody>\n",
       "    <tr>\n",
       "      <th>0</th>\n",
       "      <td>SpiceJet</td>\n",
       "      <td>SG - 534</td>\n",
       "      <td>2h 45m</td>\n",
       "      <td>Non Stop</td>\n",
       "      <td>8160</td>\n",
       "      <td>Delhi</td>\n",
       "      <td>Bengaluru</td>\n",
       "      <td>22</td>\n",
       "      <td>30</td>\n",
       "      <td>1</td>\n",
       "      <td>15</td>\n",
       "      <td>2</td>\n",
       "      <td>45</td>\n",
       "    </tr>\n",
       "    <tr>\n",
       "      <th>1</th>\n",
       "      <td>IndiGo</td>\n",
       "      <td>6E - 2036</td>\n",
       "      <td>2h 55m</td>\n",
       "      <td>Non Stop</td>\n",
       "      <td>8160</td>\n",
       "      <td>Delhi</td>\n",
       "      <td>Bengaluru</td>\n",
       "      <td>22</td>\n",
       "      <td>50</td>\n",
       "      <td>1</td>\n",
       "      <td>45</td>\n",
       "      <td>2</td>\n",
       "      <td>55</td>\n",
       "    </tr>\n",
       "    <tr>\n",
       "      <th>2</th>\n",
       "      <td>Go First</td>\n",
       "      <td>G8 - 275</td>\n",
       "      <td>5h 15m</td>\n",
       "      <td>1 stop at Pune</td>\n",
       "      <td>8160</td>\n",
       "      <td>Delhi</td>\n",
       "      <td>Bengaluru</td>\n",
       "      <td>21</td>\n",
       "      <td>45</td>\n",
       "      <td>3</td>\n",
       "      <td>0</td>\n",
       "      <td>5</td>\n",
       "      <td>15</td>\n",
       "    </tr>\n",
       "    <tr>\n",
       "      <th>3</th>\n",
       "      <td>Go First</td>\n",
       "      <td>G8 - 2511</td>\n",
       "      <td>5h 20m</td>\n",
       "      <td>1 stop at Patna</td>\n",
       "      <td>8160</td>\n",
       "      <td>Delhi</td>\n",
       "      <td>Bengaluru</td>\n",
       "      <td>10</td>\n",
       "      <td>45</td>\n",
       "      <td>16</td>\n",
       "      <td>5</td>\n",
       "      <td>5</td>\n",
       "      <td>20</td>\n",
       "    </tr>\n",
       "    <tr>\n",
       "      <th>4</th>\n",
       "      <td>Go First</td>\n",
       "      <td>G8 - 165</td>\n",
       "      <td>6h 5m</td>\n",
       "      <td>1 stop at Patna</td>\n",
       "      <td>8160</td>\n",
       "      <td>Delhi</td>\n",
       "      <td>Bengaluru</td>\n",
       "      <td>10</td>\n",
       "      <td>0</td>\n",
       "      <td>16</td>\n",
       "      <td>5</td>\n",
       "      <td>6</td>\n",
       "      <td>5</td>\n",
       "    </tr>\n",
       "  </tbody>\n",
       "</table>\n",
       "</div>"
      ],
      "text/plain": [
       "  flight_name  flight_id travel_time            stops  fare source  \\\n",
       "0    SpiceJet   SG - 534      2h 45m         Non Stop  8160  Delhi   \n",
       "1      IndiGo  6E - 2036      2h 55m         Non Stop  8160  Delhi   \n",
       "2    Go First   G8 - 275      5h 15m   1 stop at Pune  8160  Delhi   \n",
       "3    Go First  G8 - 2511      5h 20m  1 stop at Patna  8160  Delhi   \n",
       "4    Go First   G8 - 165       6h 5m  1 stop at Patna  8160  Delhi   \n",
       "\n",
       "  destination  dep_hour  dep_minute  arr_hour  arr_minute  travel_hours  \\\n",
       "0   Bengaluru        22          30         1          15             2   \n",
       "1   Bengaluru        22          50         1          45             2   \n",
       "2   Bengaluru        21          45         3           0             5   \n",
       "3   Bengaluru        10          45        16           5             5   \n",
       "4   Bengaluru        10           0        16           5             6   \n",
       "\n",
       "   travel_minutes  \n",
       "0              45  \n",
       "1              55  \n",
       "2              15  \n",
       "3              20  \n",
       "4               5  "
      ]
     },
     "execution_count": 32,
     "metadata": {},
     "output_type": "execute_result"
    }
   ],
   "source": [
    "df.head()"
   ]
  },
  {
   "cell_type": "code",
   "execution_count": 64,
   "id": "544f5fa4",
   "metadata": {},
   "outputs": [],
   "source": [
    "## let's put stop in a proper format\n",
    "df['stops'] = df['stops'].str.lower().apply(lambda X: X.split('stop')[0])\n",
    "df['stops'] = df['stops'].str.replace('non','0')\n",
    "df['stops'] = df['stops'].astype('int')\n"
   ]
  },
  {
   "cell_type": "code",
   "execution_count": 44,
   "id": "eb12a6e5",
   "metadata": {},
   "outputs": [
    {
     "data": {
      "text/html": [
       "<div>\n",
       "<style scoped>\n",
       "    .dataframe tbody tr th:only-of-type {\n",
       "        vertical-align: middle;\n",
       "    }\n",
       "\n",
       "    .dataframe tbody tr th {\n",
       "        vertical-align: top;\n",
       "    }\n",
       "\n",
       "    .dataframe thead th {\n",
       "        text-align: right;\n",
       "    }\n",
       "</style>\n",
       "<table border=\"1\" class=\"dataframe\">\n",
       "  <thead>\n",
       "    <tr style=\"text-align: right;\">\n",
       "      <th></th>\n",
       "      <th>flight_name</th>\n",
       "      <th>flight_id</th>\n",
       "      <th>travel_time</th>\n",
       "      <th>stops</th>\n",
       "      <th>fare</th>\n",
       "      <th>source</th>\n",
       "      <th>destination</th>\n",
       "      <th>dep_hour</th>\n",
       "      <th>dep_minute</th>\n",
       "      <th>arr_hour</th>\n",
       "      <th>arr_minute</th>\n",
       "      <th>travel_hours</th>\n",
       "      <th>travel_minutes</th>\n",
       "    </tr>\n",
       "  </thead>\n",
       "  <tbody>\n",
       "    <tr>\n",
       "      <th>0</th>\n",
       "      <td>SpiceJet</td>\n",
       "      <td>SG - 534</td>\n",
       "      <td>2h 45m</td>\n",
       "      <td>0</td>\n",
       "      <td>8160</td>\n",
       "      <td>Delhi</td>\n",
       "      <td>Bengaluru</td>\n",
       "      <td>22</td>\n",
       "      <td>30</td>\n",
       "      <td>1</td>\n",
       "      <td>15</td>\n",
       "      <td>2</td>\n",
       "      <td>45</td>\n",
       "    </tr>\n",
       "    <tr>\n",
       "      <th>1</th>\n",
       "      <td>IndiGo</td>\n",
       "      <td>6E - 2036</td>\n",
       "      <td>2h 55m</td>\n",
       "      <td>0</td>\n",
       "      <td>8160</td>\n",
       "      <td>Delhi</td>\n",
       "      <td>Bengaluru</td>\n",
       "      <td>22</td>\n",
       "      <td>50</td>\n",
       "      <td>1</td>\n",
       "      <td>45</td>\n",
       "      <td>2</td>\n",
       "      <td>55</td>\n",
       "    </tr>\n",
       "    <tr>\n",
       "      <th>2</th>\n",
       "      <td>Go First</td>\n",
       "      <td>G8 - 275</td>\n",
       "      <td>5h 15m</td>\n",
       "      <td>1</td>\n",
       "      <td>8160</td>\n",
       "      <td>Delhi</td>\n",
       "      <td>Bengaluru</td>\n",
       "      <td>21</td>\n",
       "      <td>45</td>\n",
       "      <td>3</td>\n",
       "      <td>0</td>\n",
       "      <td>5</td>\n",
       "      <td>15</td>\n",
       "    </tr>\n",
       "    <tr>\n",
       "      <th>3</th>\n",
       "      <td>Go First</td>\n",
       "      <td>G8 - 2511</td>\n",
       "      <td>5h 20m</td>\n",
       "      <td>1</td>\n",
       "      <td>8160</td>\n",
       "      <td>Delhi</td>\n",
       "      <td>Bengaluru</td>\n",
       "      <td>10</td>\n",
       "      <td>45</td>\n",
       "      <td>16</td>\n",
       "      <td>5</td>\n",
       "      <td>5</td>\n",
       "      <td>20</td>\n",
       "    </tr>\n",
       "    <tr>\n",
       "      <th>4</th>\n",
       "      <td>Go First</td>\n",
       "      <td>G8 - 165</td>\n",
       "      <td>6h 5m</td>\n",
       "      <td>1</td>\n",
       "      <td>8160</td>\n",
       "      <td>Delhi</td>\n",
       "      <td>Bengaluru</td>\n",
       "      <td>10</td>\n",
       "      <td>0</td>\n",
       "      <td>16</td>\n",
       "      <td>5</td>\n",
       "      <td>6</td>\n",
       "      <td>5</td>\n",
       "    </tr>\n",
       "  </tbody>\n",
       "</table>\n",
       "</div>"
      ],
      "text/plain": [
       "  flight_name  flight_id travel_time  stops  fare source destination  \\\n",
       "0    SpiceJet   SG - 534      2h 45m      0  8160  Delhi   Bengaluru   \n",
       "1      IndiGo  6E - 2036      2h 55m      0  8160  Delhi   Bengaluru   \n",
       "2    Go First   G8 - 275      5h 15m      1  8160  Delhi   Bengaluru   \n",
       "3    Go First  G8 - 2511      5h 20m      1  8160  Delhi   Bengaluru   \n",
       "4    Go First   G8 - 165       6h 5m      1  8160  Delhi   Bengaluru   \n",
       "\n",
       "   dep_hour  dep_minute  arr_hour  arr_minute  travel_hours  travel_minutes  \n",
       "0        22          30         1          15             2              45  \n",
       "1        22          50         1          45             2              55  \n",
       "2        21          45         3           0             5              15  \n",
       "3        10          45        16           5             5              20  \n",
       "4        10           0        16           5             6               5  "
      ]
     },
     "execution_count": 44,
     "metadata": {},
     "output_type": "execute_result"
    }
   ],
   "source": [
    "df.head()"
   ]
  },
  {
   "cell_type": "code",
   "execution_count": 65,
   "id": "fb534f08",
   "metadata": {},
   "outputs": [],
   "source": [
    "## Dropping travel_time as we  already extracted travel hours and minutes\n",
    "df.drop('travel_time',axis=1,inplace=True)"
   ]
  },
  {
   "cell_type": "code",
   "execution_count": 46,
   "id": "4dc44981",
   "metadata": {},
   "outputs": [
    {
     "data": {
      "text/plain": [
       "flight_name       object\n",
       "flight_id         object\n",
       "stops              int32\n",
       "fare              object\n",
       "source            object\n",
       "destination       object\n",
       "dep_hour           int64\n",
       "dep_minute         int64\n",
       "arr_hour           int64\n",
       "arr_minute         int64\n",
       "travel_hours       int64\n",
       "travel_minutes     int64\n",
       "dtype: object"
      ]
     },
     "execution_count": 46,
     "metadata": {},
     "output_type": "execute_result"
    }
   ],
   "source": [
    "df.dtypes"
   ]
  },
  {
   "cell_type": "code",
   "execution_count": 66,
   "id": "d31bd22a",
   "metadata": {},
   "outputs": [],
   "source": [
    "## Converting fare data type from object to int type\n",
    "df['fare'] = df['fare'].astype('int')"
   ]
  },
  {
   "cell_type": "code",
   "execution_count": 48,
   "id": "00cb44cd",
   "metadata": {},
   "outputs": [
    {
     "data": {
      "text/plain": [
       "dtype('int32')"
      ]
     },
     "execution_count": 48,
     "metadata": {},
     "output_type": "execute_result"
    }
   ],
   "source": [
    "df['fare'].dtypes"
   ]
  },
  {
   "cell_type": "markdown",
   "id": "a25c54cb",
   "metadata": {},
   "source": [
    "# EDA"
   ]
  },
  {
   "cell_type": "markdown",
   "id": "d019fa46",
   "metadata": {},
   "source": [
    "# Univariate Analysis"
   ]
  },
  {
   "cell_type": "code",
   "execution_count": 49,
   "id": "6dfd7503",
   "metadata": {},
   "outputs": [
    {
     "data": {
      "text/plain": [
       "Index(['flight_name', 'flight_id', 'source', 'destination'], dtype='object')"
      ]
     },
     "execution_count": 49,
     "metadata": {},
     "output_type": "execute_result"
    }
   ],
   "source": [
    "categorical_cols = df.select_dtypes(include=['object']).columns  # checking categorcial columns\n"
   ]
  },
  {
   "cell_type": "code",
   "execution_count": 51,
   "id": "5d24e6e8",
   "metadata": {},
   "outputs": [
    {
     "data": {
      "image/png": "[encoded data removed]",
      "text/plain": [
       "<Figure size 360x360 with 1 Axes>"
      ]
     },
     "metadata": {
      "needs_background": "light"
     },
     "output_type": "display_data"
    }
   ],
   "source": [
    "plt.figure(figsize=(5,5))\n",
    "sns.countplot(df['flight_name'])\n",
    "plt.show()"
   ]
  },
  {
   "cell_type": "markdown",
   "id": "8a0435ef",
   "metadata": {},
   "source": [
    "Vistara flights are more in counts followed by Indigo and Air India."
   ]
  },
  {
   "cell_type": "code",
   "execution_count": 92,
   "id": "1f565b43",
   "metadata": {},
   "outputs": [
    {
     "data": {
      "text/plain": [
       "<AxesSubplot:ylabel='flight_name'>"
      ]
     },
     "execution_count": 92,
     "metadata": {},
     "output_type": "execute_result"
    },
    {
     "data": {
      "image/png": "[encoded data removed]",
      "text/plain": [
       "<Figure size 432x288 with 1 Axes>"
      ]
     },
     "metadata": {},
     "output_type": "display_data"
    }
   ],
   "source": [
    "# Pie & count plot of Airline types\n",
    "df['flight_name'].value_counts().plot.pie(autopct='%2.1f%%',\n",
    "                                          textprops ={ 'fontsize':13,'fontweight' :'bold'})\n"
   ]
  },
  {
   "cell_type": "code",
   "execution_count": 52,
   "id": "faf86791",
   "metadata": {},
   "outputs": [
    {
     "data": {
      "image/png": "[encoded data removed]",
      "text/plain": [
       "<Figure size 360x360 with 1 Axes>"
      ]
     },
     "metadata": {
      "needs_background": "light"
     },
     "output_type": "display_data"
    }
   ],
   "source": [
    "plt.figure(figsize=(5,5))\n",
    "sns.countplot(df['flight_id'])\n",
    "plt.xticks(rotation=90)\n",
    "plt.show()"
   ]
  },
  {
   "cell_type": "code",
   "execution_count": 53,
   "id": "9f9f54e3",
   "metadata": {},
   "outputs": [
    {
     "data": {
      "image/png": "[encoded data removed]",
      "text/plain": [
       "<Figure size 360x360 with 1 Axes>"
      ]
     },
     "metadata": {
      "needs_background": "light"
     },
     "output_type": "display_data"
    }
   ],
   "source": [
    "plt.figure(figsize=(5,5))\n",
    "sns.countplot(df['source'])\n",
    "plt.xticks(rotation=90)\n",
    "plt.show()"
   ]
  },
  {
   "cell_type": "markdown",
   "id": "c8ac5453",
   "metadata": {},
   "source": [
    " Count of Mumbai as source staion is more than any other cities."
   ]
  },
  {
   "cell_type": "code",
   "execution_count": 54,
   "id": "635b3c6c",
   "metadata": {},
   "outputs": [
    {
     "data": {
      "image/png": "[encoded data removed]",
      "text/plain": [
       "<Figure size 360x360 with 1 Axes>"
      ]
     },
     "metadata": {
      "needs_background": "light"
     },
     "output_type": "display_data"
    }
   ],
   "source": [
    "plt.figure(figsize=(5,5))\n",
    "sns.countplot(df['destination'])\n",
    "plt.xticks(rotation=90)\n",
    "plt.show()"
   ]
  },
  {
   "cell_type": "markdown",
   "id": "c7a41939",
   "metadata": {},
   "source": [
    " count of Chandigarh as destination is more than any other cities."
   ]
  },
  {
   "cell_type": "code",
   "execution_count": 56,
   "id": "fe5a5560",
   "metadata": {},
   "outputs": [
    {
     "data": {
      "text/plain": [
       "Index(['stops', 'fare', 'dep_hour', 'dep_minute', 'arr_hour', 'arr_minute',\n",
       "       'travel_hours', 'travel_minutes'],\n",
       "      dtype='object')"
      ]
     },
     "execution_count": 56,
     "metadata": {},
     "output_type": "execute_result"
    }
   ],
   "source": [
    "numerical_cols = df._get_numeric_data().columns\n",
    "numerical_cols"
   ]
  },
  {
   "cell_type": "code",
   "execution_count": 62,
   "id": "04d7b926",
   "metadata": {},
   "outputs": [
    {
     "data": {
      "image/png": "[encoded data removed]",
      "text/plain": [
       "<Figure size 1440x1440 with 8 Axes>"
      ]
     },
     "metadata": {
      "needs_background": "light"
     },
     "output_type": "display_data"
    }
   ],
   "source": [
    "plt.figure(figsize=(20,20))\n",
    "graph = 1\n",
    "for i in numerical_cols:\n",
    "    if graph <= 8:\n",
    "        plt.subplot(4,2,graph)\n",
    "        df[i].hist(bins = 30 )\n",
    "        plt.xlabel(i)\n",
    "        graph += 1\n",
    "        \n",
    "plt.show()    "
   ]
  },
  {
   "cell_type": "markdown",
   "id": "9408865a",
   "metadata": {},
   "source": [
    "## Observations:\n",
    "-> Most of stops are 1 stop followed by 2nd stop.\n",
    "-> Most of fare ranges between 10,000 to 25,000 rs."
   ]
  },
  {
   "cell_type": "code",
   "execution_count": 63,
   "id": "798993d4",
   "metadata": {},
   "outputs": [
    {
     "data": {
      "image/png": "[encoded data removed]",
      "text/plain": [
       "<Figure size 1440x1440 with 8 Axes>"
      ]
     },
     "metadata": {
      "needs_background": "light"
     },
     "output_type": "display_data"
    }
   ],
   "source": [
    "## Distribution of data :\n",
    "plt.figure(figsize=(20,20))\n",
    "graph = 1\n",
    "for i in numerical_cols:\n",
    "    if graph <= 8:\n",
    "        plt.subplot(4,2,graph)\n",
    "        sns.distplot(df[i] )\n",
    "        plt.xlabel(i)\n",
    "        graph += 1\n",
    "        \n",
    "plt.show()    "
   ]
  },
  {
   "cell_type": "markdown",
   "id": "788d044b",
   "metadata": {},
   "source": [
    "Distribution of data seems normal. There is not very much skewness present in data."
   ]
  },
  {
   "cell_type": "code",
   "execution_count": 68,
   "id": "b44be10e",
   "metadata": {
    "scrolled": true
   },
   "outputs": [
    {
     "data": {
      "image/png": "[encoded data removed]",
      "text/plain": [
       "<Figure size 720x360 with 1 Axes>"
      ]
     },
     "metadata": {
      "needs_background": "light"
     },
     "output_type": "display_data"
    },
    {
     "name": "stdout",
     "output_type": "stream",
     "text": [
      "Statistical information of fare :\n",
      " count     7927.000000\n",
      "mean     17363.793238\n",
      "std       6795.318861\n",
      "min       3435.000000\n",
      "25%      12394.500000\n",
      "50%      16971.000000\n",
      "75%      21615.000000\n",
      "max      45633.000000\n",
      "Name: fare, dtype: float64\n"
     ]
    }
   ],
   "source": [
    "df.fare.hist(bins =10,figsize=(10,5), color =\"green\")\n",
    "plt.axvline(np.mean(df.fare), linewidth = 5, color = \"red\", label = \"mean fare\")\n",
    "plt.xlabel(\"fare\")\n",
    "plt.ylabel(\"count\")\n",
    "plt.legend()\n",
    "plt.show()\n",
    "print(\"Statistical information of fare :\\n\",\\\n",
    "      df.fare.describe())\n"
   ]
  },
  {
   "cell_type": "markdown",
   "id": "3ba2d403",
   "metadata": {},
   "source": [
    "-> Mean of the fare is 17363 rs.\n",
    "-> Most of the fare ranges between 20000rs.\n"
   ]
  },
  {
   "cell_type": "code",
   "execution_count": 69,
   "id": "0f4b0941",
   "metadata": {},
   "outputs": [
    {
     "data": {
      "image/png": "[encoded data removed]",
      "text/plain": [
       "<Figure size 720x360 with 1 Axes>"
      ]
     },
     "metadata": {
      "needs_background": "light"
     },
     "output_type": "display_data"
    },
    {
     "name": "stdout",
     "output_type": "stream",
     "text": [
      "Statistical information of travel hours :\n",
      " count    7927.000000\n",
      "mean       14.106219\n",
      "std         7.781415\n",
      "min         0.000000\n",
      "25%         8.000000\n",
      "50%        14.000000\n",
      "75%        21.000000\n",
      "max        36.000000\n",
      "Name: travel_hours, dtype: float64\n"
     ]
    }
   ],
   "source": [
    "df.travel_hours.hist(bins =10,figsize=(10,5), color =\"green\")\n",
    "plt.axvline(np.mean(df.travel_hours), linewidth = 5, color = \"red\", label = \"mean travel hours\")\n",
    "plt.xlabel(\"travel hours\")\n",
    "plt.ylabel(\"count\")\n",
    "plt.legend()\n",
    "plt.show()\n",
    "print(\"Statistical information of travel hours :\\n\",\\\n",
    "      df.travel_hours.describe())\n"
   ]
  },
  {
   "cell_type": "markdown",
   "id": "92afa60b",
   "metadata": {},
   "source": [
    "-> Means of travel hours are 14 hours.\n",
    "-> Most of the travel hour ranges between 3 hours to 25 hours."
   ]
  },
  {
   "cell_type": "code",
   "execution_count": 70,
   "id": "dceacf4e",
   "metadata": {},
   "outputs": [
    {
     "data": {
      "image/png": "[encoded data removed]",
      "text/plain": [
       "<Figure size 720x360 with 1 Axes>"
      ]
     },
     "metadata": {
      "needs_background": "light"
     },
     "output_type": "display_data"
    },
    {
     "name": "stdout",
     "output_type": "stream",
     "text": [
      "Statistical information of Departure hours :\n",
      " count    7927.000000\n",
      "mean       16.838400\n",
      "std         3.880501\n",
      "min         9.000000\n",
      "25%        14.000000\n",
      "50%        17.000000\n",
      "75%        20.000000\n",
      "max        23.000000\n",
      "Name: dep_hour, dtype: float64\n"
     ]
    }
   ],
   "source": [
    "df.dep_hour.hist(bins =10,figsize=(10,5), color =\"green\")\n",
    "plt.axvline(np.mean(df.dep_hour), linewidth = 5, color = \"red\", label = \"mean departure hours\")\n",
    "plt.xlabel(\"Departure hours\")\n",
    "plt.ylabel(\"count\")\n",
    "plt.legend()\n",
    "plt.show()\n",
    "print(\"Statistical information of Departure hours :\\n\",\\\n",
    "      df.dep_hour.describe())\n"
   ]
  },
  {
   "cell_type": "markdown",
   "id": "4579e526",
   "metadata": {},
   "source": [
    "-> Counts of flights between 7pm to 8 pm are more than other timings.\n",
    "-> Most of flights timing ranges between 9am to 4:30 pm."
   ]
  },
  {
   "cell_type": "markdown",
   "id": "bedc2a6f",
   "metadata": {},
   "source": [
    "# Bi-Variate Analysis"
   ]
  },
  {
   "cell_type": "code",
   "execution_count": 64,
   "id": "a8392002",
   "metadata": {},
   "outputs": [
    {
     "data": {
      "image/png": "[encoded data removed]",
      "text/plain": [
       "<Figure size 432x288 with 1 Axes>"
      ]
     },
     "metadata": {
      "needs_background": "light"
     },
     "output_type": "display_data"
    }
   ],
   "source": [
    "sns.barplot(x=\"flight_name\",y=\"fare\",data=df)\n",
    "plt.xticks(rotation=90)\n",
    "plt.show()\n"
   ]
  },
  {
   "cell_type": "markdown",
   "id": "88086348",
   "metadata": {},
   "source": [
    "Air India flight's fares are costly followed by Vistara flights."
   ]
  },
  {
   "cell_type": "code",
   "execution_count": 65,
   "id": "43f806a3",
   "metadata": {},
   "outputs": [
    {
     "data": {
      "image/png": "[encoded data removed]",
      "text/plain": [
       "<Figure size 432x288 with 1 Axes>"
      ]
     },
     "metadata": {
      "needs_background": "light"
     },
     "output_type": "display_data"
    }
   ],
   "source": [
    "sns.barplot(x=\"source\",y=\"fare\",data=df)\n",
    "plt.xticks(rotation=90)\n",
    "plt.show()\n"
   ]
  },
  {
   "cell_type": "markdown",
   "id": "dc805c89",
   "metadata": {},
   "source": [
    "From Goa,Thiruvananthpuram  as source ,fares  are high."
   ]
  },
  {
   "cell_type": "code",
   "execution_count": 66,
   "id": "1b588513",
   "metadata": {},
   "outputs": [
    {
     "data": {
      "image/png": "[encoded data removed]",
      "text/plain": [
       "<Figure size 432x288 with 1 Axes>"
      ]
     },
     "metadata": {
      "needs_background": "light"
     },
     "output_type": "display_data"
    }
   ],
   "source": [
    "sns.barplot(x=\"destination\",y=\"fare\",data=df)\n",
    "plt.xticks(rotation=90)\n",
    "plt.show()\n"
   ]
  },
  {
   "cell_type": "markdown",
   "id": "394f571b",
   "metadata": {},
   "source": [
    "Bhubaneshwar and Thiruvananthpuram as destination,fares are high."
   ]
  },
  {
   "cell_type": "code",
   "execution_count": 71,
   "id": "0f70077f",
   "metadata": {},
   "outputs": [
    {
     "data": {
      "text/plain": [
       "<AxesSubplot:xlabel='stops', ylabel='fare'>"
      ]
     },
     "execution_count": 71,
     "metadata": {},
     "output_type": "execute_result"
    },
    {
     "data": {
      "image/png": "[encoded data removed]",
      "text/plain": [
       "<Figure size 432x288 with 1 Axes>"
      ]
     },
     "metadata": {
      "needs_background": "light"
     },
     "output_type": "display_data"
    }
   ],
   "source": [
    "sns.barplot(x=\"stops\",y=\"fare\",data=df)"
   ]
  },
  {
   "cell_type": "markdown",
   "id": "8e8b02f4",
   "metadata": {},
   "source": [
    "-> More stops ,higher fare.\n",
    "-> fare is lowest for non stop flights."
   ]
  },
  {
   "cell_type": "code",
   "execution_count": 79,
   "id": "0cfee521",
   "metadata": {},
   "outputs": [
    {
     "data": {
      "image/png": "[encoded data removed]",
      "text/plain": [
       "<Figure size 1080x360 with 1 Axes>"
      ]
     },
     "metadata": {
      "needs_background": "light"
     },
     "output_type": "display_data"
    }
   ],
   "source": [
    "plt.figure(figsize=(15,5))\n",
    "sns.barplot(x = \"dep_hour\",y = \"fare\", data = df, palette = \"rainbow\")\n",
    "plt.axhline(np.mean(df.fare), color = \"b\", linestyle=\"dashed\", linewidth=2)\n",
    "plt.title(\"Departure hours Vs Fare\", fontsize = 30)\n",
    "plt.xticks(rotation=45)\n",
    "plt.show()"
   ]
  },
  {
   "cell_type": "markdown",
   "id": "49670f11",
   "metadata": {},
   "source": [
    "-> Late night, after 9pm flight's fare are cheaper.\n",
    "-> Afternoon flights 2pm to 5pm ,fare is higher."
   ]
  },
  {
   "cell_type": "code",
   "execution_count": 78,
   "id": "c09b9112",
   "metadata": {},
   "outputs": [
    {
     "data": {
      "image/png": "[encoded data removed]",
      "text/plain": [
       "<Figure size 1080x360 with 1 Axes>"
      ]
     },
     "metadata": {
      "needs_background": "light"
     },
     "output_type": "display_data"
    }
   ],
   "source": [
    "plt.figure(figsize=(15,5))\n",
    "sns.barplot(x = \"arr_hour\",y = \"fare\", data = df, palette = \"rainbow\")\n",
    "plt.axhline(np.mean(df.fare), color = \"b\", linestyle=\"dashed\", linewidth=2)\n",
    "plt.title(\"Arrival hours Vs Fare\", fontsize = 30)\n",
    "plt.xticks(rotation=45)\n",
    "plt.show()"
   ]
  },
  {
   "cell_type": "markdown",
   "id": "d45ead3f",
   "metadata": {},
   "source": [
    "-> Arriving flights at 11 am and 13 pm, those flight's fare are higher. "
   ]
  },
  {
   "cell_type": "code",
   "execution_count": 77,
   "id": "807c29f4",
   "metadata": {},
   "outputs": [
    {
     "data": {
      "image/png": "[encoded data removed]",
      "text/plain": [
       "<Figure size 1080x360 with 1 Axes>"
      ]
     },
     "metadata": {
      "needs_background": "light"
     },
     "output_type": "display_data"
    }
   ],
   "source": [
    "plt.figure(figsize=(15,5))\n",
    "sns.barplot(x = \"travel_hours\",y = \"fare\", data = df, palette = \"rainbow\")\n",
    "plt.axhline(np.mean(df.fare), color = \"b\", linestyle=\"dashed\", linewidth=2)\n",
    "plt.title(\"Travel hours Vs Fare\", fontsize = 30)\n",
    "plt.xticks(rotation=45)\n",
    "plt.show()"
   ]
  },
  {
   "cell_type": "code",
   "execution_count": null,
   "id": "938e623d",
   "metadata": {},
   "outputs": [],
   "source": [
    "-> As travel time increases, fare increases."
   ]
  },
  {
   "cell_type": "markdown",
   "id": "f6b614be",
   "metadata": {},
   "source": [
    "# Multivariate  Analysis"
   ]
  },
  {
   "cell_type": "code",
   "execution_count": 94,
   "id": "47b17104",
   "metadata": {},
   "outputs": [
    {
     "data": {
      "text/plain": [
       "<seaborn.axisgrid.PairGrid at 0x288bd308850>"
      ]
     },
     "execution_count": 94,
     "metadata": {},
     "output_type": "execute_result"
    },
    {
     "data": {
      "image/png": "[encoded data removed]",
      "text/plain": [
       "<Figure size 720x180 with 4 Axes>"
      ]
     },
     "metadata": {
      "needs_background": "light"
     },
     "output_type": "display_data"
    }
   ],
   "source": [
    "sns.pairplot(df,y_vars=['fare'],x_vars=['stops','dep_hour','arr_hour','travel_hours'],kind = 'scatter')"
   ]
  },
  {
   "cell_type": "markdown",
   "id": "948e0c01",
   "metadata": {},
   "source": [
    "## Observations from Multivariate analysis:\n",
    "-> stops and fare are in linear relationship.As stops increases ,Fare increases.\n",
    "-> from non stop flights to flights having stops ,fare changes in large jumps.\n",
    "-> before 9 am and after 8 pm ,fligh's fares are cheaper comparatively than after 10 am to 8 pm.\n"
   ]
  },
  {
   "cell_type": "code",
   "execution_count": 67,
   "id": "eb2298a8",
   "metadata": {},
   "outputs": [
    {
     "data": {
      "text/html": [
       "<div>\n",
       "<style scoped>\n",
       "    .dataframe tbody tr th:only-of-type {\n",
       "        vertical-align: middle;\n",
       "    }\n",
       "\n",
       "    .dataframe tbody tr th {\n",
       "        vertical-align: top;\n",
       "    }\n",
       "\n",
       "    .dataframe thead th {\n",
       "        text-align: right;\n",
       "    }\n",
       "</style>\n",
       "<table border=\"1\" class=\"dataframe\">\n",
       "  <thead>\n",
       "    <tr style=\"text-align: right;\">\n",
       "      <th></th>\n",
       "      <th>flight_name</th>\n",
       "      <th>flight_id</th>\n",
       "      <th>stops</th>\n",
       "      <th>fare</th>\n",
       "      <th>source</th>\n",
       "      <th>destination</th>\n",
       "      <th>dep_hour</th>\n",
       "      <th>dep_minute</th>\n",
       "      <th>arr_hour</th>\n",
       "      <th>arr_minute</th>\n",
       "      <th>travel_hours</th>\n",
       "      <th>travel_minutes</th>\n",
       "    </tr>\n",
       "  </thead>\n",
       "  <tbody>\n",
       "    <tr>\n",
       "      <th>0</th>\n",
       "      <td>SpiceJet</td>\n",
       "      <td>SG - 534</td>\n",
       "      <td>0</td>\n",
       "      <td>8160</td>\n",
       "      <td>Delhi</td>\n",
       "      <td>Bengaluru</td>\n",
       "      <td>22</td>\n",
       "      <td>30</td>\n",
       "      <td>1</td>\n",
       "      <td>15</td>\n",
       "      <td>2</td>\n",
       "      <td>45</td>\n",
       "    </tr>\n",
       "    <tr>\n",
       "      <th>1</th>\n",
       "      <td>IndiGo</td>\n",
       "      <td>6E - 2036</td>\n",
       "      <td>0</td>\n",
       "      <td>8160</td>\n",
       "      <td>Delhi</td>\n",
       "      <td>Bengaluru</td>\n",
       "      <td>22</td>\n",
       "      <td>50</td>\n",
       "      <td>1</td>\n",
       "      <td>45</td>\n",
       "      <td>2</td>\n",
       "      <td>55</td>\n",
       "    </tr>\n",
       "    <tr>\n",
       "      <th>2</th>\n",
       "      <td>Go First</td>\n",
       "      <td>G8 - 275</td>\n",
       "      <td>1</td>\n",
       "      <td>8160</td>\n",
       "      <td>Delhi</td>\n",
       "      <td>Bengaluru</td>\n",
       "      <td>21</td>\n",
       "      <td>45</td>\n",
       "      <td>3</td>\n",
       "      <td>0</td>\n",
       "      <td>5</td>\n",
       "      <td>15</td>\n",
       "    </tr>\n",
       "    <tr>\n",
       "      <th>3</th>\n",
       "      <td>Go First</td>\n",
       "      <td>G8 - 2511</td>\n",
       "      <td>1</td>\n",
       "      <td>8160</td>\n",
       "      <td>Delhi</td>\n",
       "      <td>Bengaluru</td>\n",
       "      <td>10</td>\n",
       "      <td>45</td>\n",
       "      <td>16</td>\n",
       "      <td>5</td>\n",
       "      <td>5</td>\n",
       "      <td>20</td>\n",
       "    </tr>\n",
       "    <tr>\n",
       "      <th>4</th>\n",
       "      <td>Go First</td>\n",
       "      <td>G8 - 165</td>\n",
       "      <td>1</td>\n",
       "      <td>8160</td>\n",
       "      <td>Delhi</td>\n",
       "      <td>Bengaluru</td>\n",
       "      <td>10</td>\n",
       "      <td>0</td>\n",
       "      <td>16</td>\n",
       "      <td>5</td>\n",
       "      <td>6</td>\n",
       "      <td>5</td>\n",
       "    </tr>\n",
       "  </tbody>\n",
       "</table>\n",
       "</div>"
      ],
      "text/plain": [
       "  flight_name  flight_id  stops  fare source destination  dep_hour  \\\n",
       "0    SpiceJet   SG - 534      0  8160  Delhi   Bengaluru        22   \n",
       "1      IndiGo  6E - 2036      0  8160  Delhi   Bengaluru        22   \n",
       "2    Go First   G8 - 275      1  8160  Delhi   Bengaluru        21   \n",
       "3    Go First  G8 - 2511      1  8160  Delhi   Bengaluru        10   \n",
       "4    Go First   G8 - 165      1  8160  Delhi   Bengaluru        10   \n",
       "\n",
       "   dep_minute  arr_hour  arr_minute  travel_hours  travel_minutes  \n",
       "0          30         1          15             2              45  \n",
       "1          50         1          45             2              55  \n",
       "2          45         3           0             5              15  \n",
       "3          45        16           5             5              20  \n",
       "4           0        16           5             6               5  "
      ]
     },
     "execution_count": 67,
     "metadata": {},
     "output_type": "execute_result"
    }
   ],
   "source": [
    "df.head()"
   ]
  },
  {
   "cell_type": "markdown",
   "id": "c0038464",
   "metadata": {},
   "source": [
    "# Label Encoding"
   ]
  },
  {
   "cell_type": "code",
   "execution_count": 68,
   "id": "fe75b770",
   "metadata": {},
   "outputs": [
    {
     "data": {
      "text/html": [
       "<div>\n",
       "<style scoped>\n",
       "    .dataframe tbody tr th:only-of-type {\n",
       "        vertical-align: middle;\n",
       "    }\n",
       "\n",
       "    .dataframe tbody tr th {\n",
       "        vertical-align: top;\n",
       "    }\n",
       "\n",
       "    .dataframe thead th {\n",
       "        text-align: right;\n",
       "    }\n",
       "</style>\n",
       "<table border=\"1\" class=\"dataframe\">\n",
       "  <thead>\n",
       "    <tr style=\"text-align: right;\">\n",
       "      <th></th>\n",
       "      <th>flight_name</th>\n",
       "      <th>flight_id</th>\n",
       "      <th>stops</th>\n",
       "      <th>fare</th>\n",
       "      <th>source</th>\n",
       "      <th>destination</th>\n",
       "      <th>dep_hour</th>\n",
       "      <th>dep_minute</th>\n",
       "      <th>arr_hour</th>\n",
       "      <th>arr_minute</th>\n",
       "      <th>travel_hours</th>\n",
       "      <th>travel_minutes</th>\n",
       "    </tr>\n",
       "  </thead>\n",
       "  <tbody>\n",
       "    <tr>\n",
       "      <th>0</th>\n",
       "      <td>4</td>\n",
       "      <td>968</td>\n",
       "      <td>0</td>\n",
       "      <td>8160</td>\n",
       "      <td>8</td>\n",
       "      <td>3</td>\n",
       "      <td>22</td>\n",
       "      <td>30</td>\n",
       "      <td>1</td>\n",
       "      <td>15</td>\n",
       "      <td>2</td>\n",
       "      <td>45</td>\n",
       "    </tr>\n",
       "    <tr>\n",
       "      <th>1</th>\n",
       "      <td>3</td>\n",
       "      <td>52</td>\n",
       "      <td>0</td>\n",
       "      <td>8160</td>\n",
       "      <td>8</td>\n",
       "      <td>3</td>\n",
       "      <td>22</td>\n",
       "      <td>50</td>\n",
       "      <td>1</td>\n",
       "      <td>45</td>\n",
       "      <td>2</td>\n",
       "      <td>55</td>\n",
       "    </tr>\n",
       "    <tr>\n",
       "      <th>2</th>\n",
       "      <td>2</td>\n",
       "      <td>782</td>\n",
       "      <td>1</td>\n",
       "      <td>8160</td>\n",
       "      <td>8</td>\n",
       "      <td>3</td>\n",
       "      <td>21</td>\n",
       "      <td>45</td>\n",
       "      <td>3</td>\n",
       "      <td>0</td>\n",
       "      <td>5</td>\n",
       "      <td>15</td>\n",
       "    </tr>\n",
       "    <tr>\n",
       "      <th>3</th>\n",
       "      <td>2</td>\n",
       "      <td>771</td>\n",
       "      <td>1</td>\n",
       "      <td>8160</td>\n",
       "      <td>8</td>\n",
       "      <td>3</td>\n",
       "      <td>10</td>\n",
       "      <td>45</td>\n",
       "      <td>16</td>\n",
       "      <td>5</td>\n",
       "      <td>5</td>\n",
       "      <td>20</td>\n",
       "    </tr>\n",
       "    <tr>\n",
       "      <th>4</th>\n",
       "      <td>2</td>\n",
       "      <td>739</td>\n",
       "      <td>1</td>\n",
       "      <td>8160</td>\n",
       "      <td>8</td>\n",
       "      <td>3</td>\n",
       "      <td>10</td>\n",
       "      <td>0</td>\n",
       "      <td>16</td>\n",
       "      <td>5</td>\n",
       "      <td>6</td>\n",
       "      <td>5</td>\n",
       "    </tr>\n",
       "    <tr>\n",
       "      <th>...</th>\n",
       "      <td>...</td>\n",
       "      <td>...</td>\n",
       "      <td>...</td>\n",
       "      <td>...</td>\n",
       "      <td>...</td>\n",
       "      <td>...</td>\n",
       "      <td>...</td>\n",
       "      <td>...</td>\n",
       "      <td>...</td>\n",
       "      <td>...</td>\n",
       "      <td>...</td>\n",
       "      <td>...</td>\n",
       "    </tr>\n",
       "    <tr>\n",
       "      <th>7922</th>\n",
       "      <td>1</td>\n",
       "      <td>641</td>\n",
       "      <td>2</td>\n",
       "      <td>19497</td>\n",
       "      <td>7</td>\n",
       "      <td>8</td>\n",
       "      <td>15</td>\n",
       "      <td>5</td>\n",
       "      <td>13</td>\n",
       "      <td>45</td>\n",
       "      <td>22</td>\n",
       "      <td>40</td>\n",
       "    </tr>\n",
       "    <tr>\n",
       "      <th>7923</th>\n",
       "      <td>1</td>\n",
       "      <td>659</td>\n",
       "      <td>2</td>\n",
       "      <td>24484</td>\n",
       "      <td>7</td>\n",
       "      <td>8</td>\n",
       "      <td>14</td>\n",
       "      <td>0</td>\n",
       "      <td>7</td>\n",
       "      <td>20</td>\n",
       "      <td>17</td>\n",
       "      <td>20</td>\n",
       "    </tr>\n",
       "    <tr>\n",
       "      <th>7924</th>\n",
       "      <td>1</td>\n",
       "      <td>659</td>\n",
       "      <td>2</td>\n",
       "      <td>24484</td>\n",
       "      <td>7</td>\n",
       "      <td>8</td>\n",
       "      <td>14</td>\n",
       "      <td>0</td>\n",
       "      <td>7</td>\n",
       "      <td>20</td>\n",
       "      <td>17</td>\n",
       "      <td>20</td>\n",
       "    </tr>\n",
       "    <tr>\n",
       "      <th>7925</th>\n",
       "      <td>1</td>\n",
       "      <td>641</td>\n",
       "      <td>2</td>\n",
       "      <td>24642</td>\n",
       "      <td>7</td>\n",
       "      <td>8</td>\n",
       "      <td>15</td>\n",
       "      <td>5</td>\n",
       "      <td>13</td>\n",
       "      <td>45</td>\n",
       "      <td>22</td>\n",
       "      <td>40</td>\n",
       "    </tr>\n",
       "    <tr>\n",
       "      <th>7926</th>\n",
       "      <td>1</td>\n",
       "      <td>659</td>\n",
       "      <td>2</td>\n",
       "      <td>28317</td>\n",
       "      <td>7</td>\n",
       "      <td>8</td>\n",
       "      <td>14</td>\n",
       "      <td>0</td>\n",
       "      <td>13</td>\n",
       "      <td>45</td>\n",
       "      <td>23</td>\n",
       "      <td>45</td>\n",
       "    </tr>\n",
       "  </tbody>\n",
       "</table>\n",
       "<p>7927 rows × 12 columns</p>\n",
       "</div>"
      ],
      "text/plain": [
       "      flight_name  flight_id  stops   fare  source  destination  dep_hour  \\\n",
       "0               4        968      0   8160       8            3        22   \n",
       "1               3         52      0   8160       8            3        22   \n",
       "2               2        782      1   8160       8            3        21   \n",
       "3               2        771      1   8160       8            3        10   \n",
       "4               2        739      1   8160       8            3        10   \n",
       "...           ...        ...    ...    ...     ...          ...       ...   \n",
       "7922            1        641      2  19497       7            8        15   \n",
       "7923            1        659      2  24484       7            8        14   \n",
       "7924            1        659      2  24484       7            8        14   \n",
       "7925            1        641      2  24642       7            8        15   \n",
       "7926            1        659      2  28317       7            8        14   \n",
       "\n",
       "      dep_minute  arr_hour  arr_minute  travel_hours  travel_minutes  \n",
       "0             30         1          15             2              45  \n",
       "1             50         1          45             2              55  \n",
       "2             45         3           0             5              15  \n",
       "3             45        16           5             5              20  \n",
       "4              0        16           5             6               5  \n",
       "...          ...       ...         ...           ...             ...  \n",
       "7922           5        13          45            22              40  \n",
       "7923           0         7          20            17              20  \n",
       "7924           0         7          20            17              20  \n",
       "7925           5        13          45            22              40  \n",
       "7926           0        13          45            23              45  \n",
       "\n",
       "[7927 rows x 12 columns]"
      ]
     },
     "execution_count": 68,
     "metadata": {},
     "output_type": "execute_result"
    }
   ],
   "source": [
    "from sklearn.preprocessing import LabelEncoder\n",
    "categorical_cols = [ i for i in df.columns if df[i].dtype==object]\n",
    "lec = LabelEncoder()\n",
    "for column in categorical_cols:\n",
    "    df[column] = lec.fit_transform(df[column])\n",
    "df"
   ]
  },
  {
   "cell_type": "markdown",
   "id": "8591641d",
   "metadata": {},
   "source": [
    "# Statistical Description"
   ]
  },
  {
   "cell_type": "code",
   "execution_count": 20,
   "id": "b755476e",
   "metadata": {},
   "outputs": [
    {
     "data": {
      "text/html": [
       "<div>\n",
       "<style scoped>\n",
       "    .dataframe tbody tr th:only-of-type {\n",
       "        vertical-align: middle;\n",
       "    }\n",
       "\n",
       "    .dataframe tbody tr th {\n",
       "        vertical-align: top;\n",
       "    }\n",
       "\n",
       "    .dataframe thead th {\n",
       "        text-align: right;\n",
       "    }\n",
       "</style>\n",
       "<table border=\"1\" class=\"dataframe\">\n",
       "  <thead>\n",
       "    <tr style=\"text-align: right;\">\n",
       "      <th></th>\n",
       "      <th>flight_name</th>\n",
       "      <th>flight_id</th>\n",
       "      <th>stops</th>\n",
       "      <th>fare</th>\n",
       "      <th>source</th>\n",
       "      <th>destination</th>\n",
       "      <th>dep_hour</th>\n",
       "      <th>dep_minute</th>\n",
       "      <th>arr_hour</th>\n",
       "      <th>arr_minute</th>\n",
       "      <th>travel_hours</th>\n",
       "      <th>travel_minutes</th>\n",
       "    </tr>\n",
       "  </thead>\n",
       "  <tbody>\n",
       "    <tr>\n",
       "      <th>count</th>\n",
       "      <td>7927.000000</td>\n",
       "      <td>7927.000000</td>\n",
       "      <td>7927.000000</td>\n",
       "      <td>7927.000000</td>\n",
       "      <td>7927.000000</td>\n",
       "      <td>7927.000000</td>\n",
       "      <td>7927.000000</td>\n",
       "      <td>7927.000000</td>\n",
       "      <td>7927.000000</td>\n",
       "      <td>7927.000000</td>\n",
       "      <td>7927.000000</td>\n",
       "      <td>7927.000000</td>\n",
       "    </tr>\n",
       "    <tr>\n",
       "      <th>mean</th>\n",
       "      <td>3.008831</td>\n",
       "      <td>716.379967</td>\n",
       "      <td>1.251924</td>\n",
       "      <td>17363.793238</td>\n",
       "      <td>12.190110</td>\n",
       "      <td>12.841302</td>\n",
       "      <td>16.838400</td>\n",
       "      <td>27.367857</td>\n",
       "      <td>14.216475</td>\n",
       "      <td>29.330768</td>\n",
       "      <td>14.106219</td>\n",
       "      <td>27.001388</td>\n",
       "    </tr>\n",
       "    <tr>\n",
       "      <th>std</th>\n",
       "      <td>1.643674</td>\n",
       "      <td>329.640447</td>\n",
       "      <td>0.630608</td>\n",
       "      <td>6795.318861</td>\n",
       "      <td>7.278052</td>\n",
       "      <td>8.007175</td>\n",
       "      <td>3.880501</td>\n",
       "      <td>17.551357</td>\n",
       "      <td>5.746633</td>\n",
       "      <td>17.145254</td>\n",
       "      <td>7.781415</td>\n",
       "      <td>17.323505</td>\n",
       "    </tr>\n",
       "    <tr>\n",
       "      <th>min</th>\n",
       "      <td>0.000000</td>\n",
       "      <td>0.000000</td>\n",
       "      <td>0.000000</td>\n",
       "      <td>3435.000000</td>\n",
       "      <td>0.000000</td>\n",
       "      <td>0.000000</td>\n",
       "      <td>9.000000</td>\n",
       "      <td>0.000000</td>\n",
       "      <td>0.000000</td>\n",
       "      <td>0.000000</td>\n",
       "      <td>0.000000</td>\n",
       "      <td>0.000000</td>\n",
       "    </tr>\n",
       "    <tr>\n",
       "      <th>25%</th>\n",
       "      <td>1.000000</td>\n",
       "      <td>529.000000</td>\n",
       "      <td>1.000000</td>\n",
       "      <td>12394.500000</td>\n",
       "      <td>6.000000</td>\n",
       "      <td>6.000000</td>\n",
       "      <td>14.000000</td>\n",
       "      <td>10.000000</td>\n",
       "      <td>9.000000</td>\n",
       "      <td>15.000000</td>\n",
       "      <td>8.000000</td>\n",
       "      <td>10.000000</td>\n",
       "    </tr>\n",
       "    <tr>\n",
       "      <th>50%</th>\n",
       "      <td>3.000000</td>\n",
       "      <td>702.000000</td>\n",
       "      <td>1.000000</td>\n",
       "      <td>16971.000000</td>\n",
       "      <td>11.000000</td>\n",
       "      <td>12.000000</td>\n",
       "      <td>17.000000</td>\n",
       "      <td>30.000000</td>\n",
       "      <td>14.000000</td>\n",
       "      <td>30.000000</td>\n",
       "      <td>14.000000</td>\n",
       "      <td>25.000000</td>\n",
       "    </tr>\n",
       "    <tr>\n",
       "      <th>75%</th>\n",
       "      <td>5.000000</td>\n",
       "      <td>1045.000000</td>\n",
       "      <td>2.000000</td>\n",
       "      <td>21615.000000</td>\n",
       "      <td>19.000000</td>\n",
       "      <td>20.000000</td>\n",
       "      <td>20.000000</td>\n",
       "      <td>40.000000</td>\n",
       "      <td>19.000000</td>\n",
       "      <td>45.000000</td>\n",
       "      <td>21.000000</td>\n",
       "      <td>40.000000</td>\n",
       "    </tr>\n",
       "    <tr>\n",
       "      <th>max</th>\n",
       "      <td>5.000000</td>\n",
       "      <td>1127.000000</td>\n",
       "      <td>4.000000</td>\n",
       "      <td>45633.000000</td>\n",
       "      <td>28.000000</td>\n",
       "      <td>27.000000</td>\n",
       "      <td>23.000000</td>\n",
       "      <td>55.000000</td>\n",
       "      <td>23.000000</td>\n",
       "      <td>55.000000</td>\n",
       "      <td>36.000000</td>\n",
       "      <td>55.000000</td>\n",
       "    </tr>\n",
       "  </tbody>\n",
       "</table>\n",
       "</div>"
      ],
      "text/plain": [
       "       flight_name    flight_id        stops          fare       source  \\\n",
       "count  7927.000000  7927.000000  7927.000000   7927.000000  7927.000000   \n",
       "mean      3.008831   716.379967     1.251924  17363.793238    12.190110   \n",
       "std       1.643674   329.640447     0.630608   6795.318861     7.278052   \n",
       "min       0.000000     0.000000     0.000000   3435.000000     0.000000   \n",
       "25%       1.000000   529.000000     1.000000  12394.500000     6.000000   \n",
       "50%       3.000000   702.000000     1.000000  16971.000000    11.000000   \n",
       "75%       5.000000  1045.000000     2.000000  21615.000000    19.000000   \n",
       "max       5.000000  1127.000000     4.000000  45633.000000    28.000000   \n",
       "\n",
       "       destination     dep_hour   dep_minute     arr_hour   arr_minute  \\\n",
       "count  7927.000000  7927.000000  7927.000000  7927.000000  7927.000000   \n",
       "mean     12.841302    16.838400    27.367857    14.216475    29.330768   \n",
       "std       8.007175     3.880501    17.551357     5.746633    17.145254   \n",
       "min       0.000000     9.000000     0.000000     0.000000     0.000000   \n",
       "25%       6.000000    14.000000    10.000000     9.000000    15.000000   \n",
       "50%      12.000000    17.000000    30.000000    14.000000    30.000000   \n",
       "75%      20.000000    20.000000    40.000000    19.000000    45.000000   \n",
       "max      27.000000    23.000000    55.000000    23.000000    55.000000   \n",
       "\n",
       "       travel_hours  travel_minutes  \n",
       "count   7927.000000     7927.000000  \n",
       "mean      14.106219       27.001388  \n",
       "std        7.781415       17.323505  \n",
       "min        0.000000        0.000000  \n",
       "25%        8.000000       10.000000  \n",
       "50%       14.000000       25.000000  \n",
       "75%       21.000000       40.000000  \n",
       "max       36.000000       55.000000  "
      ]
     },
     "execution_count": 20,
     "metadata": {},
     "output_type": "execute_result"
    }
   ],
   "source": [
    "# Statistical Description\n",
    "df.describe()"
   ]
  },
  {
   "cell_type": "markdown",
   "id": "00ee372c",
   "metadata": {},
   "source": [
    "-> Minimum fare is 3435 rs and Max fare is 45633 rs.\n",
    "-> maximum travel hour with in India is 36 hours.\n",
    "-> Minimum stops is non stop and maximum stops is 4 stops."
   ]
  },
  {
   "cell_type": "markdown",
   "id": "fba5b1d2",
   "metadata": {},
   "source": [
    "# Correlation"
   ]
  },
  {
   "cell_type": "code",
   "execution_count": 21,
   "id": "8a5e445a",
   "metadata": {},
   "outputs": [
    {
     "data": {
      "text/html": [
       "<div>\n",
       "<style scoped>\n",
       "    .dataframe tbody tr th:only-of-type {\n",
       "        vertical-align: middle;\n",
       "    }\n",
       "\n",
       "    .dataframe tbody tr th {\n",
       "        vertical-align: top;\n",
       "    }\n",
       "\n",
       "    .dataframe thead th {\n",
       "        text-align: right;\n",
       "    }\n",
       "</style>\n",
       "<table border=\"1\" class=\"dataframe\">\n",
       "  <thead>\n",
       "    <tr style=\"text-align: right;\">\n",
       "      <th></th>\n",
       "      <th>flight_name</th>\n",
       "      <th>flight_id</th>\n",
       "      <th>stops</th>\n",
       "      <th>fare</th>\n",
       "      <th>source</th>\n",
       "      <th>destination</th>\n",
       "      <th>dep_hour</th>\n",
       "      <th>dep_minute</th>\n",
       "      <th>arr_hour</th>\n",
       "      <th>arr_minute</th>\n",
       "      <th>travel_hours</th>\n",
       "      <th>travel_minutes</th>\n",
       "    </tr>\n",
       "  </thead>\n",
       "  <tbody>\n",
       "    <tr>\n",
       "      <th>flight_name</th>\n",
       "      <td>1.000000</td>\n",
       "      <td>0.438299</td>\n",
       "      <td>-0.078588</td>\n",
       "      <td>0.093081</td>\n",
       "      <td>-0.016003</td>\n",
       "      <td>0.001516</td>\n",
       "      <td>0.039864</td>\n",
       "      <td>0.187353</td>\n",
       "      <td>0.044598</td>\n",
       "      <td>0.161740</td>\n",
       "      <td>0.092879</td>\n",
       "      <td>-0.018101</td>\n",
       "    </tr>\n",
       "    <tr>\n",
       "      <th>flight_id</th>\n",
       "      <td>0.438299</td>\n",
       "      <td>1.000000</td>\n",
       "      <td>0.241965</td>\n",
       "      <td>0.273256</td>\n",
       "      <td>-0.000501</td>\n",
       "      <td>-0.046042</td>\n",
       "      <td>0.181348</td>\n",
       "      <td>0.064392</td>\n",
       "      <td>-0.040193</td>\n",
       "      <td>0.139884</td>\n",
       "      <td>0.510406</td>\n",
       "      <td>-0.014647</td>\n",
       "    </tr>\n",
       "    <tr>\n",
       "      <th>stops</th>\n",
       "      <td>-0.078588</td>\n",
       "      <td>0.241965</td>\n",
       "      <td>1.000000</td>\n",
       "      <td>0.586993</td>\n",
       "      <td>0.087372</td>\n",
       "      <td>0.023585</td>\n",
       "      <td>0.007513</td>\n",
       "      <td>-0.128225</td>\n",
       "      <td>-0.006034</td>\n",
       "      <td>0.035491</td>\n",
       "      <td>0.620621</td>\n",
       "      <td>0.004022</td>\n",
       "    </tr>\n",
       "    <tr>\n",
       "      <th>fare</th>\n",
       "      <td>0.093081</td>\n",
       "      <td>0.273256</td>\n",
       "      <td>0.586993</td>\n",
       "      <td>1.000000</td>\n",
       "      <td>0.049843</td>\n",
       "      <td>0.055793</td>\n",
       "      <td>-0.133842</td>\n",
       "      <td>-0.135441</td>\n",
       "      <td>0.025819</td>\n",
       "      <td>0.045891</td>\n",
       "      <td>0.469762</td>\n",
       "      <td>-0.003991</td>\n",
       "    </tr>\n",
       "    <tr>\n",
       "      <th>source</th>\n",
       "      <td>-0.016003</td>\n",
       "      <td>-0.000501</td>\n",
       "      <td>0.087372</td>\n",
       "      <td>0.049843</td>\n",
       "      <td>1.000000</td>\n",
       "      <td>-0.014752</td>\n",
       "      <td>-0.130451</td>\n",
       "      <td>-0.043496</td>\n",
       "      <td>0.004060</td>\n",
       "      <td>-0.004526</td>\n",
       "      <td>0.035495</td>\n",
       "      <td>-0.014681</td>\n",
       "    </tr>\n",
       "    <tr>\n",
       "      <th>destination</th>\n",
       "      <td>0.001516</td>\n",
       "      <td>-0.046042</td>\n",
       "      <td>0.023585</td>\n",
       "      <td>0.055793</td>\n",
       "      <td>-0.014752</td>\n",
       "      <td>1.000000</td>\n",
       "      <td>0.007036</td>\n",
       "      <td>-0.003781</td>\n",
       "      <td>-0.052578</td>\n",
       "      <td>0.027063</td>\n",
       "      <td>0.000771</td>\n",
       "      <td>-0.018284</td>\n",
       "    </tr>\n",
       "    <tr>\n",
       "      <th>dep_hour</th>\n",
       "      <td>0.039864</td>\n",
       "      <td>0.181348</td>\n",
       "      <td>0.007513</td>\n",
       "      <td>-0.133842</td>\n",
       "      <td>-0.130451</td>\n",
       "      <td>0.007036</td>\n",
       "      <td>1.000000</td>\n",
       "      <td>0.036055</td>\n",
       "      <td>-0.267837</td>\n",
       "      <td>0.019642</td>\n",
       "      <td>0.085647</td>\n",
       "      <td>0.006060</td>\n",
       "    </tr>\n",
       "    <tr>\n",
       "      <th>dep_minute</th>\n",
       "      <td>0.187353</td>\n",
       "      <td>0.064392</td>\n",
       "      <td>-0.128225</td>\n",
       "      <td>-0.135441</td>\n",
       "      <td>-0.043496</td>\n",
       "      <td>-0.003781</td>\n",
       "      <td>0.036055</td>\n",
       "      <td>1.000000</td>\n",
       "      <td>-0.011869</td>\n",
       "      <td>0.026513</td>\n",
       "      <td>-0.065076</td>\n",
       "      <td>-0.025080</td>\n",
       "    </tr>\n",
       "    <tr>\n",
       "      <th>arr_hour</th>\n",
       "      <td>0.044598</td>\n",
       "      <td>-0.040193</td>\n",
       "      <td>-0.006034</td>\n",
       "      <td>0.025819</td>\n",
       "      <td>0.004060</td>\n",
       "      <td>-0.052578</td>\n",
       "      <td>-0.267837</td>\n",
       "      <td>-0.011869</td>\n",
       "      <td>1.000000</td>\n",
       "      <td>0.086888</td>\n",
       "      <td>0.068696</td>\n",
       "      <td>0.003492</td>\n",
       "    </tr>\n",
       "    <tr>\n",
       "      <th>arr_minute</th>\n",
       "      <td>0.161740</td>\n",
       "      <td>0.139884</td>\n",
       "      <td>0.035491</td>\n",
       "      <td>0.045891</td>\n",
       "      <td>-0.004526</td>\n",
       "      <td>0.027063</td>\n",
       "      <td>0.019642</td>\n",
       "      <td>0.026513</td>\n",
       "      <td>0.086888</td>\n",
       "      <td>1.000000</td>\n",
       "      <td>0.114780</td>\n",
       "      <td>-0.007724</td>\n",
       "    </tr>\n",
       "    <tr>\n",
       "      <th>travel_hours</th>\n",
       "      <td>0.092879</td>\n",
       "      <td>0.510406</td>\n",
       "      <td>0.620621</td>\n",
       "      <td>0.469762</td>\n",
       "      <td>0.035495</td>\n",
       "      <td>0.000771</td>\n",
       "      <td>0.085647</td>\n",
       "      <td>-0.065076</td>\n",
       "      <td>0.068696</td>\n",
       "      <td>0.114780</td>\n",
       "      <td>1.000000</td>\n",
       "      <td>-0.027877</td>\n",
       "    </tr>\n",
       "    <tr>\n",
       "      <th>travel_minutes</th>\n",
       "      <td>-0.018101</td>\n",
       "      <td>-0.014647</td>\n",
       "      <td>0.004022</td>\n",
       "      <td>-0.003991</td>\n",
       "      <td>-0.014681</td>\n",
       "      <td>-0.018284</td>\n",
       "      <td>0.006060</td>\n",
       "      <td>-0.025080</td>\n",
       "      <td>0.003492</td>\n",
       "      <td>-0.007724</td>\n",
       "      <td>-0.027877</td>\n",
       "      <td>1.000000</td>\n",
       "    </tr>\n",
       "  </tbody>\n",
       "</table>\n",
       "</div>"
      ],
      "text/plain": [
       "                flight_name  flight_id     stops      fare    source  \\\n",
       "flight_name        1.000000   0.438299 -0.078588  0.093081 -0.016003   \n",
       "flight_id          0.438299   1.000000  0.241965  0.273256 -0.000501   \n",
       "stops             -0.078588   0.241965  1.000000  0.586993  0.087372   \n",
       "fare               0.093081   0.273256  0.586993  1.000000  0.049843   \n",
       "source            -0.016003  -0.000501  0.087372  0.049843  1.000000   \n",
       "destination        0.001516  -0.046042  0.023585  0.055793 -0.014752   \n",
       "dep_hour           0.039864   0.181348  0.007513 -0.133842 -0.130451   \n",
       "dep_minute         0.187353   0.064392 -0.128225 -0.135441 -0.043496   \n",
       "arr_hour           0.044598  -0.040193 -0.006034  0.025819  0.004060   \n",
       "arr_minute         0.161740   0.139884  0.035491  0.045891 -0.004526   \n",
       "travel_hours       0.092879   0.510406  0.620621  0.469762  0.035495   \n",
       "travel_minutes    -0.018101  -0.014647  0.004022 -0.003991 -0.014681   \n",
       "\n",
       "                destination  dep_hour  dep_minute  arr_hour  arr_minute  \\\n",
       "flight_name        0.001516  0.039864    0.187353  0.044598    0.161740   \n",
       "flight_id         -0.046042  0.181348    0.064392 -0.040193    0.139884   \n",
       "stops              0.023585  0.007513   -0.128225 -0.006034    0.035491   \n",
       "fare               0.055793 -0.133842   -0.135441  0.025819    0.045891   \n",
       "source            -0.014752 -0.130451   -0.043496  0.004060   -0.004526   \n",
       "destination        1.000000  0.007036   -0.003781 -0.052578    0.027063   \n",
       "dep_hour           0.007036  1.000000    0.036055 -0.267837    0.019642   \n",
       "dep_minute        -0.003781  0.036055    1.000000 -0.011869    0.026513   \n",
       "arr_hour          -0.052578 -0.267837   -0.011869  1.000000    0.086888   \n",
       "arr_minute         0.027063  0.019642    0.026513  0.086888    1.000000   \n",
       "travel_hours       0.000771  0.085647   -0.065076  0.068696    0.114780   \n",
       "travel_minutes    -0.018284  0.006060   -0.025080  0.003492   -0.007724   \n",
       "\n",
       "                travel_hours  travel_minutes  \n",
       "flight_name         0.092879       -0.018101  \n",
       "flight_id           0.510406       -0.014647  \n",
       "stops               0.620621        0.004022  \n",
       "fare                0.469762       -0.003991  \n",
       "source              0.035495       -0.014681  \n",
       "destination         0.000771       -0.018284  \n",
       "dep_hour            0.085647        0.006060  \n",
       "dep_minute         -0.065076       -0.025080  \n",
       "arr_hour            0.068696        0.003492  \n",
       "arr_minute          0.114780       -0.007724  \n",
       "travel_hours        1.000000       -0.027877  \n",
       "travel_minutes     -0.027877        1.000000  "
      ]
     },
     "execution_count": 21,
     "metadata": {},
     "output_type": "execute_result"
    }
   ],
   "source": [
    "df.corr()"
   ]
  },
  {
   "cell_type": "code",
   "execution_count": 24,
   "id": "daf6b752",
   "metadata": {},
   "outputs": [
    {
     "data": {
      "text/plain": [
       "<AxesSubplot:>"
      ]
     },
     "execution_count": 24,
     "metadata": {},
     "output_type": "execute_result"
    },
    {
     "data": {
      "image/png": "[encoded data removed]",
      "text/plain": [
       "<Figure size 576x576 with 2 Axes>"
      ]
     },
     "metadata": {
      "needs_background": "light"
     },
     "output_type": "display_data"
    }
   ],
   "source": [
    "plt.figure(figsize = (8,8))\n",
    "sns.heatmap(df.corr(),cmap = 'RdYlGn',annot = True)"
   ]
  },
  {
   "cell_type": "code",
   "execution_count": 25,
   "id": "8088ce91",
   "metadata": {},
   "outputs": [
    {
     "data": {
      "image/png": "[encoded data removed]",
      "text/plain": [
       "<Figure size 576x576 with 1 Axes>"
      ]
     },
     "metadata": {
      "needs_background": "light"
     },
     "output_type": "display_data"
    },
    {
     "name": "stdout",
     "output_type": "stream",
     "text": [
      "KEY OBSERVATIONS:\n",
      " \n"
     ]
    },
    {
     "data": {
      "text/html": [
       "<div>\n",
       "<style scoped>\n",
       "    .dataframe tbody tr th:only-of-type {\n",
       "        vertical-align: middle;\n",
       "    }\n",
       "\n",
       "    .dataframe tbody tr th {\n",
       "        vertical-align: top;\n",
       "    }\n",
       "\n",
       "    .dataframe thead th {\n",
       "        text-align: right;\n",
       "    }\n",
       "</style>\n",
       "<table border=\"1\" class=\"dataframe\">\n",
       "  <thead>\n",
       "    <tr style=\"text-align: right;\">\n",
       "      <th></th>\n",
       "      <th>fare</th>\n",
       "    </tr>\n",
       "  </thead>\n",
       "  <tbody>\n",
       "    <tr>\n",
       "      <th>stops</th>\n",
       "      <td>0.586993</td>\n",
       "    </tr>\n",
       "    <tr>\n",
       "      <th>travel_hours</th>\n",
       "      <td>0.469762</td>\n",
       "    </tr>\n",
       "    <tr>\n",
       "      <th>flight_id</th>\n",
       "      <td>0.273256</td>\n",
       "    </tr>\n",
       "    <tr>\n",
       "      <th>flight_name</th>\n",
       "      <td>0.093081</td>\n",
       "    </tr>\n",
       "    <tr>\n",
       "      <th>destination</th>\n",
       "      <td>0.055793</td>\n",
       "    </tr>\n",
       "    <tr>\n",
       "      <th>source</th>\n",
       "      <td>0.049843</td>\n",
       "    </tr>\n",
       "    <tr>\n",
       "      <th>arr_minute</th>\n",
       "      <td>0.045891</td>\n",
       "    </tr>\n",
       "    <tr>\n",
       "      <th>arr_hour</th>\n",
       "      <td>0.025819</td>\n",
       "    </tr>\n",
       "    <tr>\n",
       "      <th>travel_minutes</th>\n",
       "      <td>-0.003991</td>\n",
       "    </tr>\n",
       "    <tr>\n",
       "      <th>dep_hour</th>\n",
       "      <td>-0.133842</td>\n",
       "    </tr>\n",
       "    <tr>\n",
       "      <th>dep_minute</th>\n",
       "      <td>-0.135441</td>\n",
       "    </tr>\n",
       "  </tbody>\n",
       "</table>\n",
       "</div>"
      ],
      "text/plain": [
       "                    fare\n",
       "stops           0.586993\n",
       "travel_hours    0.469762\n",
       "flight_id       0.273256\n",
       "flight_name     0.093081\n",
       "destination     0.055793\n",
       "source          0.049843\n",
       "arr_minute      0.045891\n",
       "arr_hour        0.025819\n",
       "travel_minutes -0.003991\n",
       "dep_hour       -0.133842\n",
       "dep_minute     -0.135441"
      ]
     },
     "execution_count": 25,
     "metadata": {},
     "output_type": "execute_result"
    }
   ],
   "source": [
    "plt.figure(figsize=(8,8))\n",
    "df.corr()[\"fare\"].sort_values(ascending=False).drop([\"fare\"]).plot.bar()\n",
    "plt.xlabel(\"Feature\", fontsize= 14)\n",
    "plt.ylabel(\"correlation with Target column\", fontsize = 18)\n",
    "plt.title(\"Correlation of Fetures with the target column\", fontsize=25)\n",
    "plt.show()\n",
    "corr=pd.DataFrame(df.corr()[\"fare\"].sort_values(ascending=False)).drop([\"fare\"])\n",
    "print(\"KEY OBSERVATIONS:\\n \")\n",
    "corr\n",
    "\n"
   ]
  },
  {
   "cell_type": "markdown",
   "id": "d0ce93ca",
   "metadata": {},
   "source": [
    "-> Stops and travel_hours has good relationship with fare.\n",
    "-> dep_hour and dep_minute is negatively correlated with fare.\n",
    "-> travel_minutes is very much weakly negative correlation with fare.\n"
   ]
  },
  {
   "cell_type": "markdown",
   "id": "d71d3690",
   "metadata": {},
   "source": [
    "# Outliers"
   ]
  },
  {
   "cell_type": "code",
   "execution_count": 30,
   "id": "371589ee",
   "metadata": {},
   "outputs": [
    {
     "data": {
      "image/png": "[encoded data removed]",
      "text/plain": [
       "<Figure size 1080x1080 with 7 Axes>"
      ]
     },
     "metadata": {
      "needs_background": "light"
     },
     "output_type": "display_data"
    }
   ],
   "source": [
    "numerical_cols = ['travel_hours','travel_minutes','dep_hour','dep_minute','stops','arr_hour','arr_minute']\n",
    "plt.figure(figsize=(15,15))\n",
    "graph = 1\n",
    "for i in numerical_cols:\n",
    "    if graph <= 8:\n",
    "        plt.subplot(4,2,graph)\n",
    "        sns.boxplot(df[i])\n",
    "        plt.xlabel(i)\n",
    "        graph += 1\n",
    "        \n",
    "plt.show()    "
   ]
  },
  {
   "cell_type": "markdown",
   "id": "494ddbfb",
   "metadata": {},
   "source": [
    "There is not any outliers present in our dataset."
   ]
  },
  {
   "cell_type": "markdown",
   "id": "715b6edb",
   "metadata": {},
   "source": [
    "# Skewness"
   ]
  },
  {
   "cell_type": "code",
   "execution_count": 31,
   "id": "f23402cf",
   "metadata": {},
   "outputs": [
    {
     "data": {
      "text/plain": [
       "flight_name      -0.115077\n",
       "flight_id        -0.520805\n",
       "stops             0.536524\n",
       "fare              0.452229\n",
       "source            0.112342\n",
       "destination       0.143701\n",
       "dep_hour         -0.344238\n",
       "dep_minute       -0.086202\n",
       "arr_hour         -0.371397\n",
       "arr_minute       -0.128821\n",
       "travel_hours      0.166463\n",
       "travel_minutes    0.054998\n",
       "dtype: float64"
      ]
     },
     "execution_count": 31,
     "metadata": {},
     "output_type": "execute_result"
    }
   ],
   "source": [
    "df.skew()"
   ]
  },
  {
   "cell_type": "markdown",
   "id": "b7ff3a82",
   "metadata": {},
   "source": [
    "All values are in +/- 0.5 range. Data are almost normally distributed for each column's data."
   ]
  },
  {
   "cell_type": "markdown",
   "id": "03f93628",
   "metadata": {},
   "source": [
    "# Separating Features and Target"
   ]
  },
  {
   "cell_type": "code",
   "execution_count": 69,
   "id": "f3699e94",
   "metadata": {},
   "outputs": [],
   "source": [
    "y = df['fare']\n",
    "x = df.drop('fare',axis =1)"
   ]
  },
  {
   "cell_type": "code",
   "execution_count": 70,
   "id": "8dabbe5b",
   "metadata": {},
   "outputs": [
    {
     "data": {
      "text/plain": [
       "(7927, 11)"
      ]
     },
     "execution_count": 70,
     "metadata": {},
     "output_type": "execute_result"
    }
   ],
   "source": [
    "x.shape"
   ]
  },
  {
   "cell_type": "code",
   "execution_count": 71,
   "id": "6d7624b3",
   "metadata": {},
   "outputs": [
    {
     "data": {
      "text/plain": [
       "(7927,)"
      ]
     },
     "execution_count": 71,
     "metadata": {},
     "output_type": "execute_result"
    }
   ],
   "source": [
    "y.shape"
   ]
  },
  {
   "cell_type": "markdown",
   "id": "32a69566",
   "metadata": {},
   "source": [
    "# Standardization"
   ]
  },
  {
   "cell_type": "code",
   "execution_count": 72,
   "id": "88186d6e",
   "metadata": {},
   "outputs": [
    {
     "data": {
      "text/html": [
       "<div>\n",
       "<style scoped>\n",
       "    .dataframe tbody tr th:only-of-type {\n",
       "        vertical-align: middle;\n",
       "    }\n",
       "\n",
       "    .dataframe tbody tr th {\n",
       "        vertical-align: top;\n",
       "    }\n",
       "\n",
       "    .dataframe thead th {\n",
       "        text-align: right;\n",
       "    }\n",
       "</style>\n",
       "<table border=\"1\" class=\"dataframe\">\n",
       "  <thead>\n",
       "    <tr style=\"text-align: right;\">\n",
       "      <th></th>\n",
       "      <th>flight_name</th>\n",
       "      <th>flight_id</th>\n",
       "      <th>stops</th>\n",
       "      <th>source</th>\n",
       "      <th>destination</th>\n",
       "      <th>dep_hour</th>\n",
       "      <th>dep_minute</th>\n",
       "      <th>arr_hour</th>\n",
       "      <th>arr_minute</th>\n",
       "      <th>travel_hours</th>\n",
       "      <th>travel_minutes</th>\n",
       "    </tr>\n",
       "  </thead>\n",
       "  <tbody>\n",
       "    <tr>\n",
       "      <th>0</th>\n",
       "      <td>0.603059</td>\n",
       "      <td>0.763365</td>\n",
       "      <td>-1.985389</td>\n",
       "      <td>-0.575755</td>\n",
       "      <td>-1.229138</td>\n",
       "      <td>1.330221</td>\n",
       "      <td>0.149978</td>\n",
       "      <td>-2.300009</td>\n",
       "      <td>-0.835897</td>\n",
       "      <td>-1.555885</td>\n",
       "      <td>1.039036</td>\n",
       "    </tr>\n",
       "    <tr>\n",
       "      <th>1</th>\n",
       "      <td>-0.005373</td>\n",
       "      <td>-2.015596</td>\n",
       "      <td>-1.985389</td>\n",
       "      <td>-0.575755</td>\n",
       "      <td>-1.229138</td>\n",
       "      <td>1.330221</td>\n",
       "      <td>1.289562</td>\n",
       "      <td>-2.300009</td>\n",
       "      <td>0.913968</td>\n",
       "      <td>-1.555885</td>\n",
       "      <td>1.616323</td>\n",
       "    </tr>\n",
       "    <tr>\n",
       "      <th>2</th>\n",
       "      <td>-0.613804</td>\n",
       "      <td>0.199078</td>\n",
       "      <td>-0.399518</td>\n",
       "      <td>-0.575755</td>\n",
       "      <td>-1.229138</td>\n",
       "      <td>1.072506</td>\n",
       "      <td>1.004666</td>\n",
       "      <td>-1.951958</td>\n",
       "      <td>-1.710830</td>\n",
       "      <td>-1.170326</td>\n",
       "      <td>-0.692824</td>\n",
       "    </tr>\n",
       "    <tr>\n",
       "      <th>3</th>\n",
       "      <td>-0.613804</td>\n",
       "      <td>0.165706</td>\n",
       "      <td>-0.399518</td>\n",
       "      <td>-0.575755</td>\n",
       "      <td>-1.229138</td>\n",
       "      <td>-1.762358</td>\n",
       "      <td>1.004666</td>\n",
       "      <td>0.310380</td>\n",
       "      <td>-1.419186</td>\n",
       "      <td>-1.170326</td>\n",
       "      <td>-0.404181</td>\n",
       "    </tr>\n",
       "    <tr>\n",
       "      <th>4</th>\n",
       "      <td>-0.613804</td>\n",
       "      <td>0.068625</td>\n",
       "      <td>-0.399518</td>\n",
       "      <td>-0.575755</td>\n",
       "      <td>-1.229138</td>\n",
       "      <td>-1.762358</td>\n",
       "      <td>-1.559400</td>\n",
       "      <td>0.310380</td>\n",
       "      <td>-1.419186</td>\n",
       "      <td>-1.041807</td>\n",
       "      <td>-1.270111</td>\n",
       "    </tr>\n",
       "    <tr>\n",
       "      <th>...</th>\n",
       "      <td>...</td>\n",
       "      <td>...</td>\n",
       "      <td>...</td>\n",
       "      <td>...</td>\n",
       "      <td>...</td>\n",
       "      <td>...</td>\n",
       "      <td>...</td>\n",
       "      <td>...</td>\n",
       "      <td>...</td>\n",
       "      <td>...</td>\n",
       "      <td>...</td>\n",
       "    </tr>\n",
       "    <tr>\n",
       "      <th>7922</th>\n",
       "      <td>-1.222236</td>\n",
       "      <td>-0.228688</td>\n",
       "      <td>1.186352</td>\n",
       "      <td>-0.713163</td>\n",
       "      <td>-0.604659</td>\n",
       "      <td>-0.473783</td>\n",
       "      <td>-1.274504</td>\n",
       "      <td>-0.211698</td>\n",
       "      <td>0.913968</td>\n",
       "      <td>1.014504</td>\n",
       "      <td>0.750393</td>\n",
       "    </tr>\n",
       "    <tr>\n",
       "      <th>7923</th>\n",
       "      <td>-1.222236</td>\n",
       "      <td>-0.174079</td>\n",
       "      <td>1.186352</td>\n",
       "      <td>-0.713163</td>\n",
       "      <td>-0.604659</td>\n",
       "      <td>-0.731498</td>\n",
       "      <td>-1.559400</td>\n",
       "      <td>-1.255854</td>\n",
       "      <td>-0.544253</td>\n",
       "      <td>0.371907</td>\n",
       "      <td>-0.404181</td>\n",
       "    </tr>\n",
       "    <tr>\n",
       "      <th>7924</th>\n",
       "      <td>-1.222236</td>\n",
       "      <td>-0.174079</td>\n",
       "      <td>1.186352</td>\n",
       "      <td>-0.713163</td>\n",
       "      <td>-0.604659</td>\n",
       "      <td>-0.731498</td>\n",
       "      <td>-1.559400</td>\n",
       "      <td>-1.255854</td>\n",
       "      <td>-0.544253</td>\n",
       "      <td>0.371907</td>\n",
       "      <td>-0.404181</td>\n",
       "    </tr>\n",
       "    <tr>\n",
       "      <th>7925</th>\n",
       "      <td>-1.222236</td>\n",
       "      <td>-0.228688</td>\n",
       "      <td>1.186352</td>\n",
       "      <td>-0.713163</td>\n",
       "      <td>-0.604659</td>\n",
       "      <td>-0.473783</td>\n",
       "      <td>-1.274504</td>\n",
       "      <td>-0.211698</td>\n",
       "      <td>0.913968</td>\n",
       "      <td>1.014504</td>\n",
       "      <td>0.750393</td>\n",
       "    </tr>\n",
       "    <tr>\n",
       "      <th>7926</th>\n",
       "      <td>-1.222236</td>\n",
       "      <td>-0.174079</td>\n",
       "      <td>1.186352</td>\n",
       "      <td>-0.713163</td>\n",
       "      <td>-0.604659</td>\n",
       "      <td>-0.731498</td>\n",
       "      <td>-1.559400</td>\n",
       "      <td>-0.211698</td>\n",
       "      <td>0.913968</td>\n",
       "      <td>1.143024</td>\n",
       "      <td>1.039036</td>\n",
       "    </tr>\n",
       "  </tbody>\n",
       "</table>\n",
       "<p>7927 rows × 11 columns</p>\n",
       "</div>"
      ],
      "text/plain": [
       "      flight_name  flight_id     stops    source  destination  dep_hour  \\\n",
       "0        0.603059   0.763365 -1.985389 -0.575755    -1.229138  1.330221   \n",
       "1       -0.005373  -2.015596 -1.985389 -0.575755    -1.229138  1.330221   \n",
       "2       -0.613804   0.199078 -0.399518 -0.575755    -1.229138  1.072506   \n",
       "3       -0.613804   0.165706 -0.399518 -0.575755    -1.229138 -1.762358   \n",
       "4       -0.613804   0.068625 -0.399518 -0.575755    -1.229138 -1.762358   \n",
       "...           ...        ...       ...       ...          ...       ...   \n",
       "7922    -1.222236  -0.228688  1.186352 -0.713163    -0.604659 -0.473783   \n",
       "7923    -1.222236  -0.174079  1.186352 -0.713163    -0.604659 -0.731498   \n",
       "7924    -1.222236  -0.174079  1.186352 -0.713163    -0.604659 -0.731498   \n",
       "7925    -1.222236  -0.228688  1.186352 -0.713163    -0.604659 -0.473783   \n",
       "7926    -1.222236  -0.174079  1.186352 -0.713163    -0.604659 -0.731498   \n",
       "\n",
       "      dep_minute  arr_hour  arr_minute  travel_hours  travel_minutes  \n",
       "0       0.149978 -2.300009   -0.835897     -1.555885        1.039036  \n",
       "1       1.289562 -2.300009    0.913968     -1.555885        1.616323  \n",
       "2       1.004666 -1.951958   -1.710830     -1.170326       -0.692824  \n",
       "3       1.004666  0.310380   -1.419186     -1.170326       -0.404181  \n",
       "4      -1.559400  0.310380   -1.419186     -1.041807       -1.270111  \n",
       "...          ...       ...         ...           ...             ...  \n",
       "7922   -1.274504 -0.211698    0.913968      1.014504        0.750393  \n",
       "7923   -1.559400 -1.255854   -0.544253      0.371907       -0.404181  \n",
       "7924   -1.559400 -1.255854   -0.544253      0.371907       -0.404181  \n",
       "7925   -1.274504 -0.211698    0.913968      1.014504        0.750393  \n",
       "7926   -1.559400 -0.211698    0.913968      1.143024        1.039036  \n",
       "\n",
       "[7927 rows x 11 columns]"
      ]
     },
     "execution_count": 72,
     "metadata": {},
     "output_type": "execute_result"
    }
   ],
   "source": [
    "from sklearn.preprocessing import StandardScaler\n",
    "scaler = StandardScaler()\n",
    "x =pd.DataFrame(scaler.fit_transform(x),columns=x.columns)\n",
    "x"
   ]
  },
  {
   "cell_type": "markdown",
   "id": "4f99b06f",
   "metadata": {},
   "source": [
    "# Checking for Multicollinearity Problem using VIF:- "
   ]
  },
  {
   "cell_type": "code",
   "execution_count": 73,
   "id": "d1e6cf47",
   "metadata": {},
   "outputs": [
    {
     "data": {
      "text/html": [
       "<div>\n",
       "<style scoped>\n",
       "    .dataframe tbody tr th:only-of-type {\n",
       "        vertical-align: middle;\n",
       "    }\n",
       "\n",
       "    .dataframe tbody tr th {\n",
       "        vertical-align: top;\n",
       "    }\n",
       "\n",
       "    .dataframe thead th {\n",
       "        text-align: right;\n",
       "    }\n",
       "</style>\n",
       "<table border=\"1\" class=\"dataframe\">\n",
       "  <thead>\n",
       "    <tr style=\"text-align: right;\">\n",
       "      <th></th>\n",
       "      <th>VIF values</th>\n",
       "      <th>Features</th>\n",
       "    </tr>\n",
       "  </thead>\n",
       "  <tbody>\n",
       "    <tr>\n",
       "      <th>0</th>\n",
       "      <td>1.358905</td>\n",
       "      <td>flight_name</td>\n",
       "    </tr>\n",
       "    <tr>\n",
       "      <th>1</th>\n",
       "      <td>1.779279</td>\n",
       "      <td>flight_id</td>\n",
       "    </tr>\n",
       "    <tr>\n",
       "      <th>2</th>\n",
       "      <td>1.715293</td>\n",
       "      <td>stops</td>\n",
       "    </tr>\n",
       "    <tr>\n",
       "      <th>3</th>\n",
       "      <td>1.028012</td>\n",
       "      <td>source</td>\n",
       "    </tr>\n",
       "    <tr>\n",
       "      <th>4</th>\n",
       "      <td>1.009951</td>\n",
       "      <td>destination</td>\n",
       "    </tr>\n",
       "    <tr>\n",
       "      <th>5</th>\n",
       "      <td>1.139554</td>\n",
       "      <td>dep_hour</td>\n",
       "    </tr>\n",
       "    <tr>\n",
       "      <th>6</th>\n",
       "      <td>1.053786</td>\n",
       "      <td>dep_minute</td>\n",
       "    </tr>\n",
       "    <tr>\n",
       "      <th>7</th>\n",
       "      <td>1.115166</td>\n",
       "      <td>arr_hour</td>\n",
       "    </tr>\n",
       "    <tr>\n",
       "      <th>8</th>\n",
       "      <td>1.046829</td>\n",
       "      <td>arr_minute</td>\n",
       "    </tr>\n",
       "    <tr>\n",
       "      <th>9</th>\n",
       "      <td>2.157294</td>\n",
       "      <td>travel_hours</td>\n",
       "    </tr>\n",
       "    <tr>\n",
       "      <th>10</th>\n",
       "      <td>1.003024</td>\n",
       "      <td>travel_minutes</td>\n",
       "    </tr>\n",
       "  </tbody>\n",
       "</table>\n",
       "</div>"
      ],
      "text/plain": [
       "    VIF values        Features\n",
       "0     1.358905     flight_name\n",
       "1     1.779279       flight_id\n",
       "2     1.715293           stops\n",
       "3     1.028012          source\n",
       "4     1.009951     destination\n",
       "5     1.139554        dep_hour\n",
       "6     1.053786      dep_minute\n",
       "7     1.115166        arr_hour\n",
       "8     1.046829      arr_minute\n",
       "9     2.157294    travel_hours\n",
       "10    1.003024  travel_minutes"
      ]
     },
     "execution_count": 73,
     "metadata": {},
     "output_type": "execute_result"
    }
   ],
   "source": [
    "# Checking for Multicollinearity Problem using VIF:- \n",
    "from statsmodels.stats.outliers_influence import variance_inflation_factor\n",
    "vif = pd.DataFrame()\n",
    "vif['VIF values']= [variance_inflation_factor(x.values,i) for i in range(len(x.columns))]\n",
    "vif['Features'] = x.columns\n",
    "vif\n"
   ]
  },
  {
   "cell_type": "markdown",
   "id": "b952a8d8",
   "metadata": {},
   "source": [
    "All values are less than 5, So now proceed to model building part."
   ]
  },
  {
   "cell_type": "markdown",
   "id": "0d588326",
   "metadata": {},
   "source": [
    "# Building the model"
   ]
  },
  {
   "cell_type": "code",
   "execution_count": 74,
   "id": "860c791d",
   "metadata": {},
   "outputs": [],
   "source": [
    "from sklearn.model_selection import train_test_split\n",
    "from sklearn.linear_model import LinearRegression,Lasso,Ridge\n",
    "from sklearn.metrics import r2_score\n",
    "from sklearn.svm import SVR\n",
    "from sklearn.neighbors import KNeighborsRegressor\n",
    "from sklearn.tree import DecisionTreeRegressor\n",
    "from sklearn.ensemble import RandomForestRegressor\n",
    "from sklearn.ensemble import AdaBoostRegressor,GradientBoostingRegressor\n",
    "from sklearn.metrics import mean_absolute_error,mean_squared_error\n",
    "from sklearn.model_selection import cross_val_score\n"
   ]
  },
  {
   "cell_type": "markdown",
   "id": "43d97fb7",
   "metadata": {},
   "source": [
    "# Finding the best random state"
   ]
  },
  {
   "cell_type": "code",
   "execution_count": 78,
   "id": "9d192058",
   "metadata": {},
   "outputs": [
    {
     "name": "stdout",
     "output_type": "stream",
     "text": [
      "max r2 score corresponding to 140 is 0.7801605384745995\n"
     ]
    }
   ],
   "source": [
    "max_r2_score=0\n",
    "for r_state in range(1,200):\n",
    "    x_train,x_test,y_train,y_test=train_test_split(x,y,random_state=r_state,test_size=0.30)\n",
    "    rf=RandomForestRegressor()\n",
    "    rf.fit(x_train,y_train)\n",
    "    y_pred=rf.predict(x_test)\n",
    "    score=r2_score(y_test,y_pred)\n",
    "    if score > max_r2_score:\n",
    "        max_r2_score = score\n",
    "        final_r_state = r_state\n",
    "print(\"max r2 score corresponding to\",final_r_state,\"is\",max_r2_score)"
   ]
  },
  {
   "cell_type": "code",
   "execution_count": 79,
   "id": "9c6b5bc2",
   "metadata": {},
   "outputs": [],
   "source": [
    "#Creating train_test_split using best random_state\n",
    "x_train,x_test,y_train,y_test=train_test_split(x,y,random_state=r_state,test_size=.30)"
   ]
  },
  {
   "cell_type": "code",
   "execution_count": 80,
   "id": "c5fb3c47",
   "metadata": {},
   "outputs": [],
   "source": [
    "lr=LinearRegression()\n",
    "lasso=Lasso()\n",
    "ridge=Ridge()\n",
    "svr=SVR()\n",
    "dtr=DecisionTreeRegressor()\n",
    "knr=KNeighborsRegressor()\n",
    "rf = RandomForestRegressor()\n",
    "adb = AdaBoostRegressor()\n",
    "gbr =GradientBoostingRegressor()"
   ]
  },
  {
   "cell_type": "code",
   "execution_count": 84,
   "id": "9f586d14",
   "metadata": {},
   "outputs": [],
   "source": [
    "models= []\n",
    "models.append(('Linear Regression',lr))\n",
    "models.append(('Lasso Regression',lasso))\n",
    "models.append(('Random Forest Regression',rf))\n",
    "models.append(('Ridge Regression',ridge))\n",
    "models.append(('Support Vector Regressor',svr))\n",
    "models.append(('Decision Tree Regressor',dtr))\n",
    "models.append(('KNeighbors Regressor',knr))\n",
    "models.append(('AdaBoost Regressor',adb))\n",
    "models.append(('GradientBoostingRegressor',gbr))\n"
   ]
  },
  {
   "cell_type": "markdown",
   "id": "f534e2e7",
   "metadata": {},
   "source": [
    "# Scores,Cross Validation of Models"
   ]
  },
  {
   "cell_type": "code",
   "execution_count": 86,
   "id": "a3dc5591",
   "metadata": {},
   "outputs": [
    {
     "name": "stdout",
     "output_type": "stream",
     "text": [
      "\n",
      "\n",
      "LinearRegression()\n",
      "\n",
      "\n",
      "r2_score:  0.42416811880239325\n",
      "\n",
      "\n",
      "cross_val_score:  0.27835446026139177\n",
      "\n",
      "\n",
      "Standard Deviation:  0.09117471961363585\n",
      "\n",
      "\n",
      "Mean Absolute Error:  4097.907874363057\n",
      "\n",
      "\n",
      "Mean Squared Error:  27349349.47326085\n",
      "\n",
      "\n",
      "Root Mean Squared Error:  5229.660550481345\n",
      "\n",
      "\n",
      "\n",
      "\n",
      "\n",
      "Lasso()\n",
      "\n",
      "\n",
      "r2_score:  0.4241774474590886\n",
      "\n",
      "\n",
      "cross_val_score:  0.27844745835514617\n",
      "\n",
      "\n",
      "Standard Deviation:  0.0911638254063981\n",
      "\n",
      "\n",
      "Mean Absolute Error:  4097.901137079694\n",
      "\n",
      "\n",
      "Mean Squared Error:  27348906.40523977\n",
      "\n",
      "\n",
      "Root Mean Squared Error:  5229.618189240948\n",
      "\n",
      "\n",
      "\n",
      "\n",
      "\n",
      "RandomForestRegressor()\n",
      "\n",
      "\n",
      "r2_score:  0.7579560052204081\n",
      "\n",
      "\n",
      "cross_val_score:  0.29018169428104074\n",
      "\n",
      "\n",
      "Standard Deviation:  0.09788259656434918\n",
      "\n",
      "\n",
      "Mean Absolute Error:  2445.574383672904\n",
      "\n",
      "\n",
      "Mean Squared Error:  11495969.60029989\n",
      "\n",
      "\n",
      "Root Mean Squared Error:  3390.5706894710056\n",
      "\n",
      "\n",
      "\n",
      "\n",
      "\n",
      "Ridge()\n",
      "\n",
      "\n",
      "r2_score:  0.42415958138869947\n",
      "\n",
      "\n",
      "cross_val_score:  0.2783624849541507\n",
      "\n",
      "\n",
      "Standard Deviation:  0.09118483528295203\n",
      "\n",
      "\n",
      "Mean Absolute Error:  4097.943777203356\n",
      "\n",
      "\n",
      "Mean Squared Error:  27349754.960901134\n",
      "\n",
      "\n",
      "Root Mean Squared Error:  5229.69931840265\n",
      "\n",
      "\n",
      "\n",
      "\n",
      "\n",
      "SVR()\n",
      "\n",
      "\n",
      "r2_score:  0.018288618314177163\n",
      "\n",
      "\n",
      "cross_val_score:  -0.13691379419058416\n",
      "\n",
      "\n",
      "Standard Deviation:  0.11558664058286944\n",
      "\n",
      "\n",
      "Mean Absolute Error:  5406.865975356112\n",
      "\n",
      "\n",
      "Mean Squared Error:  46626747.38286951\n",
      "\n",
      "\n",
      "Root Mean Squared Error:  6828.378093139652\n",
      "\n",
      "\n",
      "\n",
      "\n",
      "\n",
      "DecisionTreeRegressor()\n",
      "\n",
      "\n",
      "r2_score:  0.5062013634347446\n",
      "\n",
      "\n",
      "cross_val_score:  -0.20376173335236594\n",
      "\n",
      "\n",
      "Standard Deviation:  0.20846940256153834\n",
      "\n",
      "\n",
      "Mean Absolute Error:  3241.1064763105746\n",
      "\n",
      "\n",
      "Mean Squared Error:  23453149.993632235\n",
      "\n",
      "\n",
      "Root Mean Squared Error:  4842.845237423166\n",
      "\n",
      "\n",
      "\n",
      "\n",
      "\n",
      "KNeighborsRegressor()\n",
      "\n",
      "\n",
      "r2_score:  0.5374763460021672\n",
      "\n",
      "\n",
      "cross_val_score:  0.1960919323773658\n",
      "\n",
      "\n",
      "Standard Deviation:  0.13298643026985454\n",
      "\n",
      "\n",
      "Mean Absolute Error:  3545.4720470786046\n",
      "\n",
      "\n",
      "Mean Squared Error:  21967733.05869693\n",
      "\n",
      "\n",
      "Root Mean Squared Error:  4686.974830175316\n",
      "\n",
      "\n",
      "\n",
      "\n",
      "\n",
      "AdaBoostRegressor()\n",
      "\n",
      "\n",
      "r2_score:  0.42134575399391416\n",
      "\n",
      "\n",
      "cross_val_score:  0.14998432291187844\n",
      "\n",
      "\n",
      "Standard Deviation:  0.14439427720802803\n",
      "\n",
      "\n",
      "Mean Absolute Error:  4285.922053745572\n",
      "\n",
      "\n",
      "Mean Squared Error:  27483398.740084335\n",
      "\n",
      "\n",
      "Root Mean Squared Error:  5242.4611338649265\n",
      "\n",
      "\n",
      "\n",
      "\n",
      "\n",
      "GradientBoostingRegressor()\n",
      "\n",
      "\n",
      "r2_score:  0.6466739719189682\n",
      "\n",
      "\n",
      "cross_val_score:  0.3254135039474206\n",
      "\n",
      "\n",
      "Standard Deviation:  0.06455745906978998\n",
      "\n",
      "\n",
      "Mean Absolute Error:  3136.7578983039325\n",
      "\n",
      "\n",
      "Mean Squared Error:  16781351.18168493\n",
      "\n",
      "\n",
      "Root Mean Squared Error:  4096.504751820133\n",
      "\n",
      "\n",
      "\n"
     ]
    }
   ],
   "source": [
    "Model=[]\n",
    "score=[]\n",
    "cvs=[]\n",
    "sd=[]\n",
    "mae=[]\n",
    "mse=[]\n",
    "rmse=[]\n",
    "for name,model in models:\n",
    "    print('\\n')\n",
    "    Model.append(name)\n",
    "    model.fit(x_train,y_train)\n",
    "    print(model)\n",
    "    pred=model.predict(x_test)\n",
    "    print('\\n')\n",
    "    S=r2_score(y_test,pred)\n",
    "    print('r2_score: ',S)\n",
    "    score.append(S*100)\n",
    "    print('\\n')\n",
    "    sc=cross_val_score(model,x,y,cv=3,scoring='r2').mean()\n",
    "    print('cross_val_score: ',sc)\n",
    "    cvs.append(sc*100)\n",
    "    print('\\n')\n",
    "    std=cross_val_score(model,x,y,cv=3,scoring='r2').std()\n",
    "    print('Standard Deviation: ',std)\n",
    "    sd.append(std)\n",
    "    print('\\n')\n",
    "    MAE=mean_absolute_error(y_test,pred)\n",
    "    print('Mean Absolute Error: ',MAE)\n",
    "    mae.append(MAE)\n",
    "    print('\\n')\n",
    "    MSE=mean_squared_error(y_test,pred)\n",
    "    print('Mean Squared Error: ',MSE)\n",
    "    mse.append(MSE)\n",
    "    print('\\n')\n",
    "    RMSE=np.sqrt(mean_squared_error(y_test,pred))\n",
    "    print('Root Mean Squared Error: ',RMSE)\n",
    "    rmse.append(RMSE)\n",
    "    print('\\n\\n')"
   ]
  },
  {
   "cell_type": "code",
   "execution_count": 87,
   "id": "b0b70148",
   "metadata": {},
   "outputs": [
    {
     "data": {
      "text/html": [
       "<div>\n",
       "<style scoped>\n",
       "    .dataframe tbody tr th:only-of-type {\n",
       "        vertical-align: middle;\n",
       "    }\n",
       "\n",
       "    .dataframe tbody tr th {\n",
       "        vertical-align: top;\n",
       "    }\n",
       "\n",
       "    .dataframe thead th {\n",
       "        text-align: right;\n",
       "    }\n",
       "</style>\n",
       "<table border=\"1\" class=\"dataframe\">\n",
       "  <thead>\n",
       "    <tr style=\"text-align: right;\">\n",
       "      <th></th>\n",
       "      <th>Model</th>\n",
       "      <th>r2_score</th>\n",
       "      <th>Cross_val_score</th>\n",
       "      <th>Standard_deviation</th>\n",
       "      <th>Mean_absolute_error</th>\n",
       "      <th>Mean_squared_error</th>\n",
       "      <th>Root_Mean_Squared_error</th>\n",
       "    </tr>\n",
       "  </thead>\n",
       "  <tbody>\n",
       "    <tr>\n",
       "      <th>0</th>\n",
       "      <td>Linear Regression</td>\n",
       "      <td>42.416812</td>\n",
       "      <td>27.835446</td>\n",
       "      <td>0.091175</td>\n",
       "      <td>4097.907874</td>\n",
       "      <td>2.734935e+07</td>\n",
       "      <td>5229.660550</td>\n",
       "    </tr>\n",
       "    <tr>\n",
       "      <th>1</th>\n",
       "      <td>Lasso Regression</td>\n",
       "      <td>42.417745</td>\n",
       "      <td>27.844746</td>\n",
       "      <td>0.091164</td>\n",
       "      <td>4097.901137</td>\n",
       "      <td>2.734891e+07</td>\n",
       "      <td>5229.618189</td>\n",
       "    </tr>\n",
       "    <tr>\n",
       "      <th>2</th>\n",
       "      <td>Random Forest Regression</td>\n",
       "      <td>75.795601</td>\n",
       "      <td>29.018169</td>\n",
       "      <td>0.097883</td>\n",
       "      <td>2445.574384</td>\n",
       "      <td>1.149597e+07</td>\n",
       "      <td>3390.570689</td>\n",
       "    </tr>\n",
       "    <tr>\n",
       "      <th>3</th>\n",
       "      <td>Ridge Regression</td>\n",
       "      <td>42.415958</td>\n",
       "      <td>27.836248</td>\n",
       "      <td>0.091185</td>\n",
       "      <td>4097.943777</td>\n",
       "      <td>2.734975e+07</td>\n",
       "      <td>5229.699318</td>\n",
       "    </tr>\n",
       "    <tr>\n",
       "      <th>4</th>\n",
       "      <td>Support Vector Regressor</td>\n",
       "      <td>1.828862</td>\n",
       "      <td>-13.691379</td>\n",
       "      <td>0.115587</td>\n",
       "      <td>5406.865975</td>\n",
       "      <td>4.662675e+07</td>\n",
       "      <td>6828.378093</td>\n",
       "    </tr>\n",
       "    <tr>\n",
       "      <th>5</th>\n",
       "      <td>Decision Tree Regressor</td>\n",
       "      <td>50.620136</td>\n",
       "      <td>-20.376173</td>\n",
       "      <td>0.208469</td>\n",
       "      <td>3241.106476</td>\n",
       "      <td>2.345315e+07</td>\n",
       "      <td>4842.845237</td>\n",
       "    </tr>\n",
       "    <tr>\n",
       "      <th>6</th>\n",
       "      <td>KNeighbors Regressor</td>\n",
       "      <td>53.747635</td>\n",
       "      <td>19.609193</td>\n",
       "      <td>0.132986</td>\n",
       "      <td>3545.472047</td>\n",
       "      <td>2.196773e+07</td>\n",
       "      <td>4686.974830</td>\n",
       "    </tr>\n",
       "    <tr>\n",
       "      <th>7</th>\n",
       "      <td>AdaBoost Regressor</td>\n",
       "      <td>42.134575</td>\n",
       "      <td>14.998432</td>\n",
       "      <td>0.144394</td>\n",
       "      <td>4285.922054</td>\n",
       "      <td>2.748340e+07</td>\n",
       "      <td>5242.461134</td>\n",
       "    </tr>\n",
       "    <tr>\n",
       "      <th>8</th>\n",
       "      <td>GradientBoostingRegressor</td>\n",
       "      <td>64.667397</td>\n",
       "      <td>32.541350</td>\n",
       "      <td>0.064557</td>\n",
       "      <td>3136.757898</td>\n",
       "      <td>1.678135e+07</td>\n",
       "      <td>4096.504752</td>\n",
       "    </tr>\n",
       "  </tbody>\n",
       "</table>\n",
       "</div>"
      ],
      "text/plain": [
       "                       Model   r2_score  Cross_val_score  Standard_deviation  \\\n",
       "0          Linear Regression  42.416812        27.835446            0.091175   \n",
       "1           Lasso Regression  42.417745        27.844746            0.091164   \n",
       "2   Random Forest Regression  75.795601        29.018169            0.097883   \n",
       "3           Ridge Regression  42.415958        27.836248            0.091185   \n",
       "4   Support Vector Regressor   1.828862       -13.691379            0.115587   \n",
       "5    Decision Tree Regressor  50.620136       -20.376173            0.208469   \n",
       "6       KNeighbors Regressor  53.747635        19.609193            0.132986   \n",
       "7         AdaBoost Regressor  42.134575        14.998432            0.144394   \n",
       "8  GradientBoostingRegressor  64.667397        32.541350            0.064557   \n",
       "\n",
       "   Mean_absolute_error  Mean_squared_error  Root_Mean_Squared_error  \n",
       "0          4097.907874        2.734935e+07              5229.660550  \n",
       "1          4097.901137        2.734891e+07              5229.618189  \n",
       "2          2445.574384        1.149597e+07              3390.570689  \n",
       "3          4097.943777        2.734975e+07              5229.699318  \n",
       "4          5406.865975        4.662675e+07              6828.378093  \n",
       "5          3241.106476        2.345315e+07              4842.845237  \n",
       "6          3545.472047        2.196773e+07              4686.974830  \n",
       "7          4285.922054        2.748340e+07              5242.461134  \n",
       "8          3136.757898        1.678135e+07              4096.504752  "
      ]
     },
     "execution_count": 87,
     "metadata": {},
     "output_type": "execute_result"
    }
   ],
   "source": [
    "#making dataframe for results got from model:\n",
    "result_df=pd.DataFrame({'Model':Model, 'r2_score': score, 'Cross_val_score':cvs, 'Standard_deviation':sd,\n",
    "                    'Mean_absolute_error':mae, 'Mean_squared_error':mse, 'Root_Mean_Squared_error':rmse})\n",
    "result_df"
   ]
  },
  {
   "cell_type": "markdown",
   "id": "80cdbafc",
   "metadata": {},
   "source": [
    " Highest R2 score is given by RandomForest Model. So I'll do Hyperparameter tuning for Random Forest."
   ]
  },
  {
   "cell_type": "markdown",
   "id": "aef070af",
   "metadata": {},
   "source": [
    "# Hyperparameter Tuning"
   ]
  },
  {
   "cell_type": "code",
   "execution_count": 91,
   "id": "941bfad6",
   "metadata": {},
   "outputs": [
    {
     "name": "stdout",
     "output_type": "stream",
     "text": [
      "{'criterion': 'mse', 'max_depth': 5, 'min_samples_leaf': 5, 'min_samples_split': 3, 'n_estimators': 200}\n",
      "0.5142157070993991\n"
     ]
    }
   ],
   "source": [
    "from sklearn.model_selection import GridSearchCV\n",
    "\n",
    "params = {'n_estimators': [100,200],\n",
    "          'criterion' : [\"mse\",\"mae\"],\n",
    "          'max_depth' : range(2,6),\n",
    "          'min_samples_split' : range(2,4),\n",
    "          'min_samples_leaf':range(2,7)\n",
    "\n",
    "          \n",
    "         }\n",
    "rfr = RandomForestRegressor()\n",
    "clf  = GridSearchCV(rfr,params,cv=5,scoring ='r2')\n",
    "clf.fit(x_train,y_train)\n",
    "print(clf.best_params_)  #Printing the best parameters obtained\n",
    "print(clf.best_score_) #Mean cross-validated score of best_estimator"
   ]
  },
  {
   "cell_type": "code",
   "execution_count": 94,
   "id": "1a10bd7c",
   "metadata": {},
   "outputs": [
    {
     "name": "stdout",
     "output_type": "stream",
     "text": [
      " r2_score after tuning is:  51.783430839632196\n",
      "Cross validation score:  37.74623969520878\n",
      "Standard deviation:  0.08268145591210468\n",
      "\n",
      "\n",
      "Mean absolute error:  3688.358015637489\n",
      "Mean squared error:  22900638.943886787\n",
      "Root Mean squared error:  4785.461204929655\n"
     ]
    }
   ],
   "source": [
    "## Providing best parameters to the model\n",
    "rfr=RandomForestRegressor(criterion='mse', max_depth = 5,min_samples_leaf=5, n_estimators=200)\n",
    "rfr.fit(x_train,y_train)\n",
    "pred=rfr.predict(x_test)\n",
    "print(' r2_score after tuning is: ',r2_score(y_test,pred)*100)\n",
    "print('Cross validation score: ',cross_val_score(rfr,x,y,cv=5,scoring='r2').mean()*100)\n",
    "print('Standard deviation: ',cross_val_score(rfr,x,y,cv=5,scoring='r2').std())\n",
    "print('\\n')\n",
    "print('Mean absolute error: ',mean_absolute_error(y_test,pred))\n",
    "print('Mean squared error: ',mean_squared_error(y_test,pred))\n",
    "print('Root Mean squared error: ',np.sqrt(mean_squared_error(y_test,pred)))    "
   ]
  },
  {
   "cell_type": "markdown",
   "id": "186d5c19",
   "metadata": {},
   "source": [
    "So from we can see Random Forest is working better with default parameters."
   ]
  },
  {
   "cell_type": "markdown",
   "id": "bcd6f948",
   "metadata": {},
   "source": [
    "# Saving the model"
   ]
  },
  {
   "cell_type": "code",
   "execution_count": 95,
   "id": "158d8343",
   "metadata": {},
   "outputs": [],
   "source": [
    "import pickle\n",
    "filename = 'flight_price_prediction.pickle'\n",
    "pickle.dump(rf,open(filename,'wb'))"
   ]
  },
  {
   "cell_type": "markdown",
   "id": "c161ef9c",
   "metadata": {},
   "source": [
    "# Conclusion"
   ]
  },
  {
   "cell_type": "code",
   "execution_count": 96,
   "id": "5a91081e",
   "metadata": {},
   "outputs": [
    {
     "data": {
      "text/html": [
       "<div>\n",
       "<style scoped>\n",
       "    .dataframe tbody tr th:only-of-type {\n",
       "        vertical-align: middle;\n",
       "    }\n",
       "\n",
       "    .dataframe tbody tr th {\n",
       "        vertical-align: top;\n",
       "    }\n",
       "\n",
       "    .dataframe thead th {\n",
       "        text-align: right;\n",
       "    }\n",
       "</style>\n",
       "<table border=\"1\" class=\"dataframe\">\n",
       "  <thead>\n",
       "    <tr style=\"text-align: right;\">\n",
       "      <th></th>\n",
       "      <th>Original</th>\n",
       "      <th>Predicted</th>\n",
       "    </tr>\n",
       "  </thead>\n",
       "  <tbody>\n",
       "    <tr>\n",
       "      <th>0</th>\n",
       "      <td>15668</td>\n",
       "      <td>12648.780000</td>\n",
       "    </tr>\n",
       "    <tr>\n",
       "      <th>1</th>\n",
       "      <td>35351</td>\n",
       "      <td>34497.790000</td>\n",
       "    </tr>\n",
       "    <tr>\n",
       "      <th>2</th>\n",
       "      <td>14107</td>\n",
       "      <td>9052.630000</td>\n",
       "    </tr>\n",
       "    <tr>\n",
       "      <th>3</th>\n",
       "      <td>32646</td>\n",
       "      <td>28982.890000</td>\n",
       "    </tr>\n",
       "    <tr>\n",
       "      <th>4</th>\n",
       "      <td>6658</td>\n",
       "      <td>20751.440000</td>\n",
       "    </tr>\n",
       "    <tr>\n",
       "      <th>...</th>\n",
       "      <td>...</td>\n",
       "      <td>...</td>\n",
       "    </tr>\n",
       "    <tr>\n",
       "      <th>2374</th>\n",
       "      <td>17105</td>\n",
       "      <td>18739.217667</td>\n",
       "    </tr>\n",
       "    <tr>\n",
       "      <th>2375</th>\n",
       "      <td>10943</td>\n",
       "      <td>13170.700000</td>\n",
       "    </tr>\n",
       "    <tr>\n",
       "      <th>2376</th>\n",
       "      <td>16077</td>\n",
       "      <td>16386.470000</td>\n",
       "    </tr>\n",
       "    <tr>\n",
       "      <th>2377</th>\n",
       "      <td>14616</td>\n",
       "      <td>15705.730000</td>\n",
       "    </tr>\n",
       "    <tr>\n",
       "      <th>2378</th>\n",
       "      <td>11595</td>\n",
       "      <td>16362.270000</td>\n",
       "    </tr>\n",
       "  </tbody>\n",
       "</table>\n",
       "<p>2379 rows × 2 columns</p>\n",
       "</div>"
      ],
      "text/plain": [
       "      Original     Predicted\n",
       "0        15668  12648.780000\n",
       "1        35351  34497.790000\n",
       "2        14107   9052.630000\n",
       "3        32646  28982.890000\n",
       "4         6658  20751.440000\n",
       "...        ...           ...\n",
       "2374     17105  18739.217667\n",
       "2375     10943  13170.700000\n",
       "2376     16077  16386.470000\n",
       "2377     14616  15705.730000\n",
       "2378     11595  16362.270000\n",
       "\n",
       "[2379 rows x 2 columns]"
      ]
     },
     "execution_count": 96,
     "metadata": {},
     "output_type": "execute_result"
    }
   ],
   "source": [
    "a = np.array(y_test)\n",
    "predicted = np.array(rf.predict(x_test))\n",
    "result_df = pd.DataFrame({\"Original\":a,\"Predicted\":predicted},index= range(len(a)))\n",
    "result_df\n"
   ]
  },
  {
   "cell_type": "markdown",
   "id": "51951296",
   "metadata": {},
   "source": [
    "Most No of Flights are available from Mumbai.\n",
    "Among  Vistara, Air India, Indigo, Go First, Air Asia, SpiceJet flights, Air India flights are most expensive followed by Vistara flights.\n",
    "Non Stop Flights are cheaper than flights including stops.\n",
    "As Travel Hour increases, Fare Increases. \n",
    "Vistara flights availability is more than any other airlines for different places.\n",
    "Evening flights availability is more than morning flights.\n",
    "Early morning and late nights flights are cheaper.\n",
    "\n"
   ]
  }
 ],
 "metadata": {
  "kernelspec": {
   "display_name": "Python 3",
   "language": "python",
   "name": "python3"
  },
  "language_info": {
   "codemirror_mode": {
    "name": "ipython",
    "version": 3
   },
   "file_extension": ".py",
   "mimetype": "text/x-python",
   "name": "python",
   "nbconvert_exporter": "python",
   "pygments_lexer": "ipython3",
   "version": "3.8.8"
  }
 },
 "nbformat": 4,
 "nbformat_minor": 5
}
