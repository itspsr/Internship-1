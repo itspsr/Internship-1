{
 "cells": [
  {
   "cell_type": "code",
   "execution_count": 1,
   "id": "aae8a446",
   "metadata": {},
   "outputs": [
    {
     "name": "stdout",
     "output_type": "stream",
     "text": [
      "Collecting bs4\n",
      "  Downloading bs4-0.0.1.tar.gz (1.1 kB)\n",
      "Requirement already satisfied: beautifulsoup4 in c:\\users\\swati\\anaconda3\\lib\\site-packages (from bs4) (4.9.3)\n",
      "Requirement already satisfied: soupsieve>1.2 in c:\\users\\swati\\anaconda3\\lib\\site-packages (from beautifulsoup4->bs4) (2.2.1)\n",
      "Building wheels for collected packages: bs4\n",
      "  Building wheel for bs4 (setup.py): started\n",
      "  Building wheel for bs4 (setup.py): finished with status 'done'\n",
      "  Created wheel for bs4: filename=bs4-0.0.1-py3-none-any.whl size=1273 sha256=125b892193e6f67a8d073055e9ac169293f7cf4abe0ed0eaac1fd0f2e0e46428\n",
      "  Stored in directory: c:\\users\\swati\\appdata\\local\\pip\\cache\\wheels\\75\\78\\21\\68b124549c9bdc94f822c02fb9aa3578a669843f9767776bca\n",
      "Successfully built bs4\n",
      "Installing collected packages: bs4\n",
      "Successfully installed bs4-0.0.1\n",
      "Requirement already satisfied: requests in c:\\users\\swati\\anaconda3\\lib\\site-packages (2.25.1)\n",
      "Requirement already satisfied: chardet<5,>=3.0.2 in c:\\users\\swati\\anaconda3\\lib\\site-packages (from requests) (4.0.0)\n",
      "Requirement already satisfied: idna<3,>=2.5 in c:\\users\\swati\\anaconda3\\lib\\site-packages (from requests) (2.10)\n",
      "Requirement already satisfied: urllib3<1.27,>=1.21.1 in c:\\users\\swati\\anaconda3\\lib\\site-packages (from requests) (1.26.4)\n",
      "Requirement already satisfied: certifi>=2017.4.17 in c:\\users\\swati\\anaconda3\\lib\\site-packages (from requests) (2020.12.5)\n"
     ]
    }
   ],
   "source": [
    "!pip install bs4\n",
    "!pip install requests"
   ]
  },
  {
   "cell_type": "code",
   "execution_count": 21,
   "id": "daf4055a",
   "metadata": {},
   "outputs": [
    {
     "name": "stdout",
     "output_type": "stream",
     "text": [
      "***********Resturant_Name**************\n",
      "['Local', 'Tamasha', 'The G.T. ROAD', 'Unplugged Courtyard', 'Padmanabham', 'Ministry Of Beer', 'Connaught Clubhouse Microbrewery', 'The Junkyard Cafe', 'Out Of The Box Courtyard', '38 Barracks', 'Sandoz', 'QBA', 'Ardor 2.1 Restaurant and Lounge', 'My Bar Square', 'Farzi Cafe', \"Chili's American Grill and Bar\", 'Tamra', 'Station Bar', 'The Luggage Room By Sandoz', 'The Darzi Bar & Kitchen', 'Lazeez Affaire']\n",
      "***************************************\n",
      "***********Cuisine List****************\n",
      " Continental, Italian, North Indian, Asian, Fast Food\n",
      " Continental, Finger Food, Asian, Italian, North Indian\n",
      " North Indian\n",
      " North Indian, Continental\n",
      " South Indian, North Indian, Street Food\n",
      " Finger Food, North Indian, Italian, Continental, Asian, Oriental , Fusion\n",
      " Multi-Cuisine, Asian, Italian, Mexican\n",
      " Asian, Mediterranean, North Indian, Italian, Oriental \n",
      " Multi-Cuisine, American, Asian, Chinese, Continental, Fast Food, Italian, North Indian, Pizza\n",
      " North Indian, Chinese, Continental, Italian\n",
      " North Indian, Chinese, Mughlai\n",
      " Multi-Cuisine, Continental, Italian, North Indian, Oriental \n",
      " Multi-Cuisine, Chinese, Continental, Italian, North Indian, Seafood\n",
      " Finger Food, Chinese, Continental, Italian\n",
      " Modern Indian, Continental, Finger Food\n",
      " Mexican, American, Italian\n",
      " Multi-Cuisine, North Indian, Japanese, European, Oriental \n",
      " Multi-Cuisine, North Indian, Italian, Continental, Mediterranean, Oriental \n",
      " Multi-Cuisine, North Indian, Italian, Chinese, Continental\n",
      " Multi-Cuisine, Asian, Continental, European, Italian, Mexican, North Indian, Oriental \n",
      " North Indian, Mughlai\n",
      "21\n",
      "****************************************\n",
      "***********Location List****************\n",
      "['Scindia House,Connaught Place, Central Delhi', 'Connaught Place, Central Delhi', 'M-Block,Connaught Place, Central Delhi', 'Connaught Place, Central Delhi', 'Janpath, Central Delhi', 'M-Block,Connaught Place, Central Delhi', 'Janpath, Central Delhi', 'Connaught Place, Central Delhi', 'Connaught Place, Central Delhi', 'M-Block,Connaught Place, Central Delhi', 'Connaught Place, Central Delhi', 'Connaught Place, Central Delhi', 'Connaught Place, Central Delhi', 'Connaught Place, Central Delhi', 'Connaught Place, Central Delhi', 'M-Block,Connaught Place, Central Delhi', 'Shangri La Eros New Delhi,Janpath, Central Delhi', 'F-Block,Connaught Place, Central Delhi', 'M-Block,Connaught Place, Central Delhi', 'Connaught Place, Central Delhi', 'Connaught Place, Central Delhi']\n",
      "****************************************\n",
      "***********Rating List****************\n",
      "['4', '4.2', '4.3', '4.1', '4.2', '4', '4.1', '4.1', '4.1', '4.3', '4.1', '4.3', '3.9', '3.8', '4.2', '4.4', '4.4', '4.1', '4', '4.1', '4.2']\n",
      "****************************************\n",
      "*********** Image URL List****************\n",
      "['https://im1.dineout.co.in/images/uploads/restaurant/sharpen/2/b/t/p27452-15020105505986dcb6d147f.jpg?tr=tr:n-medium', 'https://im1.dineout.co.in/images/uploads/restaurant/sharpen/2/a/j/p20996-145631488756cd9a0796608.jpg?tr=tr:n-medium', 'https://im1.dineout.co.in/images/uploads/restaurant/sharpen/3/z/j/p31393-15972091445f337a38df16d.jpg?tr=tr:n-medium', 'https://im1.dineout.co.in/images/uploads/restaurant/sharpen/2/u/y/p20941-15700828565d959028e9f28.jpg?tr=tr:n-medium', 'https://im1.dineout.co.in/images/uploads/restaurant/sharpen/7/t/r/p76678-15980881015f40e3a588f73.jpg?tr=tr:n-medium', 'https://im1.dineout.co.in/images/uploads/restaurant/sharpen/3/a/d/p32381-1495943585592a49a166fe7.jpg?tr=tr:n-medium', 'https://im1.dineout.co.in/images/uploads/restaurant/sharpen/7/c/z/p77626-15833232035e5f98437554f.jpg?tr=tr:n-medium', 'https://im1.dineout.co.in/images/uploads/restaurant/sharpen/2/e/p/p20298-1484731590587f34c63a2a1.jpg?tr=tr:n-medium', 'https://im1.dineout.co.in/images/uploads/restaurant/sharpen/8/x/t/p83921-16017104805f782990b9b0c.jpg?tr=tr:n-medium', 'https://im1.dineout.co.in/images/uploads/restaurant/sharpen/2/y/q/p21171-1631359509613c92152f775.jpg?tr=tr:n-medium', 'https://im1.dineout.co.in/images/uploads/restaurant/sharpen/8/v/r/p80493-16064603445fc0a3b8c5926.jpg?tr=tr:n-medium', 'https://im1.dineout.co.in/images/uploads/restaurant/sharpen/2/e/e/p29906-16183962346076c44ac433d.jpg?tr=tr:n-medium', 'https://im1.dineout.co.in/images/uploads/restaurant/sharpen/2/a/s/p221-15968682845f2e46bc185f1.jpg?tr=tr:n-medium', 'https://im1.dineout.co.in/images/uploads/restaurant/sharpen/1/x/q/p12709-15681189455d7798a1df342.jpg?tr=tr:n-medium', 'https://im1.dineout.co.in/images/uploads/restaurant/sharpen/4/k/m/p4199-16098546105ff46e92bab5b.jpg?tr=tr:n-medium', 'https://im1.dineout.co.in/images/uploads/restaurant/sharpen/3/h/k/p31397-150417909459a7f3967dace.jpg?tr=tr:n-medium', 'https://im1.dineout.co.in/images/uploads/restaurant/sharpen/1/y/t/p19271-15566180735cc81b596637a.jpg?tr=tr:n-medium', 'https://im1.dineout.co.in/images/uploads/restaurant/sharpen/9/d/t/p971-15465830125c2efbe4260ab.jpg?tr=tr:n-medium', 'https://im1.dineout.co.in/images/uploads/restaurant/sharpen/2/b/u/p23048-1477373818580eef7a04d08.jpg?tr=tr:n-medium', 'https://im1.dineout.co.in/images/uploads/restaurant/sharpen/3/n/t/p30606-15820047025e4b79ded3e7c.jpg?tr=tr:n-medium', 'https://im1.dineout.co.in/images/uploads/restaurant/sharpen/3/v/k/p34582-15129702825a2e182a631e4.jpg?tr=tr:n-medium']\n",
      "21\n",
      "****************************************\n"
     ]
    }
   ],
   "source": [
    "from bs4 import BeautifulSoup\n",
    "import requests\n",
    "def find_resturant(link):\n",
    "    \n",
    "    \n",
    "    page = requests.get(link)\n",
    "    \n",
    "    soup = BeautifulSoup(page.content)\n",
    "    resturant_name =[]\n",
    "    name = soup.find_all('a',class_=\"restnt-name ellipsis\")\n",
    "    for i in name:\n",
    "        resturant_name.append(i.text)\n",
    "    print(\"***********Resturant_Name**************\")    \n",
    "    print(resturant_name)\n",
    "    print(\"***************************************\")\n",
    "    cuisine_list=[]\n",
    "    cuisine = soup.find_all('span',class_=\"double-line-ellipsis\")\n",
    "    for i in cuisine:\n",
    "        cuisine_list.append(i.text)\n",
    "    print(\"***********Cuisine List****************\")    \n",
    "   # print(cuisine_list)\n",
    "    for c in cuisine_list:\n",
    "        print(c.split('|')[1])\n",
    "    print(len(cuisine_list))\n",
    "    print(\"****************************************\")\n",
    "    Location_list = []\n",
    "    location = soup.find_all('div',class_='restnt-loc ellipsis')\n",
    "    for i in location:\n",
    "        Location_list.append(i.text)\n",
    "    print(\"***********Location List****************\")    \n",
    "    print(Location_list)   \n",
    "    print(\"****************************************\")\n",
    "    Ratings_list =[]\n",
    "    ratings = soup.find_all('div',class_='restnt-rating rating-4')\n",
    "    for i in ratings:\n",
    "        Ratings_list.append(i.text)\n",
    "        \n",
    "\n",
    "    print(\"***********Rating List****************\")    \n",
    "    print(Ratings_list)   \n",
    "    print(\"****************************************\")\n",
    "\n",
    "    url_list =[]\n",
    "    url = soup.find_all('img',class_='no-img')\n",
    "    for i in url:\n",
    "        url_list.append(i['data-src'])\n",
    "    print(\"*********** Image URL List****************\")    \n",
    "    print(url_list) \n",
    "    print(len(url_list))\n",
    "    print(\"****************************************\")\n",
    "    \n",
    "    \n",
    "\n",
    "find_resturant(\"https://www.dineout.co.in/delhi-restaurants/dineout-pay\")"
   ]
  },
  {
   "cell_type": "code",
   "execution_count": null,
   "id": "8aac5a58",
   "metadata": {},
   "outputs": [],
   "source": []
  }
 ],
 "metadata": {
  "kernelspec": {
   "display_name": "Python 3",
   "language": "python",
   "name": "python3"
  },
  "language_info": {
   "codemirror_mode": {
    "name": "ipython",
    "version": 3
   },
   "file_extension": ".py",
   "mimetype": "text/x-python",
   "name": "python",
   "nbconvert_exporter": "python",
   "pygments_lexer": "ipython3",
   "version": "3.8.8"
  }
 },
 "nbformat": 4,
 "nbformat_minor": 5
}
