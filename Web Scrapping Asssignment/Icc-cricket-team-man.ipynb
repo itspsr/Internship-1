{
 "cells": [
  {
   "cell_type": "code",
   "execution_count": 1,
   "id": "aae8a446",
   "metadata": {},
   "outputs": [
    {
     "name": "stdout",
     "output_type": "stream",
     "text": [
      "Collecting bs4\n",
      "  Downloading bs4-0.0.1.tar.gz (1.1 kB)\n",
      "Requirement already satisfied: beautifulsoup4 in c:\\users\\swati\\anaconda3\\lib\\site-packages (from bs4) (4.9.3)\n",
      "Requirement already satisfied: soupsieve>1.2 in c:\\users\\swati\\anaconda3\\lib\\site-packages (from beautifulsoup4->bs4) (2.2.1)\n",
      "Building wheels for collected packages: bs4\n",
      "  Building wheel for bs4 (setup.py): started\n",
      "  Building wheel for bs4 (setup.py): finished with status 'done'\n",
      "  Created wheel for bs4: filename=bs4-0.0.1-py3-none-any.whl size=1273 sha256=125b892193e6f67a8d073055e9ac169293f7cf4abe0ed0eaac1fd0f2e0e46428\n",
      "  Stored in directory: c:\\users\\swati\\appdata\\local\\pip\\cache\\wheels\\75\\78\\21\\68b124549c9bdc94f822c02fb9aa3578a669843f9767776bca\n",
      "Successfully built bs4\n",
      "Installing collected packages: bs4\n",
      "Successfully installed bs4-0.0.1\n",
      "Requirement already satisfied: requests in c:\\users\\swati\\anaconda3\\lib\\site-packages (2.25.1)\n",
      "Requirement already satisfied: chardet<5,>=3.0.2 in c:\\users\\swati\\anaconda3\\lib\\site-packages (from requests) (4.0.0)\n",
      "Requirement already satisfied: idna<3,>=2.5 in c:\\users\\swati\\anaconda3\\lib\\site-packages (from requests) (2.10)\n",
      "Requirement already satisfied: urllib3<1.27,>=1.21.1 in c:\\users\\swati\\anaconda3\\lib\\site-packages (from requests) (1.26.4)\n",
      "Requirement already satisfied: certifi>=2017.4.17 in c:\\users\\swati\\anaconda3\\lib\\site-packages (from requests) (2020.12.5)\n"
     ]
    }
   ],
   "source": [
    "!pip install bs4\n",
    "!pip install requests"
   ]
  },
  {
   "cell_type": "code",
   "execution_count": 85,
   "id": "daf4055a",
   "metadata": {},
   "outputs": [
    {
     "name": "stdout",
     "output_type": "stream",
     "text": [
      "*************Top 10 Team***************\n",
      "   Pos           Team  T  Matches  M  Points  P  Rating  R\n",
      "0    1   New Zealand  NZ          17       2054        121\n",
      "1    2      England  ENG          32       3793        119\n",
      "2    3    Australia  AUS          28       3244        116\n",
      "3    4        India  IND          32       3624        113\n",
      "4    5  South Africa  SA          25       2459         98\n",
      "5    6     Pakistan  PAK          27       2524         93\n",
      "6    7   Bangladesh  BAN          30       2740         91\n",
      "7    8   West Indies  WI          30       2523         84\n",
      "8    9     Sri Lanka  SL          32       2657         83\n",
      "9   10  Afghanistan  AFG          17       1054         62\n",
      "*****************************************\n",
      "***********ODI Batsman Ranking**********\n",
      "       Pos           Player Team  Rating            Career Best Rating\n",
      "0   1  (0)       Babar Azam  PAK     873     873 v England, 13/07/2021\n",
      "1   2  (0)      Virat Kohli  IND     844     911 v England, 12/07/2018\n",
      "2   3  (0)     Rohit Sharma  IND     813   885 v Sri Lanka, 06/07/2019\n",
      "3   4  (0)      Ross Taylor   NZ     801  841 v Bangladesh, 05/06/2019\n",
      "4   5  (0)      Aaron Finch  AUS     779     798 v England, 25/06/2019\n",
      "5   6  (0)   Jonny Bairstow  ENG     775       796 v India, 26/03/2021\n",
      "6   7  (0)     David Warner  AUS     762    880 v Pakistan, 26/01/2017\n",
      "7   8  (0)        Shai Hope   WI     758  808 v Bangladesh, 17/05/2019\n",
      "8   9  (0)  Kane Williamson   NZ     754       799 v India, 09/07/2019\n",
      "9  10  (0)  Quinton de Kock   SA     743   813 v Sri Lanka, 10/03/2019\n",
      "*****************************************\n",
      "***********ODI Bowlers Ranking**********\n",
      "       Pos            Player Team  Rating             Career Best Rating\n",
      "0   1  (0)       Trent Boult   NZ     737  770 v West Indies, 22/06/2019\n",
      "1   2  (0)    Josh Hazlewood  AUS     709      733 v England, 26/01/2018\n",
      "2   3  (0)  Mujeeb Ur Rahman  AFG     708      712 v Ireland, 24/01/2021\n",
      "3   4  (0)      Chris Woakes  ENG     700    711 v Sri Lanka, 04/07/2021\n",
      "4   5  (0)      Mehedi Hasan  BAN     692    725 v Sri Lanka, 25/05/2021\n",
      "5   6  (0)        Matt Henry   NZ     691   691 v Bangladesh, 26/03/2021\n",
      "6   7  (0)    Jasprit Bumrah  IND     679  841 v West Indies, 01/11/2018\n",
      "7   8  (0)    Mitchell Starc  AUS     652  783 v New Zealand, 29/03/2015\n",
      "8   9  (0)   Shakib Al Hasan  BAN     650     717 v Zimbabwe, 05/11/2009\n",
      "9  10  (0)     Kagiso Rabada   SA     643      724 v England, 29/05/2017\n",
      "*****************************************\n"
     ]
    }
   ],
   "source": [
    "from bs4 import BeautifulSoup\n",
    "import requests\n",
    "import pandas as pd\n",
    "def icc_cricket_man(link):\n",
    "    \n",
    "    \n",
    "    page = requests.get(link)\n",
    "    soup = BeautifulSoup(page.content)\n",
    "    df = pd.read_html(link)\n",
    "    print(\"*************Top 10 Team***************\")\n",
    "    for i in df:\n",
    "        print(i[:10])\n",
    "    print(\"*****************************************\")    \n",
    "def icc_batsman(link):\n",
    "    df2 = pd.read_html(link)\n",
    "    print(\"***********ODI Batsman Ranking**********\")\n",
    "    for i in df2:\n",
    "        print(i[:10])\n",
    "    print(\"*****************************************\")    \n",
    "def icc_bowlers(link):\n",
    "    df3 = pd.read_html(link)\n",
    "    print(\"***********ODI Bowlers Ranking**********\")\n",
    "    for i in df3:\n",
    "        print(i[:10])\n",
    "    print(\"*****************************************\")\n",
    "\n",
    "   # for pos in odi_topsman:\n",
    "        \n",
    "    #print(odi_bats)\n",
    "    \n",
    "    \n",
    "    \n",
    "icc_cricket_man(\"https://www.icc-cricket.com/rankings/mens/team-rankings/odi\")    \n",
    "icc_batsman(\"https://www.icc-cricket.com/rankings/mens/player-rankings/odi/batting\")\n",
    "icc_bowlers(\"https://www.icc-cricket.com/rankings/mens/player-rankings/odi/bowling\")"
   ]
  },
  {
   "cell_type": "code",
   "execution_count": null,
   "id": "8aac5a58",
   "metadata": {},
   "outputs": [],
   "source": []
  },
  {
   "cell_type": "code",
   "execution_count": null,
   "id": "3ee3a0ba",
   "metadata": {},
   "outputs": [],
   "source": []
  },
  {
   "cell_type": "code",
   "execution_count": null,
   "id": "ac886397",
   "metadata": {},
   "outputs": [],
   "source": []
  },
  {
   "cell_type": "code",
   "execution_count": null,
   "id": "bb6eb5bd",
   "metadata": {},
   "outputs": [],
   "source": []
  }
 ],
 "metadata": {
  "kernelspec": {
   "display_name": "Python 3",
   "language": "python",
   "name": "python3"
  },
  "language_info": {
   "codemirror_mode": {
    "name": "ipython",
    "version": 3
   },
   "file_extension": ".py",
   "mimetype": "text/x-python",
   "name": "python",
   "nbconvert_exporter": "python",
   "pygments_lexer": "ipython3",
   "version": "3.8.8"
  }
 },
 "nbformat": 4,
 "nbformat_minor": 5
}
