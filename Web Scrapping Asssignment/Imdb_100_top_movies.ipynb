{
 "cells": [
  {
   "cell_type": "code",
   "execution_count": 1,
   "id": "aae8a446",
   "metadata": {},
   "outputs": [
    {
     "name": "stdout",
     "output_type": "stream",
     "text": [
      "Collecting bs4\n",
      "  Downloading bs4-0.0.1.tar.gz (1.1 kB)\n",
      "Requirement already satisfied: beautifulsoup4 in c:\\users\\swati\\anaconda3\\lib\\site-packages (from bs4) (4.9.3)\n",
      "Requirement already satisfied: soupsieve>1.2 in c:\\users\\swati\\anaconda3\\lib\\site-packages (from beautifulsoup4->bs4) (2.2.1)\n",
      "Building wheels for collected packages: bs4\n",
      "  Building wheel for bs4 (setup.py): started\n",
      "  Building wheel for bs4 (setup.py): finished with status 'done'\n",
      "  Created wheel for bs4: filename=bs4-0.0.1-py3-none-any.whl size=1273 sha256=125b892193e6f67a8d073055e9ac169293f7cf4abe0ed0eaac1fd0f2e0e46428\n",
      "  Stored in directory: c:\\users\\swati\\appdata\\local\\pip\\cache\\wheels\\75\\78\\21\\68b124549c9bdc94f822c02fb9aa3578a669843f9767776bca\n",
      "Successfully built bs4\n",
      "Installing collected packages: bs4\n",
      "Successfully installed bs4-0.0.1\n",
      "Requirement already satisfied: requests in c:\\users\\swati\\anaconda3\\lib\\site-packages (2.25.1)\n",
      "Requirement already satisfied: chardet<5,>=3.0.2 in c:\\users\\swati\\anaconda3\\lib\\site-packages (from requests) (4.0.0)\n",
      "Requirement already satisfied: idna<3,>=2.5 in c:\\users\\swati\\anaconda3\\lib\\site-packages (from requests) (2.10)\n",
      "Requirement already satisfied: urllib3<1.27,>=1.21.1 in c:\\users\\swati\\anaconda3\\lib\\site-packages (from requests) (1.26.4)\n",
      "Requirement already satisfied: certifi>=2017.4.17 in c:\\users\\swati\\anaconda3\\lib\\site-packages (from requests) (2020.12.5)\n"
     ]
    }
   ],
   "source": [
    "!pip install bs4\n",
    "!pip install requests"
   ]
  },
  {
   "cell_type": "code",
   "execution_count": 154,
   "id": "c95aa3e5",
   "metadata": {},
   "outputs": [
    {
     "name": "stdout",
     "output_type": "stream",
     "text": [
      "                                           Name Rating Year of Release\n",
      "0              1.The Shawshank Redemption(1994)    9.3          (1994)\n",
      "1                         2.The Godfather(1972)    9.2          (1972)\n",
      "2                       3.The Dark Knight(2008)    9.0          (2008)\n",
      "3                4.The Godfather: Part II(1974)    9.0          (1974)\n",
      "4                          5.12 Angry Men(1957)    9.0          (1957)\n",
      "..                                          ...    ...             ...\n",
      "95                             96.Vertigo(1958)    8.3          (1958)\n",
      "96                 97.Singin' in the Rain(1952)    8.3          (1952)\n",
      "97                 98.Ladri di biciclette(1948)    8.3          (1948)\n",
      "98                        99.Citizen Kane(1941)    8.3          (1941)\n",
      "99  100.M - Eine Stadt sucht einen Mörder(1931)    8.3          (1931)\n",
      "\n",
      "[100 rows x 3 columns]\n"
     ]
    }
   ],
   "source": [
    "from bs4 import BeautifulSoup\n",
    "import requests\n",
    "import pandas as pd\n",
    "\n",
    "\n",
    "def find_50_top_movies(link):\n",
    "    \n",
    "    find_another_50_top_movies(\"https://www.imdb.com/search/title/?groups=top_100&sort=user_rating,desc&start=51&ref_=adv_nxt\")\n",
    "\n",
    "    page = requests.get(link)\n",
    "    soup = BeautifulSoup(page.content)\n",
    "    top_50_movies = soup.find_all('h3',class_ = \"lister-item-header\")\n",
    "    global movies_top\n",
    "    global top_rating\n",
    "    global year_release1\n",
    "    movies_top=[]\n",
    "    top_rating =[]\n",
    "    year_release1 = []\n",
    "\n",
    "    for i in top_50_movies:\n",
    "\n",
    "        movies_top.append(i.text)\n",
    "\n",
    "    top_50_movies_rating = soup.find_all('div',class_=\"inline-block ratings-imdb-rating\")\n",
    "    for i in top_50_movies_rating:\n",
    "        top_rating.append(i.text)\n",
    "    top_50_movie_year = soup.find_all('span',class_ =\"lister-item-year text-muted unbold\")\n",
    "    for i in top_50_movie_year:\n",
    "        year_release1.append(i.text)\n",
    "\n",
    "\n",
    "    movies_top = movies_top + movies_top_50_another\n",
    "    global top_100_movie\n",
    "    top_100_movie =[]\n",
    "    for m in movies_top:\n",
    "        top_100_movie.append(m.replace(\"\\n\",\"\"))\n",
    "\n",
    "    top_rating = top_rating + another_top_50_rating\n",
    "    \n",
    "    year_release1 = year_release1 + year_release2\n",
    "    global top_100_movie_rating\n",
    "    top_100_movie_rating =[]\n",
    "    for r in top_rating:\n",
    "        top_100_movie_rating.append(r.replace(\"\\n\",\"\"))\n",
    "        \n",
    "\n",
    "\n",
    "\n",
    "\n",
    "\n",
    "    \n",
    "def find_another_50_top_movies(link):\n",
    "    page = requests.get(link)\n",
    "    soup = BeautifulSoup(page.content)\n",
    "    another_top_50_movies = soup.find_all('h3',class_ = \"lister-item-header\")\n",
    "    movies_top_50_another = []\n",
    "    global another_top_50_rating \n",
    "    another_top_50_rating =[]\n",
    "    global year_release2\n",
    "    year_release2 = []\n",
    "    for i in another_top_50_movies:\n",
    "        movies_top_50_another.append(i.text)\n",
    "    for i in soup.find_all('div',class_=\"inline-block ratings-imdb-rating\"):\n",
    "        another_top_50_rating.append(i.text)\n",
    "    for i in soup.find_all('span',class_ = \"lister-item-year text-muted unbold\"):\n",
    "        year_release2.append(i.text)\n",
    "        \n",
    "    \n",
    "\n",
    "        \n",
    "find_50_top_movies(\"https://www.imdb.com/search/title/?groups=top_100&sort=user_rating,desc\")\n",
    "imdb_100_movie_df = pd.DataFrame({'Name' : top_100_movie,\n",
    "                                  'Rating' : top_100_movie_rating,\n",
    "                                  'Year of Release':year_release1,\n",
    "                                  \n",
    "                                 \n",
    "                                 } )\n",
    "\n",
    "print(imdb_100_movie_df)\n",
    "\n",
    "\n",
    "\n"
   ]
  },
  {
   "cell_type": "code",
   "execution_count": null,
   "id": "8aac5a58",
   "metadata": {},
   "outputs": [],
   "source": [
    "\n",
    "\n"
   ]
  },
  {
   "cell_type": "code",
   "execution_count": null,
   "id": "7ac42c4a",
   "metadata": {},
   "outputs": [],
   "source": []
  },
  {
   "cell_type": "code",
   "execution_count": null,
   "id": "3e9661b9",
   "metadata": {},
   "outputs": [],
   "source": []
  },
  {
   "cell_type": "code",
   "execution_count": null,
   "id": "f0c321a6",
   "metadata": {},
   "outputs": [],
   "source": []
  }
 ],
 "metadata": {
  "kernelspec": {
   "display_name": "Python 3",
   "language": "python",
   "name": "python3"
  },
  "language_info": {
   "codemirror_mode": {
    "name": "ipython",
    "version": 3
   },
   "file_extension": ".py",
   "mimetype": "text/x-python",
   "name": "python",
   "nbconvert_exporter": "python",
   "pygments_lexer": "ipython3",
   "version": "3.8.8"
  }
 },
 "nbformat": 4,
 "nbformat_minor": 5
}
