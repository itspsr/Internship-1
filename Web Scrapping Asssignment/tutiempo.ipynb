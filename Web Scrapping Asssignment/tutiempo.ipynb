{
 "cells": [
  {
   "cell_type": "code",
   "execution_count": 1,
   "id": "aae8a446",
   "metadata": {},
   "outputs": [
    {
     "name": "stdout",
     "output_type": "stream",
     "text": [
      "Collecting bs4\n",
      "  Downloading bs4-0.0.1.tar.gz (1.1 kB)\n",
      "Requirement already satisfied: beautifulsoup4 in c:\\users\\swati\\anaconda3\\lib\\site-packages (from bs4) (4.9.3)\n",
      "Requirement already satisfied: soupsieve>1.2 in c:\\users\\swati\\anaconda3\\lib\\site-packages (from beautifulsoup4->bs4) (2.2.1)\n",
      "Building wheels for collected packages: bs4\n",
      "  Building wheel for bs4 (setup.py): started\n",
      "  Building wheel for bs4 (setup.py): finished with status 'done'\n",
      "  Created wheel for bs4: filename=bs4-0.0.1-py3-none-any.whl size=1273 sha256=125b892193e6f67a8d073055e9ac169293f7cf4abe0ed0eaac1fd0f2e0e46428\n",
      "  Stored in directory: c:\\users\\swati\\appdata\\local\\pip\\cache\\wheels\\75\\78\\21\\68b124549c9bdc94f822c02fb9aa3578a669843f9767776bca\n",
      "Successfully built bs4\n",
      "Installing collected packages: bs4\n",
      "Successfully installed bs4-0.0.1\n",
      "Requirement already satisfied: requests in c:\\users\\swati\\anaconda3\\lib\\site-packages (2.25.1)\n",
      "Requirement already satisfied: chardet<5,>=3.0.2 in c:\\users\\swati\\anaconda3\\lib\\site-packages (from requests) (4.0.0)\n",
      "Requirement already satisfied: idna<3,>=2.5 in c:\\users\\swati\\anaconda3\\lib\\site-packages (from requests) (2.10)\n",
      "Requirement already satisfied: urllib3<1.27,>=1.21.1 in c:\\users\\swati\\anaconda3\\lib\\site-packages (from requests) (1.26.4)\n",
      "Requirement already satisfied: certifi>=2017.4.17 in c:\\users\\swati\\anaconda3\\lib\\site-packages (from requests) (2020.12.5)\n"
     ]
    }
   ],
   "source": [
    "!pip install bs4\n",
    "!pip install requests"
   ]
  },
  {
   "cell_type": "code",
   "execution_count": 191,
   "id": "daf4055a",
   "metadata": {
    "scrolled": false
   },
   "outputs": [
    {
     "name": "stdout",
     "output_type": "stream",
     "text": [
      "['19:00', '18:30', '18:00', '17:30', '16:55', '16:30', '15:55', '15:30', '15:00', '14:30', '14:00', '13:30', '13:00', '12:30', '12:00', '11:30', '11:00', '10:30', '10:00', '09:30', '09:00', '08:30', '08:00', '07:30', '07:00', '06:30', '06:00', '05:30', '05:00', '04:30', '04:00', '03:30', '03:00', '02:30', '02:00', '01:30', '01:00', '00:30', '00:00', '23:30', '23:00', '22:30', '22:00', '21:30', '21:00', '20:30', '20:00', '19:30', '19:00', '18:30']\n",
      "**********Weather Condition******************\n",
      "['Drizzle', 'Light Rain', 'Light Rain', 'Light Rain', 'Light Rain', 'Light Rain', 'Drizzle', 'Light Rain', 'Light Rain', 'Light Rain', 'Light Rain', 'Light Rain', 'Light Rain', 'Light Rain', 'Light Rain', 'Light Rain', 'Light Rain', 'Light Rain', 'Light Rain', 'Light Rain', 'Light Rain', 'Light Rain']\n",
      "**********************************************\n",
      "***************Temperature******************\n",
      "['25°C', '25°C', '25°C', '25°C', '25°C', '25°C', '25°C', '25°C', '25°C', '26°C', '26°C', '26°C', '25°C', '25°C', '24°C', '23°C', '22°C', '23°C', '23°C', '22°C', '21°C', '21°C', '20°C', '20°C', '19°C', '19°C', '19°C', '19°C', '19°C', '19°C', '19°C', '19°C', '19°C', '19°C', '19°C', '19°C', '19°C', '20°C', '20°C', '20°C', '20°C', '20°C', '20°C', '20°C', '21°C', '21°C', '21°C', '21°C', '21°C', '21°C']\n",
      "*********************************************\n",
      "****************Wind************************\n",
      "['7 km/h', '9 km/h', '13 km/h', '11 km/h', '6 km/h', '6 km/h', 'Calm', '11 km/h', 'Calm', '15 km/h', '11 km/h', '17 km/h', '15 km/h', '13 km/h', '13 km/h', '13 km/h', '7 km/h', '6 km/h', '9 km/h', '15 km/h', '17 km/h', '17 km/h', '19 km/h', '22 km/h', '22 km/h', '13 > 32 km/h', '15 > 33 km/h', '15 > 33 km/h', '15 > 33 km/h', '19 > 37 km/h', '13 > 32 km/h', '15 > 33 km/h', '17 > 35 km/h', '19 > 37 km/h', '13 > 32 km/h', '13 > 32 km/h', '20 km/h', '24 km/h', '22 km/h', '17 km/h', '20 km/h', '24 km/h', '11 km/h', '17 km/h', '15 km/h', '11 km/h', '22 km/h', '19 km/h', '19 km/h', '19 km/h']\n",
      "*********************************************\n",
      "********************Humidity*****************\n",
      "['94%', '94%', '94%', '94%', '94%', '94%', '89%', '83%', '83%', '70%', '70%', '70%', '74%', '69%', '74%', '78%', '83%', '78%', '78%', '83%', '88%', '88%', '88%', '88%', '94%', '94%', '94%', '94%', '94%', '94%', '94%', '94%', '94%', '94%', '94%', '94%', '94%', '88%', '88%', '94%', '94%', '94%', '94%', '94%', '94%', '94%', '94%', '94%', '94%', '94%']\n",
      "**********************************************\n",
      "**********Pressure******************************\n",
      "['1009 hPa', '1009 hPa', '1008 hPa', '1008 hPa', '1008 hPa', '1008 hPa', '1008 hPa', '1008 hPa', '1008 hPa', '1008 hPa', '1008 hPa', '1009 hPa', '1009 hPa', '1010 hPa', '1011 hPa', '1011 hPa', '1012 hPa', '1012 hPa', '1012 hPa', '1012 hPa', '1011 hPa', '1010 hPa', '1010 hPa', '1010 hPa', '1010 hPa', '1009 hPa', '1009 hPa', '1009 hPa', '1009 hPa', '1009 hPa', '1009 hPa', '1009 hPa', '1009 hPa', '1009 hPa', '1010 hPa', '1011 hPa', '1012 hPa', '1011 hPa', '1011 hPa', '1012 hPa', '1011 hPa', '1012 hPa', '1012 hPa', '1012 hPa', '1011 hPa', '1012 hPa', '1011 hPa', '1010 hPa', '1010 hPa', '1010 hPa']\n",
      "*************************************************\n"
     ]
    }
   ],
   "source": [
    "from bs4 import BeautifulSoup\n",
    "import requests\n",
    "import pandas as pd\n",
    "def find_weather(link):\n",
    "    \n",
    "    \n",
    "    page = requests.get(link)\n",
    "    \n",
    "    \n",
    "    soup = BeautifulSoup(page.content,'html5lib')\n",
    "    table = soup.find_all('td')[18::6]\n",
    "    hourly_data =[]\n",
    "    for d in table:\n",
    "        hourly_data.append(d.text)\n",
    "    print(\"***************Hourly Data*****************\")\n",
    "    \n",
    "    print(hourly_data) \n",
    "    print(\"********************************************\")\n",
    "    weather_condition = []\n",
    "    weather = soup.find_all('span',class_='thhip ico i0530 u3018')\n",
    "    for i in weather:\n",
    "        weather_condition.append(i.text)\n",
    "        \n",
    "    print(\"**********Weather Condition******************\")    \n",
    "    print(weather_condition)\n",
    "    print(\"**********************************************\")\n",
    "    temp_list = []\n",
    "    temp = soup.find_all('td',class_='t Temp')\n",
    "    for i in temp:\n",
    "        temp_list.append(i.text)\n",
    "    print(\"***************Temperature******************\")    \n",
    "    print(temp_list)    \n",
    "    print(\"*********************************************\")\n",
    "    \n",
    "    wind_condition=[]\n",
    "    wind = soup.find_all('td',class_='wind')\n",
    "    for i in wind:\n",
    "        wind_condition.append(i.text)\n",
    "    print(\"****************Wind************************\")    \n",
    "    print(wind_condition)   \n",
    "    print(\"*********************************************\")\n",
    "    \n",
    "    humidity_condition =[]\n",
    "    humidity = soup.find_all('td',class_=\"hr\")\n",
    "    for i in humidity:\n",
    "        humidity_condition.append(i.text)\n",
    "    print(\"********************Humidity*****************\")    \n",
    "    print(humidity_condition) \n",
    "    print(\"**********************************************\")\n",
    "    \n",
    "    pressure_list =[]\n",
    "    pressure = soup.find_all('td',class_='prob')\n",
    "    for i in pressure:\n",
    "        pressure_list.append(i.text)\n",
    "    print(\"**********Pressure******************************\")    \n",
    "    print(pressure_list)\n",
    "    print(\"*************************************************\")\n",
    "    \n",
    "        \n",
    "        \n",
    "\n",
    "    \n",
    "     \n",
    "    \n",
    "find_weather(\"https://en.tutiempo.net/mumbai.html?data=last-24-hours\")\n",
    "  "
   ]
  },
  {
   "cell_type": "code",
   "execution_count": null,
   "id": "8aac5a58",
   "metadata": {},
   "outputs": [],
   "source": []
  },
  {
   "cell_type": "code",
   "execution_count": null,
   "id": "a79abdae",
   "metadata": {},
   "outputs": [],
   "source": []
  }
 ],
 "metadata": {
  "kernelspec": {
   "display_name": "Python 3",
   "language": "python",
   "name": "python3"
  },
  "language_info": {
   "codemirror_mode": {
    "name": "ipython",
    "version": 3
   },
   "file_extension": ".py",
   "mimetype": "text/x-python",
   "name": "python",
   "nbconvert_exporter": "python",
   "pygments_lexer": "ipython3",
   "version": "3.8.8"
  }
 },
 "nbformat": 4,
 "nbformat_minor": 5
}
