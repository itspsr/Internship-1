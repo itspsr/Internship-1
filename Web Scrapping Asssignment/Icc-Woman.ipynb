{
 "cells": [
  {
   "cell_type": "code",
   "execution_count": 1,
   "id": "aae8a446",
   "metadata": {},
   "outputs": [
    {
     "name": "stdout",
     "output_type": "stream",
     "text": [
      "Collecting bs4\n",
      "  Downloading bs4-0.0.1.tar.gz (1.1 kB)\n",
      "Requirement already satisfied: beautifulsoup4 in c:\\users\\swati\\anaconda3\\lib\\site-packages (from bs4) (4.9.3)\n",
      "Requirement already satisfied: soupsieve>1.2 in c:\\users\\swati\\anaconda3\\lib\\site-packages (from beautifulsoup4->bs4) (2.2.1)\n",
      "Building wheels for collected packages: bs4\n",
      "  Building wheel for bs4 (setup.py): started\n",
      "  Building wheel for bs4 (setup.py): finished with status 'done'\n",
      "  Created wheel for bs4: filename=bs4-0.0.1-py3-none-any.whl size=1273 sha256=125b892193e6f67a8d073055e9ac169293f7cf4abe0ed0eaac1fd0f2e0e46428\n",
      "  Stored in directory: c:\\users\\swati\\appdata\\local\\pip\\cache\\wheels\\75\\78\\21\\68b124549c9bdc94f822c02fb9aa3578a669843f9767776bca\n",
      "Successfully built bs4\n",
      "Installing collected packages: bs4\n",
      "Successfully installed bs4-0.0.1\n",
      "Requirement already satisfied: requests in c:\\users\\swati\\anaconda3\\lib\\site-packages (2.25.1)\n",
      "Requirement already satisfied: chardet<5,>=3.0.2 in c:\\users\\swati\\anaconda3\\lib\\site-packages (from requests) (4.0.0)\n",
      "Requirement already satisfied: idna<3,>=2.5 in c:\\users\\swati\\anaconda3\\lib\\site-packages (from requests) (2.10)\n",
      "Requirement already satisfied: urllib3<1.27,>=1.21.1 in c:\\users\\swati\\anaconda3\\lib\\site-packages (from requests) (1.26.4)\n",
      "Requirement already satisfied: certifi>=2017.4.17 in c:\\users\\swati\\anaconda3\\lib\\site-packages (from requests) (2020.12.5)\n"
     ]
    }
   ],
   "source": [
    "!pip install bs4\n",
    "!pip install requests"
   ]
  },
  {
   "cell_type": "code",
   "execution_count": 2,
   "id": "daf4055a",
   "metadata": {},
   "outputs": [
    {
     "name": "stdout",
     "output_type": "stream",
     "text": [
      "*************Top 10 Team***************\n",
      "   Pos           Team  T  Matches  M  Points  P  Rating  R\n",
      "0    1    Australia  AUS          17       2746        162\n",
      "1    2  South Africa  SA          19       2307        121\n",
      "2    3      England  ENG          18       2148        119\n",
      "3    4        India  IND          17       1899        112\n",
      "4    5   Bangladesh  BAN           5        475         95\n",
      "5    6   New Zealand  NZ          19       1668         88\n",
      "6    7   West Indies  WI          19       1658         87\n",
      "7    8     Pakistan  PAK          18       1226         68\n",
      "8    9      Ireland  IRE           5        240         48\n",
      "9   10     Sri Lanka  SL           5        233         47\n",
      "*****************************************\n",
      "***********ODI Batswoman Ranking**********\n",
      "       Pos             Player Team  Rating             Career Best Rating\n",
      "0   1  (0)        Lizelle Lee   SA     761  774 v West Indies, 07/09/2021\n",
      "1   2  (0)       Alyssa Healy  AUS     750        776 v India, 21/09/2021\n",
      "2   3  (0)        Mithali Raj  IND     738    839 v Australia, 24/12/2004\n",
      "3   4  (0)     Tammy Beaumont  ENG     728        791 v India, 27/06/2021\n",
      "4   5  (0)  Amy Satterthwaite   NZ     717    756 v Australia, 02/03/2017\n",
      "5   6  (0)    Smriti Mandhana  IND     710      797 v England, 28/02/2019\n",
      "6   7  (0)        Meg Lanning  AUS     699  834 v New Zealand, 24/02/2016\n",
      "7   8  (0)        Beth Mooney  AUS     690        690 v India, 26/09/2021\n",
      "8   9  (0)    Stafanie Taylor   WI     676     766 v Pakistan, 07/07/2021\n",
      "9  10  (0)     Heather Knight  ENG     674  693 v West Indies, 06/06/2019\n",
      "*****************************************\n",
      "***********ODI All Rounder Ranking**********\n",
      "       Pos            Player Team  Rating              Career Best Rating\n",
      "0   1  (0)    Marizanne Kapp   SA     384   419 v West Indies, 10/09/2021\n",
      "1   2  (0)    Natalie Sciver  ENG     372   391 v New Zealand, 16/09/2021\n",
      "2   3  (0)      Ellyse Perry  AUS     365   548 v West Indies, 11/09/2019\n",
      "3   4  (0)   Stafanie Taylor   WI     319   559 v New Zealand, 10/10/2013\n",
      "4   5  (0)     Deepti Sharma  IND     299  397 v South Africa, 09/10/2019\n",
      "5   6  (0)  Ashleigh Gardner  AUS     275         275 v India, 26/09/2021\n",
      "6   7  (0)  Dane van Niekerk   SA     274     421 v Sri Lanka, 11/02/2019\n",
      "7   8  (0)   Hayley Matthews   WI     272       272 v Ireland, 23/11/2021\n",
      "8   9  (0)     Jess Jonassen  AUS     272   308 v West Indies, 11/09/2019\n",
      "9  10  (0)   Katherine Brunt  ENG     272   295 v New Zealand, 21/09/2021\n",
      "*****************************************\n"
     ]
    }
   ],
   "source": [
    "from bs4 import BeautifulSoup\n",
    "import requests\n",
    "import pandas as pd\n",
    "def icc_cricket_woman(link):\n",
    "    \n",
    "    \n",
    "    page = requests.get(link)\n",
    "    soup = BeautifulSoup(page.content)\n",
    "    df = pd.read_html(link)\n",
    "    print(\"*************Top 10 Team***************\")\n",
    "    for i in df:\n",
    "        print(i[:10])\n",
    "    print(\"*****************************************\")    \n",
    "def icc_batswoman(link):\n",
    "    df2 = pd.read_html(link)\n",
    "    print(\"***********ODI Batswoman Ranking**********\")\n",
    "    for i in df2:\n",
    "        print(i[:10])\n",
    "    print(\"*****************************************\")    \n",
    "def icc_all_rounders_woman(link):\n",
    "    df3 = pd.read_html(link)\n",
    "    print(\"***********ODI All Rounder Ranking**********\")\n",
    "    for i in df3:\n",
    "        print(i[:10])\n",
    "    print(\"*****************************************\")\n",
    "\n",
    "   # for pos in odi_topsman:\n",
    "        \n",
    "    #print(odi_bats)\n",
    "    \n",
    "    \n",
    "    \n",
    "icc_cricket_woman(\"https://www.icc-cricket.com/rankings/womens/team-rankings/odi\")    \n",
    "icc_batswoman(\"https://www.icc-cricket.com/rankings/womens/player-rankings/odi/batting\")\n",
    "icc_all_rounders_woman(\"https://www.icc-cricket.com/rankings/womens/player-rankings/odi/all-rounder\")"
   ]
  },
  {
   "cell_type": "code",
   "execution_count": null,
   "id": "8aac5a58",
   "metadata": {},
   "outputs": [],
   "source": []
  }
 ],
 "metadata": {
  "kernelspec": {
   "display_name": "Python 3",
   "language": "python",
   "name": "python3"
  },
  "language_info": {
   "codemirror_mode": {
    "name": "ipython",
    "version": 3
   },
   "file_extension": ".py",
   "mimetype": "text/x-python",
   "name": "python",
   "nbconvert_exporter": "python",
   "pygments_lexer": "ipython3",
   "version": "3.8.8"
  }
 },
 "nbformat": 4,
 "nbformat_minor": 5
}
