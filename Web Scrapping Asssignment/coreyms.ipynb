{
 "cells": [
  {
   "cell_type": "code",
   "execution_count": 1,
   "id": "aae8a446",
   "metadata": {},
   "outputs": [
    {
     "name": "stdout",
     "output_type": "stream",
     "text": [
      "Collecting bs4\n",
      "  Downloading bs4-0.0.1.tar.gz (1.1 kB)\n",
      "Requirement already satisfied: beautifulsoup4 in c:\\users\\swati\\anaconda3\\lib\\site-packages (from bs4) (4.9.3)\n",
      "Requirement already satisfied: soupsieve>1.2 in c:\\users\\swati\\anaconda3\\lib\\site-packages (from beautifulsoup4->bs4) (2.2.1)\n",
      "Building wheels for collected packages: bs4\n",
      "  Building wheel for bs4 (setup.py): started\n",
      "  Building wheel for bs4 (setup.py): finished with status 'done'\n",
      "  Created wheel for bs4: filename=bs4-0.0.1-py3-none-any.whl size=1273 sha256=125b892193e6f67a8d073055e9ac169293f7cf4abe0ed0eaac1fd0f2e0e46428\n",
      "  Stored in directory: c:\\users\\swati\\appdata\\local\\pip\\cache\\wheels\\75\\78\\21\\68b124549c9bdc94f822c02fb9aa3578a669843f9767776bca\n",
      "Successfully built bs4\n",
      "Installing collected packages: bs4\n",
      "Successfully installed bs4-0.0.1\n",
      "Requirement already satisfied: requests in c:\\users\\swati\\anaconda3\\lib\\site-packages (2.25.1)\n",
      "Requirement already satisfied: chardet<5,>=3.0.2 in c:\\users\\swati\\anaconda3\\lib\\site-packages (from requests) (4.0.0)\n",
      "Requirement already satisfied: idna<3,>=2.5 in c:\\users\\swati\\anaconda3\\lib\\site-packages (from requests) (2.10)\n",
      "Requirement already satisfied: urllib3<1.27,>=1.21.1 in c:\\users\\swati\\anaconda3\\lib\\site-packages (from requests) (1.26.4)\n",
      "Requirement already satisfied: certifi>=2017.4.17 in c:\\users\\swati\\anaconda3\\lib\\site-packages (from requests) (2020.12.5)\n"
     ]
    }
   ],
   "source": [
    "!pip install bs4\n",
    "!pip install requests"
   ]
  },
  {
   "cell_type": "code",
   "execution_count": 15,
   "id": "daf4055a",
   "metadata": {},
   "outputs": [
    {
     "name": "stdout",
     "output_type": "stream",
     "text": [
      "******Heading*******\n",
      "['Python Tutorial: Zip Files – Creating and Extracting Zip Archives', 'Python Data Science Tutorial: Analyzing the 2019 Stack Overflow Developer Survey', 'Python Multiprocessing Tutorial: Run Code in Parallel Using the Multiprocessing Module', 'Python Threading Tutorial: Run Code Concurrently Using the Threading Module', 'Update (2019-09-03)', 'Python Quick Tip: The Difference Between “==” and “is” (Equality vs Identity)', 'Python Tutorial: Calling External Commands Using the Subprocess Module', 'Visual Studio Code (Windows) – Setting up a Python Development Environment and Complete Overview', 'Visual Studio Code (Mac) – Setting up a Python Development Environment and Complete Overview', 'Clarifying the Issues with Mutable Default Arguments']\n",
      "*********************\n",
      "********Date*****************\n",
      "['November 19, 2019', 'October 17, 2019', 'September 21, 2019', 'September 12, 2019', 'September 3, 2019', 'August 6, 2019', 'July 24, 2019', 'May 1, 2019', 'May 1, 2019', 'April 24, 2019']\n",
      "******************************\n",
      "************Content***************\n",
      "['Development, Design, DIY, and more', 'November 19, 2019 by Corey Schafer Leave a Comment ', 'In this video, we will be learning how to create and extract zip archives. We will start by using the zipfile module, and then we will see how to do this using the shutil module. We will learn how to do this with single files and directories, as well as learning how to use gzip as well. Let’s get started…', 'Filed Under: Development, Python Tagged With: gzip, shutil, zip, zipfile', 'October 17, 2019 by Corey Schafer Leave a Comment ', 'In this Python Programming video, we will be learning how to download and analyze real-world data from the 2019 Stack Overflow Developer Survey. This is terrific practice for anyone getting into the data science field. We will learn different ways to analyze this data and also some best practices. Let’s get started…', 'Filed Under: Development, Python Tagged With: data analysis, Data Science, stack overflow', 'September 21, 2019 by Corey Schafer Leave a Comment ', 'In this Python Programming video, we will be learning how to run code in parallel using the multiprocessing module. We will also look at how to process multiple high-resolution images at the same time using a ProcessPoolExecutor from the concurrent.futures module. Let’s get started…', 'Filed Under: Development, Python Tagged With: asynchronous, concurrent.futures, multiprocessing, parallel, threading', 'September 12, 2019 by Corey Schafer Leave a Comment ', 'In this Python Programming video, we will be learning how to run threads concurrently using the threading module. We will also look at how to download multiple high-resolution images online using a ThreadPoolExecutor from the concurrent.futures module. Let’s get started…', 'Filed Under: Development, Python Tagged With: asynchronous, concurrency, multiprocessing, threading', 'September 3, 2019 by Corey Schafer Leave a Comment ', 'Hey everyone. I wanted to give you an update on my videos. I will be releasing videos on threading and multiprocessing within the next week. Thanks so much for your patience. I currently have a temporary recording studio setup at my Airbnb that will allow me to record and edit the threading/multiprocessing videos. I am going to be moving into my new house in 10 days and once I have my recording studio setup then you can expect much faster video releases. I really appreciate how patient everyone has been while I go through this move, especially those of you who are contributing monthly through YouTube ', 'Filed Under: General ', 'August 6, 2019 by Corey Schafer Leave a Comment ', 'In this Python Programming Tutorial, we will be learning the difference between using “==” and the “is” keyword when doing comparisons. The difference between these is that “==” checks to see if values are equal, and the “is” keyword checks their identity, which means it’s going to check if the values are identical in terms of being the same object in memory. We’ll learn more in the video. Let’s get started…', 'Filed Under: Development, Python Tagged With: == vs is, equality, identity', 'July 24, 2019 by Corey Schafer Leave a Comment ', 'In this Python Programming Tutorial, we will be learning how to run external commands using the subprocess module from the standard library. We will learn how to run commands, capture the output, handle errors, and also how to pipe output into other commands. Let’s get started…', 'Filed Under: Development, Python Tagged With: standard library, subprocess', 'May 1, 2019 by Corey Schafer Leave a Comment ', 'In this Python Programming Tutorial, we will be learning how to set up a Python development environment in VSCode on Windows. VSCode is a very nice free editor for writing Python applications and many developers are now switching over to this editor. In this video, we will learn how to install VSCode, get the Python extension installed, how to change Python interpreters, create virtual environments, format/lint our code, how to use Git within VSCode, how to debug our programs, how unit testing works, and more. We have a lot to cover, so let’s go ahead and get started…', 'VSCode on MacOS – https://youtu.be/06I63_p-2A4', 'Timestamps for topics in this tutorial: Installation – 1:13 Python Extension – 5:48 Switching Interpreters – 10:04 Changing Color Themes – 12:35 VSCode Settings – 16:16 Set Default Python – 21:33 Using Virtual Environments – 25:10 IntelliSense – 29:45 Code Formatting – 32:13 Code Linting – 37:06 Code Runner Extension – 39:42 Git Integration – 47:44 Use Different Terminal – 51:07 Debugging – 58:45 Unit Testing – 1:03:25 Zen Mode – 1:09:55', 'Filed Under: Development, Python Tagged With: Development Environment, visual studio code, visual studios, vs code, vscode', 'May 1, 2019 by Corey Schafer Leave a Comment ', 'In this Python Programming Tutorial, we will be learning how to set up a Python development environment in VSCode on MacOS. VSCode is a very nice free editor for writing Python applications and many developers are now switching over to this editor. In this video, we will learn how to install VSCode, get the Python extension installed, how to change Python interpreters, create virtual environments, format/lint our code, how to use Git within VSCode, how to debug our programs, how unit testing works, and more. We have a lot to cover, so let’s go ahead and get started…', 'VSCode on Windows – https://youtu.be/-nh9rCzPJ20', 'Timestamps for topics in this tutorial: Installation – 1:11 Python Extension – 6:21 Switching Interpreters – 10:16 Changing Color Themes – 13:08 VSCode Settings – 17:12 Set Default Python – 22:24 Using Virtual Environments – 25:52 IntelliSense – 30:28 Code Formatting – 33:08 Code Linting – 38:01 Code Runner Extension – 40:45 Git Integration – 49:05 Debugging – 58:15 Unit Testing – 1:02:38 Zen Mode – 1:10:42 ', 'Filed Under: Development, Python Tagged With: Development Environment, visual studio code, visual studios, vs code, vscode', 'April 24, 2019 by Corey Schafer Leave a Comment ', 'In this Python Programming Tutorial, we will be clarifying the issues with mutable default arguments. We discussed this in my last video titled “5 Common Python Mistakes and How to Fix Them”, but I received many comments from people who were still confused. So we will be doing a deeper dive to explain exactly what is going on here. Let’s get started…', 'Filed Under: Development, Python Tagged With: common errors, common mistakes, functions, mutable default arguments', 'Thank You! If you would like to have your name listed as a contributor and support the website, you can do so through my Patreon Page. I am extremely grateful for any support.', '©\\xa02021 · CoreyMS · Corey Schafer']\n",
      "************************************\n",
      "*****************Video_link****************\n",
      "['https://coreyms.com/', 'https://coreyms.com/', 'https://www.youtube.com/user/schafer5', 'https://github.com/CoreyMSchafer', 'https://plus.google.com/+CoreySchafer44/posts', 'https://twitter.com/CoreyMSchafer', 'https://www.instagram.com/coreymschafer/', 'http://coreyms.com/feed/', 'https://coreyms.com/contact', 'http://coreyms.com/portfolio', 'https://coreyms.com/category/development', 'https://coreyms.com/category/development/python', 'https://coreyms.com/category/development/git', 'https://coreyms.com/category/development/terminal', 'https://coreyms.com/category/development/javascript', 'https://coreyms.com/category/development/wordpress', 'https://coreyms.com/category/web-design', 'https://coreyms.com/category/web-design/css', 'https://coreyms.com/category/diy', 'https://coreyms.com/category/diy/woodworking', 'https://coreyms.com/category/diy/home-improvement', 'https://coreyms.com/contributors', 'https://coreyms.com/support', 'https://coreyms.com/giveaway', 'https://coreyms.com/development/python/python-tutorial-zip-files-creating-and-extracting-zip-archives', 'https://coreyms.com/author/coreymschafer', 'https://coreyms.com/development/python/python-tutorial-zip-files-creating-and-extracting-zip-archives#respond', 'https://coreyms.com/category/development', 'https://coreyms.com/category/development/python', 'https://coreyms.com/tag/gzip', 'https://coreyms.com/tag/shutil', 'https://coreyms.com/tag/zip', 'https://coreyms.com/tag/zipfile', 'https://coreyms.com/development/python/python-data-science-tutorial-analyzing-the-2019-stack-overflow-developer-survey', 'https://coreyms.com/author/coreymschafer', 'https://coreyms.com/development/python/python-data-science-tutorial-analyzing-the-2019-stack-overflow-developer-survey#respond', 'https://coreyms.com/category/development', 'https://coreyms.com/category/development/python', 'https://coreyms.com/tag/data-analysis', 'https://coreyms.com/tag/data-science', 'https://coreyms.com/tag/stack-overflow', 'https://coreyms.com/development/python/python-multiprocessing-tutorial-run-code-in-parallel-using-the-multiprocessing-module', 'https://coreyms.com/author/coreymschafer', 'https://coreyms.com/development/python/python-multiprocessing-tutorial-run-code-in-parallel-using-the-multiprocessing-module#respond', 'https://coreyms.com/category/development', 'https://coreyms.com/category/development/python', 'https://coreyms.com/tag/asynchronous', 'https://coreyms.com/tag/concurrent-futures', 'https://coreyms.com/tag/multiprocessing', 'https://coreyms.com/tag/parallel', 'https://coreyms.com/tag/threading', 'https://coreyms.com/development/python/python-threading-tutorial-run-code-concurrently-using-the-threading-module', 'https://coreyms.com/author/coreymschafer', 'https://coreyms.com/development/python/python-threading-tutorial-run-code-concurrently-using-the-threading-module#respond', 'https://coreyms.com/category/development', 'https://coreyms.com/category/development/python', 'https://coreyms.com/tag/asynchronous', 'https://coreyms.com/tag/concurrency', 'https://coreyms.com/tag/multiprocessing', 'https://coreyms.com/tag/threading', 'https://coreyms.com/general/update-2019-09-03', 'https://coreyms.com/author/coreymschafer', 'https://coreyms.com/general/update-2019-09-03#respond', 'https://coreyms.com/category/general', 'https://coreyms.com/development/python/python-quick-tip-the-difference-between-and-is-equality-vs-identity', 'https://coreyms.com/author/coreymschafer', 'https://coreyms.com/development/python/python-quick-tip-the-difference-between-and-is-equality-vs-identity#respond', 'https://coreyms.com/category/development', 'https://coreyms.com/category/development/python', 'https://coreyms.com/tag/vs-is', 'https://coreyms.com/tag/equality', 'https://coreyms.com/tag/identity', 'https://coreyms.com/development/python/python-tutorial-calling-external-commands-using-the-subprocess-module', 'https://coreyms.com/author/coreymschafer', 'https://coreyms.com/development/python/python-tutorial-calling-external-commands-using-the-subprocess-module#respond', 'https://coreyms.com/category/development', 'https://coreyms.com/category/development/python', 'https://coreyms.com/tag/standard-library', 'https://coreyms.com/tag/subprocess', 'https://coreyms.com/development/python/visual-studio-code-windows-setting-up-a-python-development-environment-and-complete-overview', 'https://coreyms.com/author/coreymschafer', 'https://coreyms.com/development/python/visual-studio-code-windows-setting-up-a-python-development-environment-and-complete-overview#respond', 'https://coreyms.com/category/development', 'https://coreyms.com/category/development/python', 'https://coreyms.com/tag/development-environment', 'https://coreyms.com/tag/visual-studio-code', 'https://coreyms.com/tag/visual-studios', 'https://coreyms.com/tag/vs-code', 'https://coreyms.com/tag/vscode', 'https://coreyms.com/development/python/visual-studio-code-mac-setting-up-a-python-development-environment-and-complete-overview', 'https://coreyms.com/author/coreymschafer', 'https://coreyms.com/development/python/visual-studio-code-mac-setting-up-a-python-development-environment-and-complete-overview#respond', 'https://coreyms.com/category/development', 'https://coreyms.com/category/development/python', 'https://coreyms.com/tag/development-environment', 'https://coreyms.com/tag/visual-studio-code', 'https://coreyms.com/tag/visual-studios', 'https://coreyms.com/tag/vs-code', 'https://coreyms.com/tag/vscode', 'https://coreyms.com/development/python/clarifying-the-issues-with-mutable-default-arguments', 'https://coreyms.com/author/coreymschafer', 'https://coreyms.com/development/python/clarifying-the-issues-with-mutable-default-arguments#respond', 'https://coreyms.com/category/development', 'https://coreyms.com/category/development/python', 'https://coreyms.com/tag/common-errors', 'https://coreyms.com/tag/common-mistakes', 'https://coreyms.com/tag/functions', 'https://coreyms.com/tag/mutable-default-arguments', 'https://coreyms.com/', 'https://coreyms.com/page/2', 'https://coreyms.com/page/3', 'https://coreyms.com/page/17', 'https://coreyms.com/page/2', 'https://www.patreon.com/coreyms', 'https://www.amazon.com/gp/product/1449355730/ref=as_li_tl?ie=UTF8&camp=1789&creative=9325&creativeASIN=1449355730&linkCode=as2&tag=coreyms-20&linkId=2f9ceaf471d7d35f2c2657051780fc6f', 'https://www.amazon.com/gp/product/1491946008/ref=as_li_tl?ie=UTF8&camp=1789&creative=9325&creativeASIN=1491946008&linkCode=as2&tag=coreyms-20&linkId=39335cdc340fb7ce5bd51d59c57e7e54', 'https://www.amazon.com/gp/product/1593276036/ref=as_li_tl?ie=UTF8&camp=1789&creative=9325&creativeASIN=1593276036&linkCode=as2&tag=coreyms-20&linkId=75ff844a147bc8cb5fb325608b286158', 'https://www.amazon.com/gp/product/0984782850/ref=as_li_tl?ie=UTF8&camp=1789&creative=9325&creativeASIN=0984782850&linkCode=as2&tag=coreyms-20&linkId=e2f7c21906426f17958a1d04718e7d02', 'https://www.amazon.com/gp/product/020161622X/ref=as_li_tl?ie=UTF8&camp=1789&creative=9325&creativeASIN=020161622X&linkCode=as2&tag=coreyms-20&linkId=a2699f6b6cb5814da54f71140c52f2ca', 'https://www.amazon.com/gp/product/0201835959/ref=as_li_tl?ie=UTF8&camp=1789&creative=9325&creativeASIN=0201835959&linkCode=as2&tag=coreyms-20&linkId=c3de80ab4a4761f7634751cf323af13f', 'http://talkpython.fm/', 'http://shoptalkshow.com/', 'http://www.se-radio.net/', 'http://hanselminutes.com/', 'https://blog.codepen.io/radio/', 'http://www.dancarlin.com/hardcore-history-series/', 'http://www.billburr.com/podcast', 'http://www.samharris.org/podcast', 'http://www.startalkradio.net/shows-archive/', 'http://carasantamaria.com/podcast/', 'http://coreyms.com']\n",
      "********************************************\n"
     ]
    }
   ],
   "source": [
    "from bs4 import BeautifulSoup\n",
    "import requests\n",
    "def find_header(link):\n",
    "    \n",
    "    \n",
    "    page = requests.get(link)\n",
    "    \n",
    "    soup = BeautifulSoup(page.content)\n",
    "    Heading_list =[]\n",
    "    headers = soup.find_all('h2',class_ = 'entry-title')\n",
    "    for i in headers:\n",
    "        Heading_list.append(i.text)\n",
    "    print(\"******Heading*******\")    \n",
    "    print(Heading_list)    \n",
    "    print(\"*********************\")\n",
    "    time_list = []\n",
    "    time = soup.find_all('time',class_='entry-time')\n",
    "    for i in time:\n",
    "        time_list.append(i.text)\n",
    "    print(\"********Date*****************\")    \n",
    "    print(time_list)\n",
    "    print(\"******************************\")\n",
    "    content_list =[]\n",
    "    content = soup.find_all('p')\n",
    "    for i in content:\n",
    "        content_list.append(i.text)\n",
    "    print(\"************Content***************\")      \n",
    "    print(content_list)  \n",
    "    print(\"************************************\") \n",
    "    video_link = []\n",
    "    video_src = soup.find_all('a')\n",
    "    for i in video_src:\n",
    "        video_link.append(i['href'])\n",
    "    print(\"*****************Video_link****************\")    \n",
    "    print(video_link) \n",
    "    print(\"********************************************\")\n",
    "        \n",
    "\n",
    "find_header(\"https://coreyms.com/\")"
   ]
  },
  {
   "cell_type": "code",
   "execution_count": null,
   "id": "8aac5a58",
   "metadata": {},
   "outputs": [],
   "source": []
  }
 ],
 "metadata": {
  "kernelspec": {
   "display_name": "Python 3",
   "language": "python",
   "name": "python3"
  },
  "language_info": {
   "codemirror_mode": {
    "name": "ipython",
    "version": 3
   },
   "file_extension": ".py",
   "mimetype": "text/x-python",
   "name": "python",
   "nbconvert_exporter": "python",
   "pygments_lexer": "ipython3",
   "version": "3.8.8"
  }
 },
 "nbformat": 4,
 "nbformat_minor": 5
}
