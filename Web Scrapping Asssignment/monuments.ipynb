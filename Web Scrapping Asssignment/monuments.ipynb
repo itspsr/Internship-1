{
 "cells": [
  {
   "cell_type": "code",
   "execution_count": 1,
   "id": "aae8a446",
   "metadata": {},
   "outputs": [
    {
     "name": "stdout",
     "output_type": "stream",
     "text": [
      "Collecting bs4\n",
      "  Downloading bs4-0.0.1.tar.gz (1.1 kB)\n",
      "Requirement already satisfied: beautifulsoup4 in c:\\users\\swati\\anaconda3\\lib\\site-packages (from bs4) (4.9.3)\n",
      "Requirement already satisfied: soupsieve>1.2 in c:\\users\\swati\\anaconda3\\lib\\site-packages (from beautifulsoup4->bs4) (2.2.1)\n",
      "Building wheels for collected packages: bs4\n",
      "  Building wheel for bs4 (setup.py): started\n",
      "  Building wheel for bs4 (setup.py): finished with status 'done'\n",
      "  Created wheel for bs4: filename=bs4-0.0.1-py3-none-any.whl size=1273 sha256=125b892193e6f67a8d073055e9ac169293f7cf4abe0ed0eaac1fd0f2e0e46428\n",
      "  Stored in directory: c:\\users\\swati\\appdata\\local\\pip\\cache\\wheels\\75\\78\\21\\68b124549c9bdc94f822c02fb9aa3578a669843f9767776bca\n",
      "Successfully built bs4\n",
      "Installing collected packages: bs4\n",
      "Successfully installed bs4-0.0.1\n",
      "Requirement already satisfied: requests in c:\\users\\swati\\anaconda3\\lib\\site-packages (2.25.1)\n",
      "Requirement already satisfied: chardet<5,>=3.0.2 in c:\\users\\swati\\anaconda3\\lib\\site-packages (from requests) (4.0.0)\n",
      "Requirement already satisfied: idna<3,>=2.5 in c:\\users\\swati\\anaconda3\\lib\\site-packages (from requests) (2.10)\n",
      "Requirement already satisfied: urllib3<1.27,>=1.21.1 in c:\\users\\swati\\anaconda3\\lib\\site-packages (from requests) (1.26.4)\n",
      "Requirement already satisfied: certifi>=2017.4.17 in c:\\users\\swati\\anaconda3\\lib\\site-packages (from requests) (2020.12.5)\n"
     ]
    }
   ],
   "source": [
    "!pip install bs4\n",
    "!pip install requests"
   ]
  },
  {
   "cell_type": "code",
   "execution_count": 35,
   "id": "daf4055a",
   "metadata": {},
   "outputs": [
    {
     "name": "stdout",
     "output_type": "stream",
     "text": [
      "['Taj Mahal, Agra', 'Golden Temple (Harmandir Sahib), Amritsar ', 'Meenakshi Temple, Madurai', 'Mysore Palace, Mysore', 'Gateway of India, Mumbai', 'Red Fort, New Delhi', 'Hawa Mahal, Jaipur', 'Qutub Minar, New Delhi', 'Sanchi Stupa, Sanchi', 'Charminar, Hyderabad']\n",
      "['Meenakshi Temple, Madurai', 'Meenakshi Temple is situated on the Southern banks of Vaigai River in the temple city Madurai. This temple is dedicated to Parvati and her consort, Shiva and is visited by most Hindu and Tamil devotees and architectural lovers throughout the world. It is believed that this shrine houses 33,000 sculptures in its 14 gopurams. It’s no doubt one place to visit if you are impressed with art and cultural history.', '', 'Mysore Palace, Mysore', 'The Mysore Palace is a famous historical monument in the city of Mysore in Karnataka. Commonly described as the City of Palaces, this is the most famous tourist attraction in India after the Taj Mahal. It is a sight not be missed with its spacious halls, lovely art paintings and Indo-Saracenic style architecture. Best time to visit is at night due to the astonishing illuminated lights covering the whole monument.', '', 'Gateway of India, Mumbai', 'Even though Mumbai is famous for its Bollywood actors and movies, the most famous attraction in Mumbai is The Gateway of India. It is a popular gathering spot for locals, travellers, street vendors and photographers and is known as the Taj Mahal of Mumbai. The majestic monument was built to commemorate the visit of King George V and Queen Mary to Bombay. With so much fun and excitement this place is not to be missed with family or on your tour of India.', '', 'Red Fort, New Delhi', 'Declared as the UNESCO’s World Heritage Site, Red Fort is located in the centre of beautiful Delhi. If you love learning about history and culture then this famous historic monument is a must see place to visit. Built by the Mughal Emperor, Shah Jahan in 1648, and housing a number of museums, its walls are built of red sandstone. The best time to visit is on Independence Day where the Prime Minister of India hoists the national flag at the Red Fort. End the day by heading to an Indian restaurant and enjoy the varieties of wonderful cuisines.', '', 'Hawa Mahal, Jaipur', 'Explore a blend of beauty and Rajasthan culture, the Hawa Mahal also known as Palace of Winds is situated in the capital of Rajasthan, Jaipur. Built from red and pink sandstones by the Maharaja Sawi Pratap Singh in 1799, this unique five storey structure is one of the most prominent tourist attractions in the Jaipur city.', '', 'Qutub Minar, New Delhi', 'Discover one of the tallest towers in the world and the second tallest Minar of India standing elegantly in the Capital city, New Delhi. Standing at 72.5 metres and consisting of around 379 stairs, this famous monument represents the rich architecture of India. As it is a UNESCO World Heritage Site made of red sandstone and decorated with Arabic and Brahmi inscriptions, travellers from around the world come to view this most famous tower in India.', '', 'Sanchi Stupa, Sanchi', 'The beautiful and massive dome, Sanchi Stupa also known as the Great Stupa is a world renowned Buddhist monument in Sanchi, India. It was constructed by Emperor Ashoka, and is one of the oldest stone structures in the heart of India. Experience the Indian culture by visiting these major attractions in Sanchi including a number of Buddhist Stupas, monasteries and temples.', '', 'Charminar, Hyderabad', 'No visit to Hyderabad should be complete without visiting the most famous and majestic monument known as the Charminar. This magnificent and striking mosque constructed in 1591 has four minarets and is the most recognisable symbol in the city of Hyderabad.', '', 'Things to know before planning your trip to India', 'Are you inspired to plan an incredible trip to India? Get in touch with Pure Destinations today to speak to a travel expert to plan a tailor made itinerary.\\xa0Fancy exploring these famous monuments in India? Why not\\xa0contact\\xa0us today!', 'Speak To Our Travel Experts', 'Get A Quote From The Experts', 'Find Out About Our Luxury Service', 'Keep up to date with all our exclusive offers, and the best inspiration and advice with by joining our mailing list.', 'Where to go. What to do. Check out all the latest hotspots by clicking here on use the button below to get a copy sent to your door.', '© 2021 Pure Destinations Ltd | Honeymoon Dreams is a trading name for Pure Destinations Ltd whose registered address can be found on Companies House, Company No. 10604545']\n",
      "https://www.facebook.com/tr?id=120737145081077&ev=PageView\n",
      "&noscript=1\n",
      "data:image/gif;base64,R0lGODlhAQABAAAAACH5BAEKAAEALAAAAAABAAEAAAICTAEAOw==\n",
      "https://www.puredestinations.co.uk/wp-content/themes/puredestinations/images/logo/puredestinations.png\n",
      "data:image/gif;base64,R0lGODlhAQABAAAAACH5BAEKAAEALAAAAAABAAEAAAICTAEAOw==\n",
      "https://www.puredestinations.co.uk/wp-content/uploads/2016/11/INDIA-BLOG-HEADER-1600x500.jpg\n",
      "data:image/gif;base64,R0lGODlhAQABAAAAACH5BAEKAAEALAAAAAABAAEAAAICTAEAOw==\n",
      "http://www.puredestinations.co.uk/wp-content/uploads/2016/11/TAJ-MAHAL-PD-BLOG.jpg\n",
      "data:image/gif;base64,R0lGODlhAQABAAAAACH5BAEKAAEALAAAAAABAAEAAAICTAEAOw==\n",
      "http://www.puredestinations.co.uk/wp-content/uploads/2016/11/Golden-Temple-PD-BLOG.jpg\n",
      "data:image/gif;base64,R0lGODlhAQABAAAAACH5BAEKAAEALAAAAAABAAEAAAICTAEAOw==\n",
      "http://www.puredestinations.co.uk/wp-content/uploads/2016/11/meenakshi-temple-PD-BLOG.jpg\n",
      "data:image/gif;base64,R0lGODlhAQABAAAAACH5BAEKAAEALAAAAAABAAEAAAICTAEAOw==\n",
      "http://www.puredestinations.co.uk/wp-content/uploads/2016/11/Mysore-palace-PD-BLOG.jpg\n",
      "data:image/gif;base64,R0lGODlhAQABAAAAACH5BAEKAAEALAAAAAABAAEAAAICTAEAOw==\n",
      "http://www.puredestinations.co.uk/wp-content/uploads/2016/11/gateway-to-india-PD-BLOG.jpg\n",
      "data:image/gif;base64,R0lGODlhAQABAAAAACH5BAEKAAEALAAAAAABAAEAAAICTAEAOw==\n",
      "http://www.puredestinations.co.uk/wp-content/uploads/2016/11/red-fort-PD-BLOG.jpg\n",
      "data:image/gif;base64,R0lGODlhAQABAAAAACH5BAEKAAEALAAAAAABAAEAAAICTAEAOw==\n",
      "http://www.puredestinations.co.uk/wp-content/uploads/2016/11/HAWA-MAHAL-PD-BLOG.jpg\n",
      "data:image/gif;base64,R0lGODlhAQABAAAAACH5BAEKAAEALAAAAAABAAEAAAICTAEAOw==\n",
      "http://www.puredestinations.co.uk/wp-content/uploads/2016/11/qutub-minar-PD-BLOG.jpg\n",
      "data:image/gif;base64,R0lGODlhAQABAAAAACH5BAEKAAEALAAAAAABAAEAAAICTAEAOw==\n",
      "http://www.puredestinations.co.uk/wp-content/uploads/2016/11/Sanchi-Stupi-PD-BLOG.jpg\n",
      "data:image/gif;base64,R0lGODlhAQABAAAAACH5BAEKAAEALAAAAAABAAEAAAICTAEAOw==\n",
      "http://www.puredestinations.co.uk/wp-content/uploads/2016/11/Charminar-PD-BLOG-1.jpg\n",
      "data:image/gif;base64,R0lGODlhAQABAAAAACH5BAEKAAEALAAAAAABAAEAAAICTAEAOw==\n",
      "https://www.puredestinations.co.uk/wp-content/themes/puredestinations/images/accreditations/abta.png\n",
      "data:image/gif;base64,R0lGODlhAQABAAAAACH5BAEKAAEALAAAAAABAAEAAAICTAEAOw==\n",
      "https://www.puredestinations.co.uk/wp-content/themes/puredestinations/images/accreditations/protected.png\n",
      "https://www.facebook.com/tr?id=106387616371570&ev=PageView&noscript=1\n"
     ]
    }
   ],
   "source": [
    "from bs4 import BeautifulSoup\n",
    "import requests\n",
    "def monuments(link):\n",
    "    \n",
    "    \n",
    "    page = requests.get(link)\n",
    "    #print(page)\n",
    "    soup = BeautifulSoup(page.content)\n",
    "    monuments_top_10 =[]\n",
    "    monuments_list=soup.find_all('strong')\n",
    "    for i in monuments_list:\n",
    "        monuments_top_10.append(i.text)\n",
    "    print(monuments_top_10[:10])\n",
    "    monument_desc =[]\n",
    "    monument_description = soup.find_all('p')\n",
    "    for i in monument_description:\n",
    "        monument_desc.append(i.text)\n",
    "    print(monument_desc[10:])    \n",
    "        \n",
    "    #images =[]\n",
    "    image = soup.find_all('img')   \n",
    "    #print(image)\n",
    "    \n",
    "    for i in image:\n",
    "        print(i['src'])\n",
    "   # print(images)          \n",
    "    \n",
    "monuments(\"https://www.puredestinations.co.uk/top-10-famous-monuments-to-visit-in-india/\")    \n",
    "\n"
   ]
  },
  {
   "cell_type": "code",
   "execution_count": null,
   "id": "8aac5a58",
   "metadata": {},
   "outputs": [],
   "source": []
  }
 ],
 "metadata": {
  "kernelspec": {
   "display_name": "Python 3",
   "language": "python",
   "name": "python3"
  },
  "language_info": {
   "codemirror_mode": {
    "name": "ipython",
    "version": 3
   },
   "file_extension": ".py",
   "mimetype": "text/x-python",
   "name": "python",
   "nbconvert_exporter": "python",
   "pygments_lexer": "ipython3",
   "version": "3.8.8"
  }
 },
 "nbformat": 4,
 "nbformat_minor": 5
}
