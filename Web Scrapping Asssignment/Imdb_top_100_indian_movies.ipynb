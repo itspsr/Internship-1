{
 "cells": [
  {
   "cell_type": "code",
   "execution_count": 1,
   "id": "aae8a446",
   "metadata": {},
   "outputs": [
    {
     "name": "stdout",
     "output_type": "stream",
     "text": [
      "Collecting bs4\n",
      "  Downloading bs4-0.0.1.tar.gz (1.1 kB)\n",
      "Requirement already satisfied: beautifulsoup4 in c:\\users\\swati\\anaconda3\\lib\\site-packages (from bs4) (4.9.3)\n",
      "Requirement already satisfied: soupsieve>1.2 in c:\\users\\swati\\anaconda3\\lib\\site-packages (from beautifulsoup4->bs4) (2.2.1)\n",
      "Building wheels for collected packages: bs4\n",
      "  Building wheel for bs4 (setup.py): started\n",
      "  Building wheel for bs4 (setup.py): finished with status 'done'\n",
      "  Created wheel for bs4: filename=bs4-0.0.1-py3-none-any.whl size=1273 sha256=125b892193e6f67a8d073055e9ac169293f7cf4abe0ed0eaac1fd0f2e0e46428\n",
      "  Stored in directory: c:\\users\\swati\\appdata\\local\\pip\\cache\\wheels\\75\\78\\21\\68b124549c9bdc94f822c02fb9aa3578a669843f9767776bca\n",
      "Successfully built bs4\n",
      "Installing collected packages: bs4\n",
      "Successfully installed bs4-0.0.1\n",
      "Requirement already satisfied: requests in c:\\users\\swati\\anaconda3\\lib\\site-packages (2.25.1)\n",
      "Requirement already satisfied: chardet<5,>=3.0.2 in c:\\users\\swati\\anaconda3\\lib\\site-packages (from requests) (4.0.0)\n",
      "Requirement already satisfied: idna<3,>=2.5 in c:\\users\\swati\\anaconda3\\lib\\site-packages (from requests) (2.10)\n",
      "Requirement already satisfied: urllib3<1.27,>=1.21.1 in c:\\users\\swati\\anaconda3\\lib\\site-packages (from requests) (1.26.4)\n",
      "Requirement already satisfied: certifi>=2017.4.17 in c:\\users\\swati\\anaconda3\\lib\\site-packages (from requests) (2020.12.5)\n"
     ]
    }
   ],
   "source": [
    "!pip install bs4\n",
    "!pip install requests"
   ]
  },
  {
   "cell_type": "code",
   "execution_count": 34,
   "id": "daf4055a",
   "metadata": {},
   "outputs": [
    {
     "name": "stdout",
     "output_type": "stream",
     "text": [
      "                               Movie Name Rating    Year\n",
      "0                  1.      Jai Bhim(2021)    8.7  (2021)\n",
      "1                   2.      Nayakan(1987)    8.5  (1987)\n",
      "2         3.      Pariyerum Perumal(2018)    8.5  (2018)\n",
      "3                4.      Anbe Sivam(2003)    8.5  (2003)\n",
      "4         5.      C/o Kancharapalem(2018)    8.5  (2018)\n",
      "..                                    ...    ...     ...\n",
      "95               96.      Sarfarosh(1999)    8.1  (1999)\n",
      "96                   97.      Queen(2013)    8.1  (2013)\n",
      "97                    98.      Roja(1992)    8.1  (1992)\n",
      "98          99.      Dil Chahta Hai(2001)    8.1  (2001)\n",
      "99        100.      OMG: Oh My God!(2012)    8.1  (2012)\n",
      "\n",
      "[100 rows x 3 columns]\n"
     ]
    }
   ],
   "source": [
    "from bs4 import BeautifulSoup\n",
    "import requests\n",
    "import pandas as pd\n",
    "\n",
    "def imdb_100_indian_movies(link):\n",
    "    page = requests.get(link)\n",
    "    #print(page)\n",
    "    soup = BeautifulSoup(page.content)\n",
    "    #print(soup)\n",
    "    ### Movie Name:-\n",
    "    top_rated_indian_movies = []\n",
    "    top_100_indian_movies = soup.find_all('td',class_ = \"titleColumn\")\n",
    "    for t in top_100_indian_movies: \n",
    "        top_rated_indian_movies.append(t.text)\n",
    "    length = 0\n",
    "    #while length < 100:\n",
    "        #print(top_rated_indian_movies[length])\n",
    "        #length += 1\n",
    "    top_rated_100_indian_movies = []\n",
    "    for m in top_rated_indian_movies[:100]:\n",
    "        top_rated_100_indian_movies.append(m.replace(\"\\n\",\"\"))\n",
    "    #print(top_rated_100_indian_movies[:100] ) \n",
    "     ####Ra   \n",
    "    top_100_rating = []\n",
    "    top_100_indmov_rate = soup.find_all('td',class_=\"ratingColumn imdbRating\")\n",
    "    for i in top_100_indmov_rate:\n",
    "        top_100_rating.append(i.text)\n",
    "    #print(top_100_rating[:100])\n",
    "    new_list = []\n",
    "    for r in top_100_rating[:100]:\n",
    "        \n",
    "        new_list.append(r.replace(\"\\n\",\"\"))\n",
    "    #print(new_list[:100]) \n",
    "    release_year=[]\n",
    "    top_indmov_rel = soup.find_all('span',class_ = \"secondaryInfo\")\n",
    "    for i in top_indmov_rel:\n",
    "        release_year.append(i.text)\n",
    "    #print(release_year[:100])    \n",
    "        \n",
    "    imdb_100_ind_movies_df = pd.DataFrame({ 'Movie Name' :top_rated_100_indian_movies[:100],\n",
    "                                        'Rating' : new_list[:100],\n",
    "                                        'Year' : release_year[:100]\n",
    "    \n",
    "    \n",
    "                                      })    \n",
    "\n",
    "    print(imdb_100_ind_movies_df)\n",
    "\n",
    "    \n",
    "    \n",
    "\n",
    "\n",
    "\n",
    "imdb_100_indian_movies(\"https://www.imdb.com/india/top-rated-indian-movies\")\n",
    "\n",
    "\n"
   ]
  },
  {
   "cell_type": "code",
   "execution_count": null,
   "id": "8aac5a58",
   "metadata": {},
   "outputs": [],
   "source": []
  }
 ],
 "metadata": {
  "kernelspec": {
   "display_name": "Python 3",
   "language": "python",
   "name": "python3"
  },
  "language_info": {
   "codemirror_mode": {
    "name": "ipython",
    "version": 3
   },
   "file_extension": ".py",
   "mimetype": "text/x-python",
   "name": "python",
   "nbconvert_exporter": "python",
   "pygments_lexer": "ipython3",
   "version": "3.8.8"
  }
 },
 "nbformat": 4,
 "nbformat_minor": 5
}
