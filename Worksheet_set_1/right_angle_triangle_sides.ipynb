{
 "cells": [
  {
   "cell_type": "code",
   "execution_count": 26,
   "id": "79f6ea70",
   "metadata": {},
   "outputs": [
    {
     "name": "stdout",
     "output_type": "stream",
     "text": [
      "4.0\n",
      "3.0\n",
      "here\n",
      "5.0\n"
     ]
    }
   ],
   "source": [
    "import math\n",
    "\n",
    "def pythagoras(base,perpendicular,hypotenuse):\n",
    "    if base == str(\"x\"):\n",
    "            #return (\"Base = \" + str(((hypotenuse**2) - (perpendicular**2))**0.5))\n",
    "        base = math.sqrt((hypotenuse**2) - (perpendicular**2))\n",
    "        return base\n",
    "    elif perpendicular == str(\"x\"):\n",
    "        perpendicular = math.sqrt((hypotenuse**2) - (base**2))\n",
    "        return perpendicular\n",
    "    elif hypotenuse == str(\"x\"):\n",
    "        hypotenuse = math.sqrt((base**2) + (perpendicular**2))\n",
    "        return hypotenuse                \n",
    "                \n",
    "print(pythagoras(3,'x',5))\n",
    "print(pythagoras('x',4,5))\n",
    "print(pythagoras(3,4,'x'))\n",
    "\n"
   ]
  },
  {
   "cell_type": "code",
   "execution_count": null,
   "id": "47c6fd35",
   "metadata": {},
   "outputs": [],
   "source": []
  }
 ],
 "metadata": {
  "kernelspec": {
   "display_name": "Python 3",
   "language": "python",
   "name": "python3"
  },
  "language_info": {
   "codemirror_mode": {
    "name": "ipython",
    "version": 3
   },
   "file_extension": ".py",
   "mimetype": "text/x-python",
   "name": "python",
   "nbconvert_exporter": "python",
   "pygments_lexer": "ipython3",
   "version": "3.8.8"
  }
 },
 "nbformat": 4,
 "nbformat_minor": 5
}
