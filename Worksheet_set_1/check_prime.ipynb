{
 "cells": [
  {
   "cell_type": "code",
   "execution_count": 1,
   "id": "0932de03",
   "metadata": {},
   "outputs": [
    {
     "name": "stdout",
     "output_type": "stream",
     "text": [
      "Enter the number : 47\n",
      "47 is  a Prime Number.\n"
     ]
    }
   ],
   "source": [
    "def isPrime(num):\n",
    "    checknotprime = False\n",
    "    if num > 1:\n",
    "        for i in range(2,num):\n",
    "            if num % i == 0:\n",
    "                checknotprime = True\n",
    "                break\n",
    "        if checknotprime:\n",
    "            print(f\"{num} is not a Prime Number.\")\n",
    "        else:\n",
    "            print(f\"{num} is  a Prime Number.\")\n",
    "\n",
    "n = int(input(\"Enter the number : \") )\n",
    "isPrime(n)"
   ]
  },
  {
   "cell_type": "code",
   "execution_count": null,
   "id": "a31278c5",
   "metadata": {},
   "outputs": [],
   "source": []
  }
 ],
 "metadata": {
  "kernelspec": {
   "display_name": "Python 3",
   "language": "python",
   "name": "python3"
  },
  "language_info": {
   "codemirror_mode": {
    "name": "ipython",
    "version": 3
   },
   "file_extension": ".py",
   "mimetype": "text/x-python",
   "name": "python",
   "nbconvert_exporter": "python",
   "pygments_lexer": "ipython3",
   "version": "3.8.8"
  }
 },
 "nbformat": 4,
 "nbformat_minor": 5
}
